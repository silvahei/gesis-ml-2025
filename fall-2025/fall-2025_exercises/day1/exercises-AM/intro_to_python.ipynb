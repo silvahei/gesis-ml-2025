{
  "cells": [
    {
      "cell_type": "markdown",
      "id": "0a642a14",
      "metadata": {
        "id": "0a642a14"
      },
      "source": [
        "# Getting Started with Python\n",
        "\n",
        "This notebook will introduce you to the fundamentals of programming in Python.\n"
      ]
    },
    {
      "cell_type": "markdown",
      "id": "b4e33cd4",
      "metadata": {
        "id": "b4e33cd4"
      },
      "source": [
        "## 0. Jupyter Notebooks"
      ]
    },
    {
      "cell_type": "markdown",
      "id": "d00d55a2",
      "metadata": {
        "id": "d00d55a2"
      },
      "source": [
        "### Welcome to your first Jupyter Notebook! 📓\n",
        "\n",
        "**Jupyter Notebooks** (`.ipynb` files) are an interactive way to write and run code. They combine:\n",
        "- 📝 **Markdown text cells** (like this one)\n",
        "- 💻 **Code cells** that can be executed individually\n",
        "\n",
        "> 💡 This is incredibly useful for learning and experimenting with code, as you can run small chunks of code and see the results immediately.\n",
        "\n",
        "### How to use this notebook:\n",
        "\n",
        "To run a single (selected) cell, press **`Shift + Enter`**:\n",
        "- For **code cells** → this will run the code (which will be printed immediately below the cell).\n",
        "- For **markdown cells** → this will render the markdown (which will be printed inside the cell)\n",
        "\n",
        "At the top of the notebook, you will see a toolbar with various options. You can use these to:\n",
        "- Add new cells (of either type).\n",
        "- Restart the kernel (python will forget all variables).\n",
        "- Clear all outputs (remove all printed output from code cells).\n",
        "\n",
        "> 💡 Restarting the kernel + clearing outputs is useful if you want to 'start fresh'. It will NOT delete any code you have written.\n",
        "\n",
        "---\n",
        "\n",
        "*Read on, and you will see we will start switching between text and code cells...*"
      ]
    },
    {
      "cell_type": "markdown",
      "id": "5ccbea06",
      "metadata": {
        "id": "5ccbea06"
      },
      "source": [
        "## 1. A little bit about your new friend (Python) 🐍"
      ]
    },
    {
      "cell_type": "markdown",
      "id": "e012d0b1",
      "metadata": {
        "id": "e012d0b1"
      },
      "source": [
        "⭐ **Python emphasizes 'readability' and follows the philosophy that code should be written to be read by humans first, computers second.**\n",
        "\n",
        "This is why Python often looks almost like plain English. **Make liberal use of in-line comments (using `#`) to explain your code.** This will help you (and others) understand it later!"
      ]
    },
    {
      "cell_type": "code",
      "execution_count": 1,
      "id": "0cb3d88e",
      "metadata": {
        "id": "0cb3d88e",
        "outputId": "45fb1e43-261b-4c49-9229-bdab0319ffbf",
        "colab": {
          "base_uri": "https://localhost:8080/"
        }
      },
      "outputs": [
        {
          "output_type": "stream",
          "name": "stdout",
          "text": [
            "HELLO, WORLD!\n"
          ]
        }
      ],
      "source": [
        "#let's define a string variable (i.e., text):\n",
        "my_string = \"Hello, World!\"\n",
        "\n",
        "#now let's make the string uppercase:\n",
        "my_string_upper = my_string.upper()\n",
        "#notice that we choose an informative name for our modified variable.\n",
        "#this is good practice, to keep track of what your variables contain.\n",
        "\n",
        "#print the modified string to the screen:\n",
        "print(my_string_upper)\n",
        "#notice that we pass the variable that we just created (and modified) to the print() function, which does exactly what it says: it prints stuff to the screen.\n",
        "\n",
        "#... now take a look\n",
        "\n",
        "#Of course, your code will get more complex than this, but the same principles apply. Choose informative names for your variables, and use comments to explain what your code does."
      ]
    },
    {
      "cell_type": "markdown",
      "id": "3872a4ec",
      "metadata": {
        "id": "3872a4ec"
      },
      "source": [
        "⭐ **Python is an 'object-oriented' programming language.**\n",
        " This means that it is made up of 'objects' that can `do` things (functions, methods) and `contain` things (data):"
      ]
    },
    {
      "cell_type": "code",
      "execution_count": null,
      "id": "f47f6225",
      "metadata": {
        "id": "f47f6225"
      },
      "outputs": [],
      "source": [
        "#And believe it or not, in the previous cell we already made use of all three of these!\n",
        "\n",
        "my_string = 'Hello, World!'  # This is a string 'object' that contains the data \"Hello, World!\"\n",
        "my_string_upper = my_string.upper()  # .upper() is a method that 'does' something to the string object that it 'belongs' to (it makes it uppercase).\n",
        "print(my_string_upper)  # print() is a function that 'does' something to the object that we pass to it (it prints it to the screen).\n",
        "\n",
        "#Functions are 'standalone' - they can be used on any object that is passed to them.\n",
        "#Methods, on the other hand, are 'attached' to a specific object type, and can only be used on that type of object.\n",
        "\n",
        "#This makes python a very powerful and flexible language - you can create your own objects, with their own methods and attributes."
      ]
    },
    {
      "cell_type": "markdown",
      "id": "0e20d091",
      "metadata": {
        "id": "0e20d091"
      },
      "source": [
        "⭐ **Python has a pre-loaded 'standard library'** - a massive collection of pre-written code modules that handle common tasks, so you don't have to write everything from scratch.\n"
      ]
    },
    {
      "cell_type": "code",
      "execution_count": 4,
      "id": "8d5f5d9b",
      "metadata": {
        "id": "8d5f5d9b",
        "outputId": "6f78f598-fb4a-4d2e-d6dd-945d281ebc62",
        "colab": {
          "base_uri": "https://localhost:8080/"
        }
      },
      "outputs": [
        {
          "output_type": "stream",
          "name": "stdout",
          "text": [
            "Wow, so easy!\n"
          ]
        },
        {
          "output_type": "stream",
          "name": "stderr",
          "text": [
            "UsageError: Line magic function `%` not found.\n"
          ]
        }
      ],
      "source": [
        "#Notice how we did not need to 'load in' anything to create a string variable, or use the print() function or the .upper() method in the previous cell.\n",
        "print('Wow, so easy!')\n",
        "\n",
        "#However, because of the highly specialized nature of python, there are many additional libraries (collections of pre-written code) that you will need to load in to do specific tasks.\n",
        "#...this is VERY MUCH the case for machine learning, where we will be using libraries such as numpy, pandas, matplotlib, and sklearn.\n",
        "\n",
        "#In order to use these (third-party) libraries, you must:\n",
        "\n",
        "#1. Install the library (only need to do this once!):\n",
        "% pip install numpy # the `%` is needed to run terminal commands from within a jupyter notebook.\n",
        "\n",
        "#2. Import the library (you will need to do this at the start of your python code, or notebook)\n",
        "import numpy as np #numpy is a library for numerical computing in python.\n",
        "\n",
        "#Importing the library makes it available in the current 'namespace' (i.e., the current code file or notebook) for use.\n",
        "#Abbreviating the library name (as np) is just a convention to make it easier to type repeatedly (you will get used to these).\n",
        "\n",
        "#Now that we have imported numpy, we can use it to perform basic numerical operations:\n",
        "result = np.mean([1,2,3,4,5]) #take the mean of a list of numbers (1 to 5).\n",
        "print(result)\n",
        "\n",
        "#That's it! Install, import, and use.\n",
        "\n",
        "#PROTIP: most third-party libraries have extensive documentation online. A quick google search will usually get you to the right place:\n",
        "#e.g., for numpy -  https://www.google.com/search?q=numpy+docs\n"
      ]
    },
    {
      "cell_type": "markdown",
      "id": "34496b9c",
      "metadata": {
        "id": "34496b9c"
      },
      "source": [
        "⭐ **Python is 'dynamically typed'.** This means you don't have to declare what type of data a variable will hold (like numbers, text, etc.) - Python figures it out automatically when you run your code."
      ]
    },
    {
      "cell_type": "code",
      "execution_count": null,
      "id": "6a56e523",
      "metadata": {
        "id": "6a56e523"
      },
      "outputs": [],
      "source": [
        "#for example, let's create two variables:\n",
        "a_number = 1\n",
        "another_number = 2.5\n",
        "a_nice_thought = \"more than the sum of its parts\"\n",
        "\n",
        "#now let's see what 'type' of object python decided to store these variables as:\n",
        "print(type(a_number))          # <class 'int'> - integer (whole number)\n",
        "print(type(another_number))    # <class 'float'> - floating point number (decimal number)\n",
        "print(type(a_nice_thought))    # <class 'str'> - string (text)\n",
        "\n",
        "#... see the outputs below? They will match the comments above.\n",
        "\n",
        "#PROTIP, as convenient as this is, sometimes we want to be explicit about what type of data we want to store in a variable.\n",
        "#We can do this by 'casting' the variable to a specific type:\n",
        "an_integer = int(2.5)  #cast to integer (will truncate the decimal part)\n",
        "a_float = float(2)     #cast to float (will add a decimal part)\n",
        "a_string = str(123)    #cast to string (will convert the number to text)\n",
        "\n",
        "#In practice, you will likely not bother with this until something goes wrong (e.g., you try to do math with a string, or concatenate a number to a string). That is OK!."
      ]
    },
    {
      "cell_type": "markdown",
      "id": "cdbbe7d0",
      "metadata": {
        "id": "cdbbe7d0"
      },
      "source": [
        "**Python uses 'indentation' (spaces or tabs) to organize code structure.** This makes Python code look clean and forces good formatting habits."
      ]
    },
    {
      "cell_type": "code",
      "execution_count": null,
      "id": "7a2844f7",
      "metadata": {
        "id": "7a2844f7"
      },
      "outputs": [],
      "source": [
        "#for example, let's create a simple conditional statement:\n",
        "\n",
        "secret_of_the_universe = 42 # the answer to life, the universe, and everything (stored as an integer)\n",
        "\n",
        "#here we go:\n",
        "if secret_of_the_universe == 42:\n",
        "    print(\"You found the secret of the universe!\")\n",
        "\n",
        "#notice the indentation (4 spaces) before the print statement. This indicates that the print statement is part of the if statement. This means it will only run if the 'if' condition is true.\n",
        "# (which it is, in this case, because we determined that the secret_of_the_universe variable is equal to 42).\n",
        "\n",
        "#indentation is VERY important in python - and you will quickly warm up to it, is it makes code MUCH easier to read."
      ]
    },
    {
      "cell_type": "markdown",
      "id": "d0728b97",
      "metadata": {
        "id": "d0728b97"
      },
      "source": [
        "## 2. Data Types\n",
        "> 💡 Use `type()` to check what data type a variable is: `type(my_variable)`"
      ]
    },
    {
      "cell_type": "markdown",
      "id": "d0440c42",
      "metadata": {
        "id": "d0440c42"
      },
      "source": [
        "#### **Basic Data Types**\n",
        "> ⚠️ These are the fundamental building blocks of python.\n",
        "\n",
        "**Integers (`int`)** - Whole numbers\n",
        "```python\n",
        "age = 25\n",
        "year = 2025\n",
        "negative_number = -10\n",
        "```\n",
        "\n",
        "**Floats (`float`)** - Numbers with decimal points\n",
        "```python\n",
        "height = 5.9\n",
        "temperature = 98.6\n",
        "pi = 3.14159\n",
        "```\n",
        "> 💡 Numbers are the most essential building blocks of machine learning, but you will not often need to manipulate them directly (in this course)."
      ]
    },
    {
      "cell_type": "code",
      "execution_count": null,
      "id": "6c9a36c1",
      "metadata": {
        "id": "6c9a36c1"
      },
      "outputs": [],
      "source": [
        "#Try different basic math operations on numbers (e.g., +, -, *, /, //, %, **)\n",
        "\n",
        "#Try importing tmean from scipy.stats and using it to calculate the mean of a list of numbers.\n",
        "\n",
        "#TIP: if you want to import one part of a larger library, you can use the 'from' keyword:\n",
        "from scipy.stats import tmean #this is saying: \"from the scipy.stats library, import the tmean function\"\n",
        "#This is a good idea - especially with larger libraries - because it saves memory and makes your code run faster."
      ]
    },
    {
      "cell_type": "markdown",
      "id": "00838705",
      "metadata": {
        "id": "00838705"
      },
      "source": [
        "**Strings (`str`)** - Text data (enclosed in quotes)\n",
        "```python\n",
        "name = \"Alice\"\n",
        "message = 'Hello, World!'\n",
        "multiline = \"\"\"This is a\n",
        "very long string\n",
        "that spans multiple lines\"\"\"\n",
        "```\n",
        "> 💡 You can use either single or double quotes to define strings in Python (be consistent). We will spend a good deal of time working with strings in this course.\n"
      ]
    },
    {
      "cell_type": "code",
      "execution_count": null,
      "id": "1baf5edc",
      "metadata": {
        "id": "1baf5edc"
      },
      "outputs": [],
      "source": [
        "#Define a string variable and try out some string methods on it (e.g., .upper(), .lower(), .replace(), .find(), .split(), .join()).\n",
        "\n",
        "#See what happens when you use math operations on strings (e.g., +, *, etc.) and how that differs from using them on numbers.\n",
        "\n",
        "#Define a string - then print the first character, last character, and a slice of the string (e.g., characters 2 to 5)."
      ]
    },
    {
      "cell_type": "markdown",
      "id": "904c8869",
      "metadata": {
        "id": "904c8869"
      },
      "source": [
        "**Booleans (`bool`)** - True or False values\n",
        "```python\n",
        "is_student = True\n",
        "has_graduated = False\n",
        "```\n",
        "> 💡 Booleans are very useful to keep track of 'states' in your code, to then be used in conditional statements. The 'T' and/or 'F' must be capitalized."
      ]
    },
    {
      "cell_type": "code",
      "execution_count": null,
      "id": "32695218",
      "metadata": {
        "id": "32695218"
      },
      "outputs": [],
      "source": [
        "# Define a string variable\n",
        "text = \"Python is great\"\n",
        "\n",
        "# Create a boolean variable that checks if the text length is greater than 10\n",
        "# HINT: use the len() function to get the length of the string\n",
        "\n",
        "# Use the boolean variable in a print statement.\n",
        "# HINT: print() can take multiple arguments, separated by commas.\n",
        "\n",
        "# Try changing the text to different lengths and see what happens!\n",
        "# Try: \"Hi\", \"Programming\", \"Machine learning is awesome\""
      ]
    },
    {
      "cell_type": "markdown",
      "id": "97bd3e96",
      "metadata": {
        "id": "97bd3e96"
      },
      "source": [
        "#### **Collection Data Types**\n",
        "> ⚠️ This is where things get more interesting. Collections can store multiple items, and you can nest collections inside other collections!\n",
        "\n",
        "> ⚠️ This is where you will first encounter the concept of 'iterability' - an object is iterable if it has more than one element in it.\n",
        "\n",
        "> ⚠️ This is also where you will first encounter the concept of 'mutability' - whether or not you can change the contents of a collection after it is created."
      ]
    },
    {
      "cell_type": "markdown",
      "id": "496ea8b0",
      "metadata": {
        "id": "496ea8b0"
      },
      "source": [
        "**Lists (`list`)** - Ordered, mutable collections\n",
        "```python\n",
        "list_of_strings = [\"apple\", \"banana\", \"orange\"]\n",
        "list_of_numbers = [1, 2, 3, 4, 5]\n",
        "list_of_mixed = [\"hello\", 42, True, 3.14]  # Lists can contain different data types!\n",
        "list_of_nested = [1, 2, [3, 4], 5]  # Lists can contain lists, or any other collection!\n",
        "```\n",
        "> 💡 You create a list using square brackets [].  You can then `.append()` something new to it, or `.extend()` it with an iterable.\n",
        "\n",
        "> 💡 Lists are great for storing data that you need to change (e.g., news articles that you will pre-process)."
      ]
    },
    {
      "cell_type": "code",
      "execution_count": null,
      "id": "bebe230a",
      "metadata": {
        "id": "bebe230a"
      },
      "outputs": [],
      "source": [
        "#Try creating a list, and then printing the first item, last item, and a slice of the list (e.g., items 2 to 5).\n",
        "\n",
        "#Try creating another list. Then, what happens if you .append() it to the first list? What if you use .extend() instead?"
      ]
    },
    {
      "cell_type": "markdown",
      "id": "eb168198",
      "metadata": {
        "id": "eb168198"
      },
      "source": [
        "**Tuples (`tuple`)** - Ordered, immutable collections\n",
        "```python\n",
        "tuple_of_strings = (\"apple\", \"banana\", \"orange\")\n",
        "tuple_of_numbers = (1, 2, 3, 4, 5)\n",
        "tuple_of_mixed = (\"hello\", 42, True, 3.14)\n",
        "tuple_of_nested = (1, 2, (3, 4), 5)\n",
        "```\n",
        "> 💡 You create a tuple using parentheses `()`. You cannot change the values of a tuple once it's created.\n",
        "\n",
        "> 💡 Tuples are great for storing data that should not change (e.g., keywords for a literature review search)."
      ]
    },
    {
      "cell_type": "code",
      "execution_count": null,
      "id": "9d735e2e",
      "metadata": {
        "id": "9d735e2e"
      },
      "outputs": [],
      "source": [
        "#What happens if you try to .append() or .extend() something to a tuple?\n",
        "\n",
        "#What happens if you define a tuple with a list nested inside it? Is the nested list mutable?"
      ]
    },
    {
      "cell_type": "markdown",
      "id": "76fc536a",
      "metadata": {
        "id": "76fc536a"
      },
      "source": [
        "**Dictionaries (`dict`)** - mutable collection of key-value pairs (like a phonebook).\n",
        "```python\n",
        "phonebook = {\n",
        "    \"Alice\": \"0555-1234\",\n",
        "    \"Bob\": \"0555-5678\",\n",
        "    \"Charlie\": \"0555-8765\"\n",
        "}\n",
        "# Access values using keys: phonebook[\"Bob\"] returns \"0555-5678\"\n",
        "```\n",
        "> 💡 You create dicts using the format '{key:value}'. To add a new k:v pair, you can use the syntax `dict[key] = value`; or use `.update()` to add multiple k:v pairs at once.\n",
        "\n",
        "> 💡 Dicts are extremely useful collections that you will use often, since they can store messy, nested data, and make retrieving it (by key) very fast."
      ]
    },
    {
      "cell_type": "code",
      "execution_count": null,
      "id": "37c83192",
      "metadata": {
        "id": "37c83192"
      },
      "outputs": [],
      "source": [
        "#Create a dictionary, add some items to it, and then print an item by its key.\n",
        "\n",
        "#Try adding multiple items to the dictionary at once using the .update() method.\n",
        "\n",
        "#Try calling .keys(), .values(), and .items() on the dictionary - what do they return?\n"
      ]
    },
    {
      "cell_type": "markdown",
      "id": "4b60b708",
      "metadata": {
        "id": "4b60b708"
      },
      "source": [
        "**Sets (`set`)** - Unordered, mutable collection of unique items.\n",
        "```python\n",
        "unique_numbers = {1, 2, 3, 4, 5}\n",
        "colors = {\"red\", \"green\", \"blue\"}\n",
        "# Sets automatically remove duplicates!\n",
        "```\n",
        "> 💡 You create a set using curly braces `{}`. Add items using the `.add()` method and remove items using the `.remove()` method.\n",
        "\n",
        "> 💡 Sets can only contain immutable objects (e.g., not lists or dictionaries).\n",
        "\n",
        "> 💡 Sets are great for storing unique items and performing mathematical set operations (like unions and intersections)."
      ]
    },
    {
      "cell_type": "code",
      "execution_count": null,
      "id": "52a97f46",
      "metadata": {
        "id": "52a97f46"
      },
      "outputs": [],
      "source": [
        "#Create a list of items, with one or more duplicates. Then cast it to a set using set(list). What happens to the duplicates?\n",
        "\n",
        "#What happens if an iterable element nested within a set (e.g., a tuple) contains duplicates?\n",
        "# e.g., as_an_example = {1, 2, 3, (1, 2, 3, 3), 4, 5, 6}"
      ]
    },
    {
      "cell_type": "markdown",
      "id": "ebd1ca0a",
      "metadata": {
        "id": "ebd1ca0a"
      },
      "source": [
        "#### **Third-Party Data Types**\n",
        "> ⚠️ Because of the flexible nature of python, there are many third-party libraries that define their own data types.\n",
        ">\n",
        "> ⚠️ Here we detail two that are of great relevance to machine learning and data science, that we will use in this course."
      ]
    },
    {
      "cell_type": "markdown",
      "id": "9735db5c",
      "metadata": {
        "id": "9735db5c"
      },
      "source": [
        "**NumPy Arrays (`numpy.ndarray`)** - mutable numerical arrays\n",
        "```python\n",
        "import numpy as np\n",
        "\n",
        "# 1D array (like a list but much faster for math)\n",
        "numbers = np.array([1, 2, 3, 4, 5])\n",
        "\n",
        "# 2D array (like a matrix)\n",
        "matrix = np.array([[1, 2, 3],\n",
        "                   [4, 5, 6]])\n",
        "\n",
        "# nD array (3D and beyond...)\n",
        "tensor = np.array([[[1, 2], [3, 4]], [[5, 6], [7, 8]]])\n",
        "\n",
        "# Arrays are great for fast mathematical operations\n",
        "result = numbers * 2  # Multiplies every element by 2\n",
        "```\n",
        "> 💡 NumPy arrays are more efficient than lists for numerical computations, and are the backbone of many machine learning libraries.\n",
        "\n",
        "> 💡 You will not often need to work directly with arrays, as many libraries (like TensorFlow and PyTorch) manage them 'under the hood'."
      ]
    },
    {
      "cell_type": "code",
      "execution_count": null,
      "id": "4b99bd20",
      "metadata": {
        "id": "4b99bd20"
      },
      "outputs": [],
      "source": [
        "#Create a list of numbers, and then convert it to a numpy array using np.array(list).\n",
        "\n",
        "#Create two different lists. Then, create a 2D numpy array (matrix) using np.array([list1, list2]).\n",
        "\n",
        "#What happens if you try to create a numpy array with lists of different lengths?"
      ]
    },
    {
      "cell_type": "markdown",
      "id": "47c98767",
      "metadata": {
        "id": "47c98767"
      },
      "source": [
        "**Pandas DataFrames (`pandas.DataFrame`)** - Excel-like data tables\n",
        "```python\n",
        "import pandas as pd\n",
        "\n",
        "# Create a DataFrame (like a spreadsheet)\n",
        "data = {\n",
        "    'name': ['Alice', 'Bob', 'Charlie'],\n",
        "    'age': [25, 30, 35],\n",
        "    'city': ['Berlin', 'Munich', 'Hamburg']\n",
        "}\n",
        "df = pd.DataFrame(data)\n",
        "\n",
        "# Access columns: df['name'] or df.name\n",
        "# Access rows: df.iloc[0] (first row)\n",
        "```\n",
        "> 💡 DataFrames are incredibly powerful for data manipulation and analysis, with many built-in functions for filtering, grouping, and aggregating data.\n",
        "\n",
        "> 💡 They should in many ways be the most 'familiar' data structure for anyone who has used excel (e.g., csv files), or tibbles in R.\n",
        "\n",
        "> 💡 However, their usefulness is limited to data that can be arranged in a tabular format (i.e., rows and columns), which is often not the case for messy text data."
      ]
    },
    {
      "cell_type": "code",
      "execution_count": null,
      "id": "95713351",
      "metadata": {
        "id": "95713351"
      },
      "outputs": [],
      "source": [
        "#create three lists of equal length (these will be our 'columns')\n",
        "\n",
        "#Then, create a pandas DataFrame using pd.DataFrame({'col1': list1, 'col2': list2, 'col3': list3}).\n",
        "\n",
        "#Describe the DataFrame using df.describe().\n",
        "\n",
        "#Take a look at the first three rows of the DataFrame using df.head(3).\n",
        "\n",
        "#Isolate a particular row or column of the DataFrame using df.iloc[] and df[].\n",
        "\n",
        "#Check the 'type' of a single column of the DataFrame - is it still a list? or something else?"
      ]
    },
    {
      "cell_type": "markdown",
      "id": "78431383",
      "metadata": {
        "id": "78431383"
      },
      "source": [
        "## 3. Control Structures\n",
        "> 💡 Control structures allow you to design decision points and control the flow of your code.\n"
      ]
    },
    {
      "cell_type": "markdown",
      "id": "c07eab57",
      "metadata": {
        "id": "c07eab57"
      },
      "source": [
        "### **Conditional Statements**\n",
        "> ⚠️ Use these when you want your code to do different things based on different conditions.\n",
        "\n",
        "**`if/elif/else` statements** - execute code based on boolean conditions\n",
        "```python\n",
        "temperature = 25\n",
        "\n",
        "if temperature > 30:\n",
        "    print(\"It's hot!\")\n",
        "elif temperature > 20:\n",
        "    print(\"It's nice!\")\n",
        "else:\n",
        "    print(\"It's cold!\")\n",
        "```\n",
        "\n",
        "**Comparison operators** - compare values and return a boolean (`True` or `False`)\n",
        "```python\n",
        "# == (equal), != (not equal), > (greater), < (less), >= (greater or equal), <= (less or equal)\n",
        "age = 18\n",
        "is_adult = age >= 18  # Returns True or False\n",
        "```\n",
        "\n",
        "**Logical operators** - Combine multiple conditions\n",
        "```python\n",
        "# and, or, not\n",
        "age = 25\n",
        "has_license = True\n",
        "\n",
        "if age >= 18 and has_license:\n",
        "    print(\"Can drive!\")\n",
        "    \n",
        "if age < 16 or not has_license:\n",
        "    print(\"Cannot drive!\")\n",
        "```\n",
        "\n",
        "**Membership operators** - Check if items exist in collections\n",
        "```python\n",
        "# in, not in\n",
        "fruits = [\"apple\", \"banana\", \"orange\"]\n",
        "if \"apple\" in fruits:\n",
        "    print(\"We have apples!\")\n",
        "```"
      ]
    },
    {
      "cell_type": "code",
      "execution_count": null,
      "id": "ee5a9206",
      "metadata": {
        "id": "ee5a9206"
      },
      "outputs": [],
      "source": [
        "#try experimenting with conditional statements to control the flow of your code (e.g., if, elif, else)."
      ]
    },
    {
      "cell_type": "markdown",
      "id": "c87b4e8e",
      "metadata": {
        "id": "c87b4e8e"
      },
      "source": [
        "### **Loops**\n",
        "> ⚠️ Use loops when you want to do the same thing multiple times, or go through an iterable collection of data.\n",
        "\n",
        "**For loops** - Iterate through known sequences\n",
        "```python\n",
        "# Loop through a list\n",
        "fruits = [\"apple\", \"banana\", \"orange\"]\n",
        "for fruit in fruits:\n",
        "    print(f\"I like {fruit}\")\n",
        "\n",
        "# Loop through numbers\n",
        "for i in range(5):  # 0, 1, 2, 3, 4\n",
        "    print(f\"Count: {i}\")\n",
        "```\n",
        "\n",
        "**While loops** - Repeat until a condition changes\n",
        "```python\n",
        "count = 0\n",
        "while count < 3:\n",
        "    print(f\"Count is {count}\")\n",
        "    count += 1  # Same as: count = count + 1\n",
        "```"
      ]
    },
    {
      "cell_type": "code",
      "execution_count": null,
      "id": "51a87b3d",
      "metadata": {
        "id": "51a87b3d"
      },
      "outputs": [],
      "source": [
        "#try experimenting with a simple loop, to modify an iterable (e.g., a list of strings) in some way (e.g., .upper(), .split(), etc.)"
      ]
    },
    {
      "cell_type": "markdown",
      "id": "4e7b9d11",
      "metadata": {
        "id": "4e7b9d11"
      },
      "source": [
        "### **Flow Control**\n",
        "> ⚠️ Use continue and break statements to 'skip' or 'exit' loops early under certain conditions.\n",
        "```python\n",
        "# break - exit the loop completely\n",
        "# continue - skip to the next iteration\n",
        "\n",
        "for i in range(10):\n",
        "    if i == 3:\n",
        "        continue  # Skip when i is 3\n",
        "    if i == 7:\n",
        "        break     # Stop when i is 7\n",
        "    print(i)\n",
        "```"
      ]
    },
    {
      "cell_type": "code",
      "execution_count": null,
      "id": "2674c175",
      "metadata": {
        "id": "2674c175"
      },
      "outputs": [],
      "source": [
        "#try to include flow controls into your loop from above."
      ]
    },
    {
      "cell_type": "markdown",
      "id": "fbede19a",
      "metadata": {
        "id": "fbede19a"
      },
      "source": [
        "## 4. Functions\n",
        "> 💡 Functions are reusable blocks of code that perform specific tasks. You can define them once, then use them multiple times."
      ]
    },
    {
      "cell_type": "markdown",
      "id": "5bad4228",
      "metadata": {
        "id": "5bad4228"
      },
      "source": [
        "**Basic function** -\n",
        "```python\n",
        "def clean_text(text):                                        #...here we define a function called 'clean_text' that takes one argument, 'text'\n",
        "    \"\"\"Remove extra whitespace and convert to lowercase.\"\"\"  #...this is a called a 'docstring' and it explains what the function does\n",
        "    cleaned = text.strip().lower()                           #...this line does the actual work:  .strip() whitespace and .lower() the text\n",
        "    return cleaned                                           #...this line returns the cleaned text to whatever called the function\n",
        "    \n",
        "# Process a text\n",
        "raw_text = \"  HELLO WORLD!  \"\n",
        "clean_text = clean_text(raw_text)\n",
        "print(clean_text)  # Output: hello world!                                     \n",
        "```\n",
        "\n",
        "💡 Notice the indentation after the function definition. This tells Python what code belongs to the function.\n",
        "\n",
        "⚠️ Anything that is not 'returned' from a function is lost when the function ends."
      ]
    },
    {
      "cell_type": "code",
      "execution_count": null,
      "id": "ba86eef8",
      "metadata": {
        "id": "ba86eef8"
      },
      "outputs": [],
      "source": [
        "#try defining a function that takes two numbers as input and returns their sum.\n",
        "\n",
        "#what happens if you do not include the return statement? How is this different from printing the result inside the function?"
      ]
    },
    {
      "cell_type": "markdown",
      "id": "16290676",
      "metadata": {
        "id": "16290676"
      },
      "source": [
        "**Function with keyword arguments** -\n",
        "```python\n",
        "def preprocess_text(text, lowercase=True, remove_punctuation=False): #...this time, we take the text along with two optional keyword arguments.\n",
        "    \"\"\"Preprocess text with two options.\n",
        "        - lowercase: Convert text to lowercase (default: True)\n",
        "        - remove_punctuation: Remove punctuation from text (default: False)\n",
        "    \"\"\"\n",
        "    if lowercase:                         #...if the 'lowercase' argument is True (default), we lowercase the text    \n",
        "        text = text.lower()\n",
        "    if remove_punctuation:                #...if the 'remove_punctuation' argument is True (default is False), we remove some common punctuation\n",
        "        text = text.replace(\"!\", \"\").replace(\"?\", \"\").replace(\".\", \"\")\n",
        "    return text\n",
        "\n",
        "# Can call with keywords in any order\n",
        "processed = preprocess_text(\"Hello World!\", remove_punctuation=True, lowercase=True)\n",
        "print(processed)  # Output: hello world\n",
        "```\n",
        "> 💡 Almost all functions will take an input, along with keyword arguments to customize their behavior. These (should) be documented in the docstring."
      ]
    },
    {
      "cell_type": "code",
      "execution_count": null,
      "id": "07054863",
      "metadata": {
        "id": "07054863"
      },
      "outputs": [],
      "source": [
        "#What happens if you call the function with only the text argument? Why?\n",
        "\n",
        "#What happens when you hover over the function name in a Jupyter notebook? Can you see the docstring we added? Trying doing the same for print()."
      ]
    },
    {
      "cell_type": "markdown",
      "id": "7fb4b8d6",
      "metadata": {
        "id": "7fb4b8d6"
      },
      "source": [
        "## 5. Errors\n",
        "> 💡 Errors are a normal part of programming - learning to read the error message and the 'stack trace' (i.e., which part of the code broke) is important."
      ]
    },
    {
      "cell_type": "markdown",
      "id": "b16e3e5c",
      "metadata": {
        "id": "b16e3e5c"
      },
      "source": [
        "### **Reading Error Messages**\n",
        "```python\n",
        "# Error messages tell you:\n",
        "# 1. What type of error occurred\n",
        "# 2. Where it happened (line number)\n",
        "\n",
        "text = \"Natural Language Processing\"\n",
        "print(text[100])  # IndexError: string index out of range\n",
        "#     ^^^^^^^^^\n",
        "#     This points to exactly where the problem is!\n",
        "```"
      ]
    },
    {
      "cell_type": "code",
      "execution_count": null,
      "id": "a1398f1b",
      "metadata": {
        "id": "a1398f1b"
      },
      "outputs": [],
      "source": [
        "#try to print a non-existent variable (e.g., print(nothing)). Identify the type of error you get, and where the error occured."
      ]
    },
    {
      "cell_type": "markdown",
      "id": "b37942f8",
      "metadata": {
        "id": "b37942f8"
      },
      "source": [
        "### **Common Error Types**\n",
        "\n",
        "**SyntaxError** - there is a problem with the structure of your code\n",
        "```python\n",
        "# e.g., missing colon\n",
        "if True\n",
        "    print(\"This will cause a SyntaxError\")\n",
        "\n",
        "# e.g., unmatched parentheses\n",
        "print(\"Hello world!\"\n",
        "```\n",
        "\n",
        "**NameError** - you are trying to use an object that hasn't been defined\n",
        "```python\n",
        "print(undefined_variable)  # NameError: name 'undefined_variable' is not defined\n",
        "```\n",
        "\n",
        "**TypeError** - you are trying to perform an operation on incompatible data types\n",
        "```python\n",
        "text = \"Hello\"\n",
        "number = 5\n",
        "result = text + number  # TypeError: can't concatenate str and int\n",
        "```\n",
        "\n",
        "**IndexError** - you are trying to access an index that doesn't exist in an iterable\n",
        "```python\n",
        "words = [\"apple\", \"banana\"]\n",
        "print(words[5])  # IndexError: list index out of range\n",
        "```\n",
        "\n",
        "**KeyError** - you are trying to access a dictionary key that doesn't exist\n",
        "```python\n",
        "person = {\"name\": \"Alice\", \"age\": 25}\n",
        "print(person[\"height\"])  # KeyError: 'height'\n",
        "```"
      ]
    },
    {
      "cell_type": "markdown",
      "id": "87d2d02c",
      "metadata": {
        "id": "87d2d02c"
      },
      "source": [
        "### **Handling Errors with Try/Except**\n",
        "> 💡 try/except blocks allow you to 'try' code that you know might fail, and if it does - rather than crash - it will move to an 'except' block and run that instead.\n",
        "\n",
        "```python\n",
        "documents = [\"Document 1\", \"Document 2\"]\n",
        "\n",
        "try:\n",
        "    doc = documents[5]  # This will cause an IndexError\n",
        "    processed = doc.lower()\n",
        "except IndexError:\n",
        "    print(\"Document index doesn't exist!\")\n",
        "    doc = \"Default document\"\n",
        "    processed = doc.lower()\n",
        "\n",
        "print(processed)\n",
        "```\n",
        "> ⚠️ While useful, it is best to avoid using try/except blocks unless absolutely necessary. This is because they 'swallow' errors that would otherwise help you identify problems in your code - problems that might become apparent later on, when your code is more complex and harder to debug. In other words - it is sometimes better to fix the root cause."
      ]
    },
    {
      "cell_type": "markdown",
      "id": "ec19c18d",
      "metadata": {
        "id": "ec19c18d"
      },
      "source": [
        "## 6. BONUS - Advanced Python Features\n",
        "> 💡 These are more advanced techniques that will make your code more concise and efficient."
      ]
    },
    {
      "cell_type": "markdown",
      "id": "8a0c8aa6",
      "metadata": {
        "id": "8a0c8aa6"
      },
      "source": [
        "### **List Comprehensions**\n",
        "> 💡 Essentially: a more compact version of a loop that creates or modifies lists. Very useful for text processing!\n",
        "\n",
        "> ⚠️ Most useful for simple transformations. For more complex logic, use regular loops as they are easier to read.\n"
      ]
    },
    {
      "cell_type": "code",
      "execution_count": null,
      "id": "f2c5c24d",
      "metadata": {
        "id": "f2c5c24d"
      },
      "outputs": [],
      "source": [
        "#Imagine, you have a list of words, and you want to create a new list with all the words in uppercase.\n",
        "#...you could do this with a for loop (and it works fine):\n",
        "words = [\"hello\", \"world\", \"python\", \"nlp\"]\n",
        "uppercase_words = []\n",
        "for word in words:\n",
        "    uppercase_words.append(word.upper())\n",
        "print(uppercase_words)"
      ]
    },
    {
      "cell_type": "code",
      "execution_count": null,
      "id": "13e6fd50",
      "metadata": {
        "id": "13e6fd50"
      },
      "outputs": [],
      "source": [
        "#or you could use a list comprehension:\n",
        "uppercase_words = [word.upper() for word in words]\n",
        "print(uppercase_words)\n",
        "\n",
        "#This is equivalent to the for loop above, but in a single line of code!\n",
        "\n",
        "#Some further examples -\n",
        "\n",
        "# Clean and normalize strings:\n",
        "messy_texts = [\"  Hello  \", \"WORLD!\", \"  python  \"]\n",
        "clean_texts = [text.strip().lower() for text in messy_texts]\n",
        "print(clean_texts)  # ['hello', 'world!', 'python']\n",
        "\n",
        "# Get only long words (>4 characters) and make them uppercase\n",
        "words = [\"cat\", \"python\", \"dog\", \"machine\", \"learning\"]\n",
        "long_words = [word.upper() for word in words if len(word) > 4]\n",
        "print(long_words)"
      ]
    },
    {
      "cell_type": "markdown",
      "id": "5793040f",
      "metadata": {
        "id": "5793040f"
      },
      "source": [
        "### **Dictionary Comprehensions**\n",
        "> 💡 These are exactly the same as list comprehensions, but for creating/modifying dictionaries! (i.e., they iterate key-value pairs).\n"
      ]
    },
    {
      "cell_type": "code",
      "execution_count": null,
      "id": "70f698e9",
      "metadata": {
        "id": "70f698e9"
      },
      "outputs": [],
      "source": [
        "#Imagine, you have a list of words, and you want to create a dictionary that maps each word to its length.\n",
        "#...you could do this with a for loop (and it works fine):\n",
        "words = [\"apple\", \"banana\", \"cherry\"]\n",
        "word_lengths = {}\n",
        "for word in words:\n",
        "    word_lengths[word] = len(word)\n",
        "print(word_lengths)\n",
        "\n",
        "#...or you could use a dictionary comprehension:\n",
        "word_lengths = {word: len(word) for word in words}\n",
        "print(word_lengths)\n",
        "\n",
        "#Some further examples -\n",
        "\n",
        "# Create word frequency mapping\n",
        "text = \"python is great python is powerful\"\n",
        "words = text.split()\n",
        "word_freq = {word: words.count(word) for word in set(words)}\n",
        "print(word_freq)\n",
        "\n",
        "# Convert text to uppercase keys with original as values\n",
        "texts = [\"Hello\", \"World\", \"Python\"]\n",
        "text_mapping = {text.upper(): text for text in texts}\n",
        "print(text_mapping)"
      ]
    },
    {
      "cell_type": "markdown",
      "id": "e9863050",
      "metadata": {
        "id": "e9863050"
      },
      "source": [
        "### **Generators**\n",
        "> 💡 Generators create items on-demand instead of storing everything in memory. Great for processing large datasets!\n",
        "\n",
        "**Basic generator** - Use `yield` instead of `return`\n",
        "```python\n",
        "def text_processor():\n",
        "    \"\"\"Generator that yields processed text one at a time.\"\"\"\n",
        "    texts = [\"  HELLO  \", \"  WORLD  \", \"  PYTHON  \"]\n",
        "    for text in texts:\n",
        "        yield text.strip().lower()\n",
        "\n",
        "# Use the generator\n",
        "processor = text_processor()\n",
        "for clean_text in processor:\n",
        "    print(clean_text)\n",
        "# Output: hello, world, python (one at a time)\n",
        "```\n",
        "> ⚠️ While generators are very memory efficient, they can only be iterated once. After that, they are 'exhausted' and you need to create a new one.\n"
      ]
    }
  ],
  "metadata": {
    "kernelspec": {
      "display_name": "gesis_iml",
      "language": "python",
      "name": "python3"
    },
    "language_info": {
      "codemirror_mode": {
        "name": "ipython",
        "version": 3
      },
      "file_extension": ".py",
      "mimetype": "text/x-python",
      "name": "python",
      "nbconvert_exporter": "python",
      "pygments_lexer": "ipython3",
      "version": "3.10.14"
    },
    "colab": {
      "provenance": []
    }
  },
  "nbformat": 4,
  "nbformat_minor": 5
}