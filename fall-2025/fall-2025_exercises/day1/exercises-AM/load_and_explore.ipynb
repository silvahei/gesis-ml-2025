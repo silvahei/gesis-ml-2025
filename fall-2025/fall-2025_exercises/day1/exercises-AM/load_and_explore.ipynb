{
  "cells": [
    {
      "cell_type": "markdown",
      "id": "beadb4e2",
      "metadata": {
        "id": "beadb4e2"
      },
      "source": [
        "# Loading and Exploring Data\n",
        "\n",
        "This notebook will guide you through loading and exploring some of the demonstration datasets we'll be using in this course.\n",
        "\n",
        "> 💡 At the end, there is a short exercise for you to practice loading and exploring your own dataset.\n",
        "\n",
        "\n",
        "\n",
        "<img src=\"https://github.com/annekroon/gesis-machine-learning/blob/fall-2025/pictures/lego_stack/01_preprocessing.png?raw=1\" alt=\"Preprocessing diagram\" style=\"max-width: 150px;\">\n",
        "\n",
        "These datasets include:\n",
        "\n",
        "- The [Large Movie Review Dataset](https://ai.stanford.edu/~amaas/data/sentiment/) - a collection of 50,000 labeled IMDB reviews for binary sentiment classification.\n",
        "- The [NELA-PS dataset](https://surfdrive.surf.nl/files/index.php/s/bfNFkuUVoVtiyuk) -  a collection of 'pink slime' partisan news articles (from which we will use a small sample).\n",
        "- The [WSJ-Reuters Financial News dataset](https://github.com/Finance-And-ML/News-Article-And-Full-Details-Dataset) - a collection of financial news from the Wall Street Journal and Reuters.\n",
        "- The [fetch_20newsgroups dataset](https://scikit-learn.org/0.19/datasets/twenty_newsgroups.html) - a collection of approximately 20,000 newsgroup documents, organized into 20 different newsgroups.\n",
        "\n",
        "\n",
        "In addition, you can load and explore your own dataset at the end of the notebook.\n",
        "\n",
        "If you do not yet have a dataset, you might consider taking a look at [kaggle](www.kaggle.com/datasets) or [huggingface](https://huggingface.co/datasets), or the [Harvard Dataverse](https://dataverse.harvard.edu/) to find one that interests you.\n"
      ]
    },
    {
      "cell_type": "code",
      "execution_count": null,
      "id": "c44489f3",
      "metadata": {
        "id": "c44489f3"
      },
      "outputs": [],
      "source": [
        "import os\n",
        "image_path = \"../../../../pictures/lego_stack/01_preprocessing.png\"\n",
        "print(\"File exists:\", os.path.exists(image_path))\n",
        "print(\"Absolute path:\", os.path.abspath(image_path))"
      ]
    },
    {
      "cell_type": "markdown",
      "id": "7266820d",
      "metadata": {
        "id": "7266820d"
      },
      "source": [
        "## Setup"
      ]
    },
    {
      "cell_type": "markdown",
      "id": "edeff7ab",
      "metadata": {
        "id": "edeff7ab"
      },
      "source": [
        "> 💡 We're going to start by loading in all the packages we'll need for this. This is best practice and will help keep our code organized."
      ]
    },
    {
      "cell_type": "code",
      "execution_count": 58,
      "id": "25bec3ec",
      "metadata": {
        "id": "25bec3ec"
      },
      "outputs": [],
      "source": [
        "#Let's get starting importing the necessary libraries.\n",
        "#The reason that we import these at the start is so that we can see if there are any issues with our environment before we start running any code.\n",
        "#...it also makes it easier to keep track of what packages we are using (and avoid loading the same package multiple times).\n",
        "\n",
        "import os #allows python to talk to the operating system (e.g., to get filepaths).\n",
        "import json #we'll need this for reading in .json files (dictionaries)\n",
        "import pandas as pd #pandas will allow us to work with dataframes (tabular, or .csv-like data)\n",
        "from glob import glob #glob is helpful if you want to load in multiple files at once (it constructs file paths).\n",
        "\n",
        "#If everything imported successfully, you should see no error messages! Else, you may need to install some packages (% pip install package-name).\n",
        "\n",
        "#Let's also set a variable that points to the folder where our data is stored:\n",
        "#datadir = '/Users/rupertkiddle/Desktop/teach/2025/IMLfTAwP (GESIS)/3_datasets/'"
      ]
    },
    {
      "cell_type": "markdown",
      "id": "e59fd762",
      "metadata": {
        "id": "e59fd762"
      },
      "source": [
        "## 1. Large Movie Review Dataset (IMDB)"
      ]
    },
    {
      "cell_type": "markdown",
      "id": "30b97345",
      "metadata": {
        "id": "30b97345"
      },
      "source": [
        "### loading the data"
      ]
    },
    {
      "cell_type": "code",
      "execution_count": 91,
      "id": "955ac8d6",
      "metadata": {
        "id": "955ac8d6"
      },
      "outputs": [],
      "source": [
        "#first, let's define where this dataset is stored on your computer:\n",
        "datadir = '/Users/rupertkiddle/Desktop/teach/2025/IMLfTAwP (GESIS)/3_datasets/aclImdb/'"
      ]
    },
    {
      "cell_type": "code",
      "source": [
        "from google.colab import files\n",
        "import zipfile\n",
        "import os\n",
        "\n",
        "# Upload the zip file\n",
        "uploaded = files.upload()\n",
        "\n",
        "# Let's assume the file is named \"mydata.zip\"\n",
        "zip_path = list(uploaded.keys())[0]  # get uploaded filename\n",
        "extract_dir = \"/content/data\"\n",
        "\n",
        "# Extract into a folder\n",
        "with zipfile.ZipFile(zip_path, 'r') as zip_ref:\n",
        "    zip_ref.extractall(extract_dir)\n",
        "\n",
        "# Point datadir to where files got extracted\n",
        "datadir = extract_dir\n",
        "print(\"Extracted to:\", datadir)\n",
        "\n",
        "# Check the nested structure\n",
        "for root, dirs, files in os.walk(datadir):\n",
        "    print(root, len(files), \"files\")"
      ],
      "metadata": {
        "colab": {
          "base_uri": "https://localhost:8080/",
          "height": 411
        },
        "id": "vCzAYNkkwa3C",
        "outputId": "17ec272b-fd29-489a-9acd-65c9111eaaf2"
      },
      "id": "vCzAYNkkwa3C",
      "execution_count": 92,
      "outputs": [
        {
          "output_type": "display_data",
          "data": {
            "text/plain": [
              "<IPython.core.display.HTML object>"
            ],
            "text/html": [
              "\n",
              "     <input type=\"file\" id=\"files-a8a829ce-0717-4f95-86e7-483939f3ef32\" name=\"files[]\" multiple disabled\n",
              "        style=\"border:none\" />\n",
              "     <output id=\"result-a8a829ce-0717-4f95-86e7-483939f3ef32\">\n",
              "      Upload widget is only available when the cell has been executed in the\n",
              "      current browser session. Please rerun this cell to enable.\n",
              "      </output>\n",
              "      <script>// Copyright 2017 Google LLC\n",
              "//\n",
              "// Licensed under the Apache License, Version 2.0 (the \"License\");\n",
              "// you may not use this file except in compliance with the License.\n",
              "// You may obtain a copy of the License at\n",
              "//\n",
              "//      http://www.apache.org/licenses/LICENSE-2.0\n",
              "//\n",
              "// Unless required by applicable law or agreed to in writing, software\n",
              "// distributed under the License is distributed on an \"AS IS\" BASIS,\n",
              "// WITHOUT WARRANTIES OR CONDITIONS OF ANY KIND, either express or implied.\n",
              "// See the License for the specific language governing permissions and\n",
              "// limitations under the License.\n",
              "\n",
              "/**\n",
              " * @fileoverview Helpers for google.colab Python module.\n",
              " */\n",
              "(function(scope) {\n",
              "function span(text, styleAttributes = {}) {\n",
              "  const element = document.createElement('span');\n",
              "  element.textContent = text;\n",
              "  for (const key of Object.keys(styleAttributes)) {\n",
              "    element.style[key] = styleAttributes[key];\n",
              "  }\n",
              "  return element;\n",
              "}\n",
              "\n",
              "// Max number of bytes which will be uploaded at a time.\n",
              "const MAX_PAYLOAD_SIZE = 100 * 1024;\n",
              "\n",
              "function _uploadFiles(inputId, outputId) {\n",
              "  const steps = uploadFilesStep(inputId, outputId);\n",
              "  const outputElement = document.getElementById(outputId);\n",
              "  // Cache steps on the outputElement to make it available for the next call\n",
              "  // to uploadFilesContinue from Python.\n",
              "  outputElement.steps = steps;\n",
              "\n",
              "  return _uploadFilesContinue(outputId);\n",
              "}\n",
              "\n",
              "// This is roughly an async generator (not supported in the browser yet),\n",
              "// where there are multiple asynchronous steps and the Python side is going\n",
              "// to poll for completion of each step.\n",
              "// This uses a Promise to block the python side on completion of each step,\n",
              "// then passes the result of the previous step as the input to the next step.\n",
              "function _uploadFilesContinue(outputId) {\n",
              "  const outputElement = document.getElementById(outputId);\n",
              "  const steps = outputElement.steps;\n",
              "\n",
              "  const next = steps.next(outputElement.lastPromiseValue);\n",
              "  return Promise.resolve(next.value.promise).then((value) => {\n",
              "    // Cache the last promise value to make it available to the next\n",
              "    // step of the generator.\n",
              "    outputElement.lastPromiseValue = value;\n",
              "    return next.value.response;\n",
              "  });\n",
              "}\n",
              "\n",
              "/**\n",
              " * Generator function which is called between each async step of the upload\n",
              " * process.\n",
              " * @param {string} inputId Element ID of the input file picker element.\n",
              " * @param {string} outputId Element ID of the output display.\n",
              " * @return {!Iterable<!Object>} Iterable of next steps.\n",
              " */\n",
              "function* uploadFilesStep(inputId, outputId) {\n",
              "  const inputElement = document.getElementById(inputId);\n",
              "  inputElement.disabled = false;\n",
              "\n",
              "  const outputElement = document.getElementById(outputId);\n",
              "  outputElement.innerHTML = '';\n",
              "\n",
              "  const pickedPromise = new Promise((resolve) => {\n",
              "    inputElement.addEventListener('change', (e) => {\n",
              "      resolve(e.target.files);\n",
              "    });\n",
              "  });\n",
              "\n",
              "  const cancel = document.createElement('button');\n",
              "  inputElement.parentElement.appendChild(cancel);\n",
              "  cancel.textContent = 'Cancel upload';\n",
              "  const cancelPromise = new Promise((resolve) => {\n",
              "    cancel.onclick = () => {\n",
              "      resolve(null);\n",
              "    };\n",
              "  });\n",
              "\n",
              "  // Wait for the user to pick the files.\n",
              "  const files = yield {\n",
              "    promise: Promise.race([pickedPromise, cancelPromise]),\n",
              "    response: {\n",
              "      action: 'starting',\n",
              "    }\n",
              "  };\n",
              "\n",
              "  cancel.remove();\n",
              "\n",
              "  // Disable the input element since further picks are not allowed.\n",
              "  inputElement.disabled = true;\n",
              "\n",
              "  if (!files) {\n",
              "    return {\n",
              "      response: {\n",
              "        action: 'complete',\n",
              "      }\n",
              "    };\n",
              "  }\n",
              "\n",
              "  for (const file of files) {\n",
              "    const li = document.createElement('li');\n",
              "    li.append(span(file.name, {fontWeight: 'bold'}));\n",
              "    li.append(span(\n",
              "        `(${file.type || 'n/a'}) - ${file.size} bytes, ` +\n",
              "        `last modified: ${\n",
              "            file.lastModifiedDate ? file.lastModifiedDate.toLocaleDateString() :\n",
              "                                    'n/a'} - `));\n",
              "    const percent = span('0% done');\n",
              "    li.appendChild(percent);\n",
              "\n",
              "    outputElement.appendChild(li);\n",
              "\n",
              "    const fileDataPromise = new Promise((resolve) => {\n",
              "      const reader = new FileReader();\n",
              "      reader.onload = (e) => {\n",
              "        resolve(e.target.result);\n",
              "      };\n",
              "      reader.readAsArrayBuffer(file);\n",
              "    });\n",
              "    // Wait for the data to be ready.\n",
              "    let fileData = yield {\n",
              "      promise: fileDataPromise,\n",
              "      response: {\n",
              "        action: 'continue',\n",
              "      }\n",
              "    };\n",
              "\n",
              "    // Use a chunked sending to avoid message size limits. See b/62115660.\n",
              "    let position = 0;\n",
              "    do {\n",
              "      const length = Math.min(fileData.byteLength - position, MAX_PAYLOAD_SIZE);\n",
              "      const chunk = new Uint8Array(fileData, position, length);\n",
              "      position += length;\n",
              "\n",
              "      const base64 = btoa(String.fromCharCode.apply(null, chunk));\n",
              "      yield {\n",
              "        response: {\n",
              "          action: 'append',\n",
              "          file: file.name,\n",
              "          data: base64,\n",
              "        },\n",
              "      };\n",
              "\n",
              "      let percentDone = fileData.byteLength === 0 ?\n",
              "          100 :\n",
              "          Math.round((position / fileData.byteLength) * 100);\n",
              "      percent.textContent = `${percentDone}% done`;\n",
              "\n",
              "    } while (position < fileData.byteLength);\n",
              "  }\n",
              "\n",
              "  // All done.\n",
              "  yield {\n",
              "    response: {\n",
              "      action: 'complete',\n",
              "    }\n",
              "  };\n",
              "}\n",
              "\n",
              "scope.google = scope.google || {};\n",
              "scope.google.colab = scope.google.colab || {};\n",
              "scope.google.colab._files = {\n",
              "  _uploadFiles,\n",
              "  _uploadFilesContinue,\n",
              "};\n",
              "})(self);\n",
              "</script> "
            ]
          },
          "metadata": {}
        },
        {
          "output_type": "stream",
          "name": "stdout",
          "text": [
            "Saving aclImdb_v1.tar.gz to aclImdb_v1.tar.gz\n"
          ]
        },
        {
          "output_type": "error",
          "ename": "BadZipFile",
          "evalue": "File is not a zip file",
          "traceback": [
            "\u001b[0;31m---------------------------------------------------------------------------\u001b[0m",
            "\u001b[0;31mBadZipFile\u001b[0m                                Traceback (most recent call last)",
            "\u001b[0;32m/tmp/ipython-input-206040997.py\u001b[0m in \u001b[0;36m<cell line: 0>\u001b[0;34m()\u001b[0m\n\u001b[1;32m     11\u001b[0m \u001b[0;34m\u001b[0m\u001b[0m\n\u001b[1;32m     12\u001b[0m \u001b[0;31m# Extract into a folder\u001b[0m\u001b[0;34m\u001b[0m\u001b[0;34m\u001b[0m\u001b[0m\n\u001b[0;32m---> 13\u001b[0;31m \u001b[0;32mwith\u001b[0m \u001b[0mzipfile\u001b[0m\u001b[0;34m.\u001b[0m\u001b[0mZipFile\u001b[0m\u001b[0;34m(\u001b[0m\u001b[0mzip_path\u001b[0m\u001b[0;34m,\u001b[0m \u001b[0;34m'r'\u001b[0m\u001b[0;34m)\u001b[0m \u001b[0;32mas\u001b[0m \u001b[0mzip_ref\u001b[0m\u001b[0;34m:\u001b[0m\u001b[0;34m\u001b[0m\u001b[0;34m\u001b[0m\u001b[0m\n\u001b[0m\u001b[1;32m     14\u001b[0m     \u001b[0mzip_ref\u001b[0m\u001b[0;34m.\u001b[0m\u001b[0mextractall\u001b[0m\u001b[0;34m(\u001b[0m\u001b[0mextract_dir\u001b[0m\u001b[0;34m)\u001b[0m\u001b[0;34m\u001b[0m\u001b[0;34m\u001b[0m\u001b[0m\n\u001b[1;32m     15\u001b[0m \u001b[0;34m\u001b[0m\u001b[0m\n",
            "\u001b[0;32m/usr/lib/python3.12/zipfile/__init__.py\u001b[0m in \u001b[0;36m__init__\u001b[0;34m(self, file, mode, compression, allowZip64, compresslevel, strict_timestamps, metadata_encoding)\u001b[0m\n\u001b[1;32m   1352\u001b[0m         \u001b[0;32mtry\u001b[0m\u001b[0;34m:\u001b[0m\u001b[0;34m\u001b[0m\u001b[0;34m\u001b[0m\u001b[0m\n\u001b[1;32m   1353\u001b[0m             \u001b[0;32mif\u001b[0m \u001b[0mmode\u001b[0m \u001b[0;34m==\u001b[0m \u001b[0;34m'r'\u001b[0m\u001b[0;34m:\u001b[0m\u001b[0;34m\u001b[0m\u001b[0;34m\u001b[0m\u001b[0m\n\u001b[0;32m-> 1354\u001b[0;31m                 \u001b[0mself\u001b[0m\u001b[0;34m.\u001b[0m\u001b[0m_RealGetContents\u001b[0m\u001b[0;34m(\u001b[0m\u001b[0;34m)\u001b[0m\u001b[0;34m\u001b[0m\u001b[0;34m\u001b[0m\u001b[0m\n\u001b[0m\u001b[1;32m   1355\u001b[0m             \u001b[0;32melif\u001b[0m \u001b[0mmode\u001b[0m \u001b[0;32min\u001b[0m \u001b[0;34m(\u001b[0m\u001b[0;34m'w'\u001b[0m\u001b[0;34m,\u001b[0m \u001b[0;34m'x'\u001b[0m\u001b[0;34m)\u001b[0m\u001b[0;34m:\u001b[0m\u001b[0;34m\u001b[0m\u001b[0;34m\u001b[0m\u001b[0m\n\u001b[1;32m   1356\u001b[0m                 \u001b[0;31m# set the modified flag so central directory gets written\u001b[0m\u001b[0;34m\u001b[0m\u001b[0;34m\u001b[0m\u001b[0m\n",
            "\u001b[0;32m/usr/lib/python3.12/zipfile/__init__.py\u001b[0m in \u001b[0;36m_RealGetContents\u001b[0;34m(self)\u001b[0m\n\u001b[1;32m   1419\u001b[0m             \u001b[0;32mraise\u001b[0m \u001b[0mBadZipFile\u001b[0m\u001b[0;34m(\u001b[0m\u001b[0;34m\"File is not a zip file\"\u001b[0m\u001b[0;34m)\u001b[0m\u001b[0;34m\u001b[0m\u001b[0;34m\u001b[0m\u001b[0m\n\u001b[1;32m   1420\u001b[0m         \u001b[0;32mif\u001b[0m \u001b[0;32mnot\u001b[0m \u001b[0mendrec\u001b[0m\u001b[0;34m:\u001b[0m\u001b[0;34m\u001b[0m\u001b[0;34m\u001b[0m\u001b[0m\n\u001b[0;32m-> 1421\u001b[0;31m             \u001b[0;32mraise\u001b[0m \u001b[0mBadZipFile\u001b[0m\u001b[0;34m(\u001b[0m\u001b[0;34m\"File is not a zip file\"\u001b[0m\u001b[0;34m)\u001b[0m\u001b[0;34m\u001b[0m\u001b[0;34m\u001b[0m\u001b[0m\n\u001b[0m\u001b[1;32m   1422\u001b[0m         \u001b[0;32mif\u001b[0m \u001b[0mself\u001b[0m\u001b[0;34m.\u001b[0m\u001b[0mdebug\u001b[0m \u001b[0;34m>\u001b[0m \u001b[0;36m1\u001b[0m\u001b[0;34m:\u001b[0m\u001b[0;34m\u001b[0m\u001b[0;34m\u001b[0m\u001b[0m\n\u001b[1;32m   1423\u001b[0m             \u001b[0mprint\u001b[0m\u001b[0;34m(\u001b[0m\u001b[0mendrec\u001b[0m\u001b[0;34m)\u001b[0m\u001b[0;34m\u001b[0m\u001b[0;34m\u001b[0m\u001b[0m\n",
            "\u001b[0;31mBadZipFile\u001b[0m: File is not a zip file"
          ]
        }
      ]
    },
    {
      "cell_type": "code",
      "source": [
        "import tarfile\n",
        "\n",
        "tar_path = \"aclImdb_v1.tar.gz\"\n",
        "extract_dir = \"/content/data\"\n",
        "\n",
        "with tarfile.open(tar_path, \"r:gz\") as tar:\n",
        "    tar.extractall(path=extract_dir)\n",
        "\n",
        "print(\"Extracted to:\", extract_dir)\n"
      ],
      "metadata": {
        "colab": {
          "base_uri": "https://localhost:8080/"
        },
        "id": "BlXkRXawwe2H",
        "outputId": "85067ff2-106e-441d-a844-c31d2a05e230"
      },
      "id": "BlXkRXawwe2H",
      "execution_count": 126,
      "outputs": [
        {
          "output_type": "stream",
          "name": "stderr",
          "text": [
            "/tmp/ipython-input-94307175.py:7: DeprecationWarning: Python 3.14 will, by default, filter extracted tar archives and reject files or modify their metadata. Use the filter argument to control this behavior.\n",
            "  tar.extractall(path=extract_dir)\n"
          ]
        },
        {
          "output_type": "stream",
          "name": "stdout",
          "text": [
            "Extracted to: /content/data\n"
          ]
        }
      ]
    },
    {
      "cell_type": "markdown",
      "id": "d7088a80",
      "metadata": {
        "id": "d7088a80"
      },
      "source": [
        "> 💡 If you take a look at this dataset in your file explorer, you will notice that it is made up of a lot of .txt files that are arranged in a nested folder structure, where the folders represent the labels (positive or negative sentiment) and also the data batch (train or test). In cases like this, `glob` is very useful for loading files - so we'll use it below."
      ]
    },
    {
      "cell_type": "code",
      "execution_count": null,
      "id": "d792cb1b",
      "metadata": {
        "id": "d792cb1b"
      },
      "outputs": [],
      "source": [
        "#Now, we're going to write a loop that loads in all of the txt files in the dataset.\n",
        "#Rather than point towards each individual file, we're going to use the glob package to find all of the files that match a certain pattern.\n",
        "\n",
        "imdb_lists = [] #first we create an empty list to store our data in.\n",
        "\n",
        "#for each file that matches the pattern (any .txt file in the pos or neg folders in train or test):\n",
        "for file in glob(os.path.join(datadir, \"train\", \"pos\", \"*.txt\")) + \\\n",
        "           glob(os.path.join(datadir, \"train\", \"neg\", \"*.txt\")) + \\\n",
        "           glob(os.path.join(datadir, \"test\", \"pos\", \"*.txt\")) + \\\n",
        "           glob(os.path.join(datadir, \"test\", \"neg\", \"*.txt\")):\n",
        "    #we're going to read the file and store its contents in a variable called 'text':\n",
        "    #(notice how we are insdide the 'for' loop here, as per the indentation, meaning this will iterate over every file found by glob)\n",
        "    with open(file, \"r\", encoding=\"utf-8\") as f:\n",
        "        text = f.read()\n",
        "    #we also want to extract the batch (train/test) and label (pos/neg) from the file path:\n",
        "    batch = \"train\" if \"train\" in file else \"test\"\n",
        "    label = \"pos\" if \"pos\" in file else \"neg\"\n",
        "    #now we append the features we just obtained, containing the batch, text, and label to our data_lists variable:\n",
        "    imdb_lists.append([batch, text, label])\n",
        "\n",
        "#The result is a list of lists, where each inner list contains the batch, text, and label for one review.\n",
        "imdb_lists[:3] #let's look at the first three entries in our list of lists."
      ]
    },
    {
      "cell_type": "markdown",
      "id": "bdd8abe6",
      "metadata": {
        "id": "bdd8abe6"
      },
      "source": [
        "### exploring the data (as a list)"
      ]
    },
    {
      "cell_type": "code",
      "execution_count": null,
      "id": "7964e091",
      "metadata": {
        "id": "7964e091"
      },
      "outputs": [],
      "source": [
        "#How many samples do we have in total? (hint: what is the length?)\n",
        "\n",
        "#Write a loop or list comprehension that counts how many samples there are of each label (pos/neg) and batch (train/test).\n",
        "\n",
        "#Write a loop or list comprehension that returns a test_list and train_list, containing only the test and train samples respectively.\n",
        "\n",
        "#Would you want to use a tuple instead of a list? Where? Why/why not?\n"
      ]
    },
    {
      "cell_type": "code",
      "execution_count": null,
      "id": "bb785cbf",
      "metadata": {
        "id": "bb785cbf"
      },
      "outputs": [],
      "source": [
        "#A short introduction to the very useful .zip() function:\n",
        "\n",
        "#Sometimes, you may want to convert nested lists (like these) into separate lists:\n",
        "batches, texts, labels = zip(*imdb_lists) #the * operator tells .zip() to 'unpack' the nested lists into separate lists, which you must name.\n",
        "\n",
        "#Now you have three lists, so that you can access the batches, texts, and labels separately:\n",
        "print(batches[:3]) #first three batches\n",
        "print(texts[:3]) #first three texts\n",
        "print(labels[:3]) #first three labels\n",
        "\n",
        "#Putting them back together again is just as easy:\n",
        "imdb_lists = list(zip(batches, texts, labels))"
      ]
    },
    {
      "cell_type": "markdown",
      "id": "88b172de",
      "metadata": {
        "id": "88b172de"
      },
      "source": [
        "> 💡 With a dataset as simple as this, you would often not bother to cast it into any more complex data structures like a dictionary or a dataframe.\n",
        "\n",
        "> However, let's at least explore how a dataframe can be useful for inspecting your data:"
      ]
    },
    {
      "cell_type": "markdown",
      "id": "5a90dc90",
      "metadata": {
        "id": "5a90dc90"
      },
      "source": [
        "### exploring the data (as a dataframe)"
      ]
    },
    {
      "cell_type": "code",
      "execution_count": null,
      "id": "7e72ec5b",
      "metadata": {
        "id": "7e72ec5b"
      },
      "outputs": [],
      "source": [
        "#It an be useful to get a 'birds eye view' of the data by converting it to a dataframe:\n",
        "imdb_df = pd.DataFrame(imdb_lists, columns=[\"batch\", \"text\", \"label\"]) #we pass in the data (imdb_lists) and also the column names (batch, text, label)\n",
        "\n",
        "#Now let's look at the first few rows of the dataframe:\n",
        "imdb_df.head() #.head() shows the first five rows of the dataframe.\n",
        "\n",
        "#NOTE: under the hood, our lists have now been converted into pd.Series objects, which are like lists but with a lot of extra functionality (all tied to Pandas)."
      ]
    },
    {
      "cell_type": "code",
      "execution_count": null,
      "id": "37c8f837",
      "metadata": {
        "id": "37c8f837"
      },
      "outputs": [],
      "source": [
        "#Pandas can give us some quick summary statistics about the dataframe:\n",
        "imdb_df.describe() #.describe() gives us some summary statistics about the dataframe."
      ]
    },
    {
      "cell_type": "code",
      "execution_count": null,
      "id": "c0365bb1",
      "metadata": {
        "id": "c0365bb1"
      },
      "outputs": [],
      "source": [
        "#Pandas can also tell us if there are any missing values:\n",
        "imdb_df.isnull().sum() #.isnull().sum() tells us how many missing values there are in each column.\n",
        "#BONUS: what happens if we just run the method .isnull() without the .sum()? Why?"
      ]
    },
    {
      "cell_type": "code",
      "execution_count": null,
      "id": "9f9ecebb",
      "metadata": {
        "id": "9f9ecebb"
      },
      "outputs": [],
      "source": [
        "#Pandas can even tell us the distribution of values in a column:\n",
        "imdb_df['label'].value_counts()\n",
        "#NOTE: notice that here we are calling .value_counts() on a specific column of the dataframe (the 'label' column)."
      ]
    },
    {
      "cell_type": "code",
      "execution_count": null,
      "id": "38445609",
      "metadata": {
        "id": "38445609"
      },
      "outputs": [],
      "source": [
        "#or the distribution of the length of the reviews:\n",
        "imdb_df['text'].str.len().describe()\n",
        "#NOTE notice that we are chain-calling the len() and describe() methods here, using the .str accessor to tell pandas that we want to treat the 'text' column as strings."
      ]
    },
    {
      "cell_type": "markdown",
      "id": "97220ceb",
      "metadata": {
        "id": "97220ceb"
      },
      "source": [
        "### summing up what we see\n",
        "\n",
        "**IMDB Large Movie Review Dataset Overview:**\n",
        "\n",
        "- **Total samples**: 50,000 movie reviews from IMDB\n",
        "- **Labels**: Binary classification (positive/negative sentiment)\n",
        "- **Data split**:\n",
        "  - 🔸 Training set: 25,000 reviews\n",
        "  - 🔸 Test set: 25,000 reviews\n",
        "- **Class balance (i.e., distribution of labels)**:\n",
        "  - ✅ Training: 12,500 positive + 12,500 negative\n",
        "  - ✅ Test: 12,500 positive + 12,500 negative\n",
        "- **Data quality**:\n",
        "  - ✅ No missing values (confirmed via `.isnull()`)\n",
        "  - ✅ Minimal duplicates (confirmed via `.describe()`)\n",
        "\n",
        "> 💡 Of course, we do not yet know how clean the text fields of the reviews are."
      ]
    },
    {
      "cell_type": "markdown",
      "id": "638caba6",
      "metadata": {
        "id": "638caba6"
      },
      "source": [
        "## 2. NELA-PS Dataset"
      ]
    },
    {
      "cell_type": "markdown",
      "id": "15275db0",
      "metadata": {
        "id": "15275db0"
      },
      "source": [
        "### loading the data"
      ]
    },
    {
      "cell_type": "code",
      "execution_count": null,
      "id": "df3875cd",
      "metadata": {
        "id": "df3875cd"
      },
      "outputs": [],
      "source": [
        "#first, let's define where this dataset is stored on your computer:\n",
        "datadir = '/Users/rupertkiddle/Desktop/teach/2025/IMLfTAwP (GESIS)/3_datasets/NELA-PS/'"
      ]
    },
    {
      "cell_type": "code",
      "source": [
        "from google.colab import files\n",
        "import zipfile\n",
        "import os\n",
        "\n",
        "# Upload the zip file\n",
        "uploaded = files.upload()\n",
        "\n",
        "# Let's assume the file is named \"mydata.zip\"\n",
        "zip_path = list(uploaded.keys())[0]  # get uploaded filename\n",
        "extract_dir = \"/content/data\"\n",
        "\n",
        "# Extract into a folder\n",
        "with zipfile.ZipFile(zip_path, 'r') as zip_ref:\n",
        "    zip_ref.extractall(extract_dir)\n",
        "\n",
        "# Point datadir to where files got extracted\n",
        "datadir = extract_dir\n",
        "print(\"Extracted to:\", datadir)\n",
        "\n",
        "# Check the nested structure\n",
        "for root, dirs, files in os.walk(datadir):\n",
        "    print(root, len(files), \"files\")\n"
      ],
      "metadata": {
        "colab": {
          "base_uri": "https://localhost:8080/",
          "height": 411
        },
        "id": "YVrJ_uKWqeSy",
        "outputId": "1d9f5f90-a903-492c-d839-85830604d75b"
      },
      "id": "YVrJ_uKWqeSy",
      "execution_count": 59,
      "outputs": [
        {
          "output_type": "display_data",
          "data": {
            "text/plain": [
              "<IPython.core.display.HTML object>"
            ],
            "text/html": [
              "\n",
              "     <input type=\"file\" id=\"files-0a84085a-f7c7-4474-92a7-d7904f44b6e0\" name=\"files[]\" multiple disabled\n",
              "        style=\"border:none\" />\n",
              "     <output id=\"result-0a84085a-f7c7-4474-92a7-d7904f44b6e0\">\n",
              "      Upload widget is only available when the cell has been executed in the\n",
              "      current browser session. Please rerun this cell to enable.\n",
              "      </output>\n",
              "      <script>// Copyright 2017 Google LLC\n",
              "//\n",
              "// Licensed under the Apache License, Version 2.0 (the \"License\");\n",
              "// you may not use this file except in compliance with the License.\n",
              "// You may obtain a copy of the License at\n",
              "//\n",
              "//      http://www.apache.org/licenses/LICENSE-2.0\n",
              "//\n",
              "// Unless required by applicable law or agreed to in writing, software\n",
              "// distributed under the License is distributed on an \"AS IS\" BASIS,\n",
              "// WITHOUT WARRANTIES OR CONDITIONS OF ANY KIND, either express or implied.\n",
              "// See the License for the specific language governing permissions and\n",
              "// limitations under the License.\n",
              "\n",
              "/**\n",
              " * @fileoverview Helpers for google.colab Python module.\n",
              " */\n",
              "(function(scope) {\n",
              "function span(text, styleAttributes = {}) {\n",
              "  const element = document.createElement('span');\n",
              "  element.textContent = text;\n",
              "  for (const key of Object.keys(styleAttributes)) {\n",
              "    element.style[key] = styleAttributes[key];\n",
              "  }\n",
              "  return element;\n",
              "}\n",
              "\n",
              "// Max number of bytes which will be uploaded at a time.\n",
              "const MAX_PAYLOAD_SIZE = 100 * 1024;\n",
              "\n",
              "function _uploadFiles(inputId, outputId) {\n",
              "  const steps = uploadFilesStep(inputId, outputId);\n",
              "  const outputElement = document.getElementById(outputId);\n",
              "  // Cache steps on the outputElement to make it available for the next call\n",
              "  // to uploadFilesContinue from Python.\n",
              "  outputElement.steps = steps;\n",
              "\n",
              "  return _uploadFilesContinue(outputId);\n",
              "}\n",
              "\n",
              "// This is roughly an async generator (not supported in the browser yet),\n",
              "// where there are multiple asynchronous steps and the Python side is going\n",
              "// to poll for completion of each step.\n",
              "// This uses a Promise to block the python side on completion of each step,\n",
              "// then passes the result of the previous step as the input to the next step.\n",
              "function _uploadFilesContinue(outputId) {\n",
              "  const outputElement = document.getElementById(outputId);\n",
              "  const steps = outputElement.steps;\n",
              "\n",
              "  const next = steps.next(outputElement.lastPromiseValue);\n",
              "  return Promise.resolve(next.value.promise).then((value) => {\n",
              "    // Cache the last promise value to make it available to the next\n",
              "    // step of the generator.\n",
              "    outputElement.lastPromiseValue = value;\n",
              "    return next.value.response;\n",
              "  });\n",
              "}\n",
              "\n",
              "/**\n",
              " * Generator function which is called between each async step of the upload\n",
              " * process.\n",
              " * @param {string} inputId Element ID of the input file picker element.\n",
              " * @param {string} outputId Element ID of the output display.\n",
              " * @return {!Iterable<!Object>} Iterable of next steps.\n",
              " */\n",
              "function* uploadFilesStep(inputId, outputId) {\n",
              "  const inputElement = document.getElementById(inputId);\n",
              "  inputElement.disabled = false;\n",
              "\n",
              "  const outputElement = document.getElementById(outputId);\n",
              "  outputElement.innerHTML = '';\n",
              "\n",
              "  const pickedPromise = new Promise((resolve) => {\n",
              "    inputElement.addEventListener('change', (e) => {\n",
              "      resolve(e.target.files);\n",
              "    });\n",
              "  });\n",
              "\n",
              "  const cancel = document.createElement('button');\n",
              "  inputElement.parentElement.appendChild(cancel);\n",
              "  cancel.textContent = 'Cancel upload';\n",
              "  const cancelPromise = new Promise((resolve) => {\n",
              "    cancel.onclick = () => {\n",
              "      resolve(null);\n",
              "    };\n",
              "  });\n",
              "\n",
              "  // Wait for the user to pick the files.\n",
              "  const files = yield {\n",
              "    promise: Promise.race([pickedPromise, cancelPromise]),\n",
              "    response: {\n",
              "      action: 'starting',\n",
              "    }\n",
              "  };\n",
              "\n",
              "  cancel.remove();\n",
              "\n",
              "  // Disable the input element since further picks are not allowed.\n",
              "  inputElement.disabled = true;\n",
              "\n",
              "  if (!files) {\n",
              "    return {\n",
              "      response: {\n",
              "        action: 'complete',\n",
              "      }\n",
              "    };\n",
              "  }\n",
              "\n",
              "  for (const file of files) {\n",
              "    const li = document.createElement('li');\n",
              "    li.append(span(file.name, {fontWeight: 'bold'}));\n",
              "    li.append(span(\n",
              "        `(${file.type || 'n/a'}) - ${file.size} bytes, ` +\n",
              "        `last modified: ${\n",
              "            file.lastModifiedDate ? file.lastModifiedDate.toLocaleDateString() :\n",
              "                                    'n/a'} - `));\n",
              "    const percent = span('0% done');\n",
              "    li.appendChild(percent);\n",
              "\n",
              "    outputElement.appendChild(li);\n",
              "\n",
              "    const fileDataPromise = new Promise((resolve) => {\n",
              "      const reader = new FileReader();\n",
              "      reader.onload = (e) => {\n",
              "        resolve(e.target.result);\n",
              "      };\n",
              "      reader.readAsArrayBuffer(file);\n",
              "    });\n",
              "    // Wait for the data to be ready.\n",
              "    let fileData = yield {\n",
              "      promise: fileDataPromise,\n",
              "      response: {\n",
              "        action: 'continue',\n",
              "      }\n",
              "    };\n",
              "\n",
              "    // Use a chunked sending to avoid message size limits. See b/62115660.\n",
              "    let position = 0;\n",
              "    do {\n",
              "      const length = Math.min(fileData.byteLength - position, MAX_PAYLOAD_SIZE);\n",
              "      const chunk = new Uint8Array(fileData, position, length);\n",
              "      position += length;\n",
              "\n",
              "      const base64 = btoa(String.fromCharCode.apply(null, chunk));\n",
              "      yield {\n",
              "        response: {\n",
              "          action: 'append',\n",
              "          file: file.name,\n",
              "          data: base64,\n",
              "        },\n",
              "      };\n",
              "\n",
              "      let percentDone = fileData.byteLength === 0 ?\n",
              "          100 :\n",
              "          Math.round((position / fileData.byteLength) * 100);\n",
              "      percent.textContent = `${percentDone}% done`;\n",
              "\n",
              "    } while (position < fileData.byteLength);\n",
              "  }\n",
              "\n",
              "  // All done.\n",
              "  yield {\n",
              "    response: {\n",
              "      action: 'complete',\n",
              "    }\n",
              "  };\n",
              "}\n",
              "\n",
              "scope.google = scope.google || {};\n",
              "scope.google.colab = scope.google.colab || {};\n",
              "scope.google.colab._files = {\n",
              "  _uploadFiles,\n",
              "  _uploadFilesContinue,\n",
              "};\n",
              "})(self);\n",
              "</script> "
            ]
          },
          "metadata": {}
        },
        {
          "output_type": "stream",
          "name": "stdout",
          "text": [
            "Saving articles-small.tar.gz to articles-small.tar (1).gz\n"
          ]
        },
        {
          "output_type": "error",
          "ename": "BadZipFile",
          "evalue": "File is not a zip file",
          "traceback": [
            "\u001b[0;31m---------------------------------------------------------------------------\u001b[0m",
            "\u001b[0;31mBadZipFile\u001b[0m                                Traceback (most recent call last)",
            "\u001b[0;32m/tmp/ipython-input-169102356.py\u001b[0m in \u001b[0;36m<cell line: 0>\u001b[0;34m()\u001b[0m\n\u001b[1;32m     11\u001b[0m \u001b[0;34m\u001b[0m\u001b[0m\n\u001b[1;32m     12\u001b[0m \u001b[0;31m# Extract into a folder\u001b[0m\u001b[0;34m\u001b[0m\u001b[0;34m\u001b[0m\u001b[0m\n\u001b[0;32m---> 13\u001b[0;31m \u001b[0;32mwith\u001b[0m \u001b[0mzipfile\u001b[0m\u001b[0;34m.\u001b[0m\u001b[0mZipFile\u001b[0m\u001b[0;34m(\u001b[0m\u001b[0mzip_path\u001b[0m\u001b[0;34m,\u001b[0m \u001b[0;34m'r'\u001b[0m\u001b[0;34m)\u001b[0m \u001b[0;32mas\u001b[0m \u001b[0mzip_ref\u001b[0m\u001b[0;34m:\u001b[0m\u001b[0;34m\u001b[0m\u001b[0;34m\u001b[0m\u001b[0m\n\u001b[0m\u001b[1;32m     14\u001b[0m     \u001b[0mzip_ref\u001b[0m\u001b[0;34m.\u001b[0m\u001b[0mextractall\u001b[0m\u001b[0;34m(\u001b[0m\u001b[0mextract_dir\u001b[0m\u001b[0;34m)\u001b[0m\u001b[0;34m\u001b[0m\u001b[0;34m\u001b[0m\u001b[0m\n\u001b[1;32m     15\u001b[0m \u001b[0;34m\u001b[0m\u001b[0m\n",
            "\u001b[0;32m/usr/lib/python3.12/zipfile/__init__.py\u001b[0m in \u001b[0;36m__init__\u001b[0;34m(self, file, mode, compression, allowZip64, compresslevel, strict_timestamps, metadata_encoding)\u001b[0m\n\u001b[1;32m   1352\u001b[0m         \u001b[0;32mtry\u001b[0m\u001b[0;34m:\u001b[0m\u001b[0;34m\u001b[0m\u001b[0;34m\u001b[0m\u001b[0m\n\u001b[1;32m   1353\u001b[0m             \u001b[0;32mif\u001b[0m \u001b[0mmode\u001b[0m \u001b[0;34m==\u001b[0m \u001b[0;34m'r'\u001b[0m\u001b[0;34m:\u001b[0m\u001b[0;34m\u001b[0m\u001b[0;34m\u001b[0m\u001b[0m\n\u001b[0;32m-> 1354\u001b[0;31m                 \u001b[0mself\u001b[0m\u001b[0;34m.\u001b[0m\u001b[0m_RealGetContents\u001b[0m\u001b[0;34m(\u001b[0m\u001b[0;34m)\u001b[0m\u001b[0;34m\u001b[0m\u001b[0;34m\u001b[0m\u001b[0m\n\u001b[0m\u001b[1;32m   1355\u001b[0m             \u001b[0;32melif\u001b[0m \u001b[0mmode\u001b[0m \u001b[0;32min\u001b[0m \u001b[0;34m(\u001b[0m\u001b[0;34m'w'\u001b[0m\u001b[0;34m,\u001b[0m \u001b[0;34m'x'\u001b[0m\u001b[0;34m)\u001b[0m\u001b[0;34m:\u001b[0m\u001b[0;34m\u001b[0m\u001b[0;34m\u001b[0m\u001b[0m\n\u001b[1;32m   1356\u001b[0m                 \u001b[0;31m# set the modified flag so central directory gets written\u001b[0m\u001b[0;34m\u001b[0m\u001b[0;34m\u001b[0m\u001b[0m\n",
            "\u001b[0;32m/usr/lib/python3.12/zipfile/__init__.py\u001b[0m in \u001b[0;36m_RealGetContents\u001b[0;34m(self)\u001b[0m\n\u001b[1;32m   1419\u001b[0m             \u001b[0;32mraise\u001b[0m \u001b[0mBadZipFile\u001b[0m\u001b[0;34m(\u001b[0m\u001b[0;34m\"File is not a zip file\"\u001b[0m\u001b[0;34m)\u001b[0m\u001b[0;34m\u001b[0m\u001b[0;34m\u001b[0m\u001b[0m\n\u001b[1;32m   1420\u001b[0m         \u001b[0;32mif\u001b[0m \u001b[0;32mnot\u001b[0m \u001b[0mendrec\u001b[0m\u001b[0;34m:\u001b[0m\u001b[0;34m\u001b[0m\u001b[0;34m\u001b[0m\u001b[0m\n\u001b[0;32m-> 1421\u001b[0;31m             \u001b[0;32mraise\u001b[0m \u001b[0mBadZipFile\u001b[0m\u001b[0;34m(\u001b[0m\u001b[0;34m\"File is not a zip file\"\u001b[0m\u001b[0;34m)\u001b[0m\u001b[0;34m\u001b[0m\u001b[0;34m\u001b[0m\u001b[0m\n\u001b[0m\u001b[1;32m   1422\u001b[0m         \u001b[0;32mif\u001b[0m \u001b[0mself\u001b[0m\u001b[0;34m.\u001b[0m\u001b[0mdebug\u001b[0m \u001b[0;34m>\u001b[0m \u001b[0;36m1\u001b[0m\u001b[0;34m:\u001b[0m\u001b[0;34m\u001b[0m\u001b[0;34m\u001b[0m\u001b[0m\n\u001b[1;32m   1423\u001b[0m             \u001b[0mprint\u001b[0m\u001b[0;34m(\u001b[0m\u001b[0mendrec\u001b[0m\u001b[0;34m)\u001b[0m\u001b[0;34m\u001b[0m\u001b[0;34m\u001b[0m\u001b[0m\n",
            "\u001b[0;31mBadZipFile\u001b[0m: File is not a zip file"
          ]
        }
      ]
    },
    {
      "cell_type": "code",
      "source": [
        "import tarfile\n",
        "\n",
        "tar_path = \"articles-small.tar.gz\"\n",
        "extract_dir = \"/content/data\"\n",
        "\n",
        "with tarfile.open(tar_path, \"r:gz\") as tar:\n",
        "    tar.extractall(path=extract_dir)\n",
        "\n",
        "print(\"Extracted to:\", extract_dir)\n",
        "\n",
        "\n"
      ],
      "metadata": {
        "colab": {
          "base_uri": "https://localhost:8080/"
        },
        "id": "dgkT5LWTrQjC",
        "outputId": "bb79b550-2a7b-481b-d0ba-5e69f8e9a9b5"
      },
      "id": "dgkT5LWTrQjC",
      "execution_count": 62,
      "outputs": [
        {
          "output_type": "stream",
          "name": "stderr",
          "text": [
            "/tmp/ipython-input-2752427205.py:7: DeprecationWarning: Python 3.14 will, by default, filter extracted tar archives and reject files or modify their metadata. Use the filter argument to control this behavior.\n",
            "  tar.extractall(path=extract_dir)\n"
          ]
        },
        {
          "output_type": "stream",
          "name": "stdout",
          "text": [
            "Extracted to: /content/data\n"
          ]
        }
      ]
    },
    {
      "cell_type": "code",
      "source": [
        "datadir = \"/content/data\"\n"
      ],
      "metadata": {
        "id": "cpG8G1DWrdkz"
      },
      "id": "cpG8G1DWrdkz",
      "execution_count": 63,
      "outputs": []
    },
    {
      "cell_type": "markdown",
      "id": "02ded277",
      "metadata": {
        "id": "02ded277"
      },
      "source": [
        "> 💡 If you take a look at this dataset in your file explorer, you will see we have another `glob' situation. In this case we have articles nested within outlet-labeled folders nested within date-labeled folders. So, we can use a similar logic as we did for the IMDB dataset, to preserve these 'labels' when loading the articles.\n",
        "\n",
        "> ⚠️ If you look a little closer, you will notice that the articles do not have file extensions. While it is convention to give files extensions (txt, csv, etc), these are not actually necessary for the computer to read them. We can just use a wildcard (*) in our glob pattern to match any file."
      ]
    },
    {
      "cell_type": "code",
      "execution_count": 64,
      "id": "ab171aac",
      "metadata": {
        "colab": {
          "base_uri": "https://localhost:8080/"
        },
        "id": "ab171aac",
        "outputId": "c567093f-59fa-4dd5-ec82-e5b765b0feb6"
      },
      "outputs": [
        {
          "output_type": "execute_result",
          "data": {
            "text/plain": [
              "[['2018-04-10',\n",
              "  'Infowars',\n",
              "  'There will be no jail time for two men involved in the brutal gang-rape of a 13-year-old girl.\\n\\nLike two other defendants before them Tommy Williams, 20, and Clarence Williams, 19, each received a minimum of 10 years of sex offender intensive supervised probation, with a maximum of life on probation.\\n\\nThe family of the young victim was outraged after learning the sentence Tuesday.\\n\\nThere was six of them and they gang-raped my granddaughter, said the girls grandfather, who got in a shouting match with the Williams family members and was forced to leave. He protested the plea bargain, angrily stating the men should do time.'],\n",
              " ['2018-04-10',\n",
              "  'Infowars',\n",
              "  'Its a typical scene at college campuses across the country  students with their noses buried in books, engaged in the pursuit of knowledge and hoping to one day make their mark on the world.\\n\\nIts not the first place one would imagine finding government spies, but investigative reporter Dan Golden said you would be surprised.\\n\\nTheres an awful lot more international students, international professors at American universities. Some of them are here to gather information for their countries, scientific secrets or cultivate sources, said Golden, author of Spy Schools.\\n\\nGolden discusses various instances of espionage in academia and said the free flow of ideas and cultural exchange fostered by universities make them vulnerable to acts of espionage.\\n\\nAt the FBIs field office in New York, Charlie McGonigal, a special agent in charge of the counterintelligence division, said espionage on campus is a big problem.\\n\\nIn the United States, our academic institutions are very open, said McGonigal. Theres a lot of research and development at major universities in the United States that a foreign government would look to exploit by sending students to study at these universities.\\n\\nAmericans studying abroad can also become targets of foreign governments. In 2014, the FBI commissioned a film based on the real-life exploits of Glenn Shriver, an American student recruited to spy for China.\\n\\nStudents are recruited by those governments, and then theyre asked to go and apply for employment with the U.S. government or in a sensitive private sector area where we know those governments are targeting that type of specific information, said McGonigal.\\n\\nBut spy efforts are a two-way street, and the United States is no stranger to intelligence-gathering operations in academia, either. Alex van Schaick was a Fulbright scholar researching organized labor movements in Bolivia when he met a U.S. government official for what he presumed to be a customary security briefing.\\n\\nVan Schaick was troubled by the request from the official. He said, Oh, and if youre out doing field work out in the countryside, if you run into any Cuban doctors or Venezuelan officials, wed like you to report their whereabouts back to the U.S. embassy, because we know theyre out there, and we want to keep tabs on them.\\n\\nMy first thinking was, Whoa, this person just kind of asked me to spy for the U.S. government. And Im here as part of a program that is supposed to encourage solidarity and people-to-people exchange, added van Schaick.\\n\\nMcGonigal contends that these kinds of recruitment efforts are rare.\\n\\nWe do periodically enter in that type of agreement, but its not as prevalent or nefarious as what you see from our students being exploited by the Chinese government or Russian government, McGonigal said.\\n\\nGolden said raising awareness about the prevalence of espionage is key, citing the 2010 case of Russian sleeper agents who for years posed as ordinary Americans.\\n\\nThe vast majority of them were going to American colleges and universities, or had gone to them. That seemed to be something that Russia regarded as a crucial part of legitimizing a spy, an American college degree, Golden said.'],\n",
              " ['2018-04-10',\n",
              "  'Infowars',\n",
              "  'Senate Democratic Leader Charles Schumer (N.Y.) on Tuesday called on Senate GOP leaders to bring legislation to the floor that would protect special counsel Robert Mueller from being fired in the midst of heightened tension over his investigation of the president.\\n\\n\"Last night, @POTUS said the FBI raid was a disgrace, part of a witch hunt, an attack on our country and mentioned that many people have encouraged him to fire Mr. Mueller... I would remind the president that [Mueller] is a lifelong Republican,\" Sen. Schumer says pic.twitter.com/hYJwifR9Uk\\n\\nSchumer called for new protections of Mueller hours after the FBI raided the Manhattan office of Trumps longtime personal lawyer, Michael Cohen, enraging the president.\\n\\nThe Democratic leader warned that Muellers investigation must be allowed to proceed unimpeded to avoid a constitutional crisis.\\n\\nHe noted that there are several bipartisan bills to protect the special counsel.']]"
            ]
          },
          "metadata": {},
          "execution_count": 64
        }
      ],
      "source": [
        "#Now, we're going to write a loop that loads in all of the txt files in the dataset.\n",
        "#Rather than point towards each individual file, we're going to use the glob package to find all of the files that match a certain pattern.\n",
        "\n",
        "nela_lists = [] #first we create an empty list to store our data in.\n",
        "\n",
        "#for each file that matches the pattern (any file within outlet folders within date folders):\n",
        "for file in glob(os.path.join(datadir, \"articles\", \"*\", \"*\", \"*\")):\n",
        "    #we're going to read the file and store its contents in a variable called 'text':\n",
        "    #(notice how we are inside the 'for' loop here, as per the indentation, meaning this will iterate over every file found by glob)\n",
        "    with open(file, \"r\", encoding=\"utf-8\") as f:\n",
        "        text = f.read()\n",
        "\n",
        "    #we want to extract the date and outlet from the file path:\n",
        "    path_parts = file.split(os.sep)  # Split the path by the OS separator\n",
        "    date = path_parts[-3]  # Date folder (YYYY-MM-DD format), which is the 'third last' part of the path\n",
        "    outlet = path_parts[-2]  # Outlet folder, which is the 'second last' part of the path\n",
        "\n",
        "    #now we append the features we just obtained, containing the date, outlet, and text to our data_lists variable:\n",
        "    nela_lists.append([date, outlet, text])\n",
        "\n",
        "#The result is a list of lists, where each inner list contains the date, outlet, and text for one article.\n",
        "nela_lists[:3] #let's look at the first three entries in our list of lists."
      ]
    },
    {
      "cell_type": "markdown",
      "id": "18a5e862",
      "metadata": {
        "id": "18a5e862"
      },
      "source": [
        "> 💡 Great, so now we have the same data structure as we did before (a list of lists). Let's put this in a dataframe to summarize the data:"
      ]
    },
    {
      "cell_type": "markdown",
      "id": "a46d4e05",
      "metadata": {
        "id": "a46d4e05"
      },
      "source": [
        "### exploring the data"
      ]
    },
    {
      "cell_type": "code",
      "execution_count": 65,
      "id": "9c63e1b5",
      "metadata": {
        "colab": {
          "base_uri": "https://localhost:8080/",
          "height": 206
        },
        "id": "9c63e1b5",
        "outputId": "5476afd5-d8b3-4544-bb7f-0eabf492d029"
      },
      "outputs": [
        {
          "output_type": "execute_result",
          "data": {
            "text/plain": [
              "         date    outlet                                               text\n",
              "0  2018-04-10  Infowars  There will be no jail time for two men involve...\n",
              "1  2018-04-10  Infowars  Its a typical scene at college campuses across...\n",
              "2  2018-04-10  Infowars  Senate Democratic Leader Charles Schumer (N.Y....\n",
              "3  2018-04-10  Infowars  The special counsels office is investigating a...\n",
              "4  2018-04-10  Infowars  There is much speculation as to the significan..."
            ],
            "text/html": [
              "\n",
              "  <div id=\"df-bbe1c631-d042-4a23-aa67-49d741fbe437\" class=\"colab-df-container\">\n",
              "    <div>\n",
              "<style scoped>\n",
              "    .dataframe tbody tr th:only-of-type {\n",
              "        vertical-align: middle;\n",
              "    }\n",
              "\n",
              "    .dataframe tbody tr th {\n",
              "        vertical-align: top;\n",
              "    }\n",
              "\n",
              "    .dataframe thead th {\n",
              "        text-align: right;\n",
              "    }\n",
              "</style>\n",
              "<table border=\"1\" class=\"dataframe\">\n",
              "  <thead>\n",
              "    <tr style=\"text-align: right;\">\n",
              "      <th></th>\n",
              "      <th>date</th>\n",
              "      <th>outlet</th>\n",
              "      <th>text</th>\n",
              "    </tr>\n",
              "  </thead>\n",
              "  <tbody>\n",
              "    <tr>\n",
              "      <th>0</th>\n",
              "      <td>2018-04-10</td>\n",
              "      <td>Infowars</td>\n",
              "      <td>There will be no jail time for two men involve...</td>\n",
              "    </tr>\n",
              "    <tr>\n",
              "      <th>1</th>\n",
              "      <td>2018-04-10</td>\n",
              "      <td>Infowars</td>\n",
              "      <td>Its a typical scene at college campuses across...</td>\n",
              "    </tr>\n",
              "    <tr>\n",
              "      <th>2</th>\n",
              "      <td>2018-04-10</td>\n",
              "      <td>Infowars</td>\n",
              "      <td>Senate Democratic Leader Charles Schumer (N.Y....</td>\n",
              "    </tr>\n",
              "    <tr>\n",
              "      <th>3</th>\n",
              "      <td>2018-04-10</td>\n",
              "      <td>Infowars</td>\n",
              "      <td>The special counsels office is investigating a...</td>\n",
              "    </tr>\n",
              "    <tr>\n",
              "      <th>4</th>\n",
              "      <td>2018-04-10</td>\n",
              "      <td>Infowars</td>\n",
              "      <td>There is much speculation as to the significan...</td>\n",
              "    </tr>\n",
              "  </tbody>\n",
              "</table>\n",
              "</div>\n",
              "    <div class=\"colab-df-buttons\">\n",
              "\n",
              "  <div class=\"colab-df-container\">\n",
              "    <button class=\"colab-df-convert\" onclick=\"convertToInteractive('df-bbe1c631-d042-4a23-aa67-49d741fbe437')\"\n",
              "            title=\"Convert this dataframe to an interactive table.\"\n",
              "            style=\"display:none;\">\n",
              "\n",
              "  <svg xmlns=\"http://www.w3.org/2000/svg\" height=\"24px\" viewBox=\"0 -960 960 960\">\n",
              "    <path d=\"M120-120v-720h720v720H120Zm60-500h600v-160H180v160Zm220 220h160v-160H400v160Zm0 220h160v-160H400v160ZM180-400h160v-160H180v160Zm440 0h160v-160H620v160ZM180-180h160v-160H180v160Zm440 0h160v-160H620v160Z\"/>\n",
              "  </svg>\n",
              "    </button>\n",
              "\n",
              "  <style>\n",
              "    .colab-df-container {\n",
              "      display:flex;\n",
              "      gap: 12px;\n",
              "    }\n",
              "\n",
              "    .colab-df-convert {\n",
              "      background-color: #E8F0FE;\n",
              "      border: none;\n",
              "      border-radius: 50%;\n",
              "      cursor: pointer;\n",
              "      display: none;\n",
              "      fill: #1967D2;\n",
              "      height: 32px;\n",
              "      padding: 0 0 0 0;\n",
              "      width: 32px;\n",
              "    }\n",
              "\n",
              "    .colab-df-convert:hover {\n",
              "      background-color: #E2EBFA;\n",
              "      box-shadow: 0px 1px 2px rgba(60, 64, 67, 0.3), 0px 1px 3px 1px rgba(60, 64, 67, 0.15);\n",
              "      fill: #174EA6;\n",
              "    }\n",
              "\n",
              "    .colab-df-buttons div {\n",
              "      margin-bottom: 4px;\n",
              "    }\n",
              "\n",
              "    [theme=dark] .colab-df-convert {\n",
              "      background-color: #3B4455;\n",
              "      fill: #D2E3FC;\n",
              "    }\n",
              "\n",
              "    [theme=dark] .colab-df-convert:hover {\n",
              "      background-color: #434B5C;\n",
              "      box-shadow: 0px 1px 3px 1px rgba(0, 0, 0, 0.15);\n",
              "      filter: drop-shadow(0px 1px 2px rgba(0, 0, 0, 0.3));\n",
              "      fill: #FFFFFF;\n",
              "    }\n",
              "  </style>\n",
              "\n",
              "    <script>\n",
              "      const buttonEl =\n",
              "        document.querySelector('#df-bbe1c631-d042-4a23-aa67-49d741fbe437 button.colab-df-convert');\n",
              "      buttonEl.style.display =\n",
              "        google.colab.kernel.accessAllowed ? 'block' : 'none';\n",
              "\n",
              "      async function convertToInteractive(key) {\n",
              "        const element = document.querySelector('#df-bbe1c631-d042-4a23-aa67-49d741fbe437');\n",
              "        const dataTable =\n",
              "          await google.colab.kernel.invokeFunction('convertToInteractive',\n",
              "                                                    [key], {});\n",
              "        if (!dataTable) return;\n",
              "\n",
              "        const docLinkHtml = 'Like what you see? Visit the ' +\n",
              "          '<a target=\"_blank\" href=https://colab.research.google.com/notebooks/data_table.ipynb>data table notebook</a>'\n",
              "          + ' to learn more about interactive tables.';\n",
              "        element.innerHTML = '';\n",
              "        dataTable['output_type'] = 'display_data';\n",
              "        await google.colab.output.renderOutput(dataTable, element);\n",
              "        const docLink = document.createElement('div');\n",
              "        docLink.innerHTML = docLinkHtml;\n",
              "        element.appendChild(docLink);\n",
              "      }\n",
              "    </script>\n",
              "  </div>\n",
              "\n",
              "\n",
              "    <div id=\"df-669d4b7a-e9e9-413a-94c3-8938a8b0001b\">\n",
              "      <button class=\"colab-df-quickchart\" onclick=\"quickchart('df-669d4b7a-e9e9-413a-94c3-8938a8b0001b')\"\n",
              "                title=\"Suggest charts\"\n",
              "                style=\"display:none;\">\n",
              "\n",
              "<svg xmlns=\"http://www.w3.org/2000/svg\" height=\"24px\"viewBox=\"0 0 24 24\"\n",
              "     width=\"24px\">\n",
              "    <g>\n",
              "        <path d=\"M19 3H5c-1.1 0-2 .9-2 2v14c0 1.1.9 2 2 2h14c1.1 0 2-.9 2-2V5c0-1.1-.9-2-2-2zM9 17H7v-7h2v7zm4 0h-2V7h2v10zm4 0h-2v-4h2v4z\"/>\n",
              "    </g>\n",
              "</svg>\n",
              "      </button>\n",
              "\n",
              "<style>\n",
              "  .colab-df-quickchart {\n",
              "      --bg-color: #E8F0FE;\n",
              "      --fill-color: #1967D2;\n",
              "      --hover-bg-color: #E2EBFA;\n",
              "      --hover-fill-color: #174EA6;\n",
              "      --disabled-fill-color: #AAA;\n",
              "      --disabled-bg-color: #DDD;\n",
              "  }\n",
              "\n",
              "  [theme=dark] .colab-df-quickchart {\n",
              "      --bg-color: #3B4455;\n",
              "      --fill-color: #D2E3FC;\n",
              "      --hover-bg-color: #434B5C;\n",
              "      --hover-fill-color: #FFFFFF;\n",
              "      --disabled-bg-color: #3B4455;\n",
              "      --disabled-fill-color: #666;\n",
              "  }\n",
              "\n",
              "  .colab-df-quickchart {\n",
              "    background-color: var(--bg-color);\n",
              "    border: none;\n",
              "    border-radius: 50%;\n",
              "    cursor: pointer;\n",
              "    display: none;\n",
              "    fill: var(--fill-color);\n",
              "    height: 32px;\n",
              "    padding: 0;\n",
              "    width: 32px;\n",
              "  }\n",
              "\n",
              "  .colab-df-quickchart:hover {\n",
              "    background-color: var(--hover-bg-color);\n",
              "    box-shadow: 0 1px 2px rgba(60, 64, 67, 0.3), 0 1px 3px 1px rgba(60, 64, 67, 0.15);\n",
              "    fill: var(--button-hover-fill-color);\n",
              "  }\n",
              "\n",
              "  .colab-df-quickchart-complete:disabled,\n",
              "  .colab-df-quickchart-complete:disabled:hover {\n",
              "    background-color: var(--disabled-bg-color);\n",
              "    fill: var(--disabled-fill-color);\n",
              "    box-shadow: none;\n",
              "  }\n",
              "\n",
              "  .colab-df-spinner {\n",
              "    border: 2px solid var(--fill-color);\n",
              "    border-color: transparent;\n",
              "    border-bottom-color: var(--fill-color);\n",
              "    animation:\n",
              "      spin 1s steps(1) infinite;\n",
              "  }\n",
              "\n",
              "  @keyframes spin {\n",
              "    0% {\n",
              "      border-color: transparent;\n",
              "      border-bottom-color: var(--fill-color);\n",
              "      border-left-color: var(--fill-color);\n",
              "    }\n",
              "    20% {\n",
              "      border-color: transparent;\n",
              "      border-left-color: var(--fill-color);\n",
              "      border-top-color: var(--fill-color);\n",
              "    }\n",
              "    30% {\n",
              "      border-color: transparent;\n",
              "      border-left-color: var(--fill-color);\n",
              "      border-top-color: var(--fill-color);\n",
              "      border-right-color: var(--fill-color);\n",
              "    }\n",
              "    40% {\n",
              "      border-color: transparent;\n",
              "      border-right-color: var(--fill-color);\n",
              "      border-top-color: var(--fill-color);\n",
              "    }\n",
              "    60% {\n",
              "      border-color: transparent;\n",
              "      border-right-color: var(--fill-color);\n",
              "    }\n",
              "    80% {\n",
              "      border-color: transparent;\n",
              "      border-right-color: var(--fill-color);\n",
              "      border-bottom-color: var(--fill-color);\n",
              "    }\n",
              "    90% {\n",
              "      border-color: transparent;\n",
              "      border-bottom-color: var(--fill-color);\n",
              "    }\n",
              "  }\n",
              "</style>\n",
              "\n",
              "      <script>\n",
              "        async function quickchart(key) {\n",
              "          const quickchartButtonEl =\n",
              "            document.querySelector('#' + key + ' button');\n",
              "          quickchartButtonEl.disabled = true;  // To prevent multiple clicks.\n",
              "          quickchartButtonEl.classList.add('colab-df-spinner');\n",
              "          try {\n",
              "            const charts = await google.colab.kernel.invokeFunction(\n",
              "                'suggestCharts', [key], {});\n",
              "          } catch (error) {\n",
              "            console.error('Error during call to suggestCharts:', error);\n",
              "          }\n",
              "          quickchartButtonEl.classList.remove('colab-df-spinner');\n",
              "          quickchartButtonEl.classList.add('colab-df-quickchart-complete');\n",
              "        }\n",
              "        (() => {\n",
              "          let quickchartButtonEl =\n",
              "            document.querySelector('#df-669d4b7a-e9e9-413a-94c3-8938a8b0001b button');\n",
              "          quickchartButtonEl.style.display =\n",
              "            google.colab.kernel.accessAllowed ? 'block' : 'none';\n",
              "        })();\n",
              "      </script>\n",
              "    </div>\n",
              "\n",
              "    </div>\n",
              "  </div>\n"
            ],
            "application/vnd.google.colaboratory.intrinsic+json": {
              "type": "dataframe",
              "variable_name": "nela_df",
              "summary": "{\n  \"name\": \"nela_df\",\n  \"rows\": 10000,\n  \"fields\": [\n    {\n      \"column\": \"date\",\n      \"properties\": {\n        \"dtype\": \"object\",\n        \"num_unique_values\": 302,\n        \"samples\": [\n          \"2018-04-19\",\n          \"2018-08-12\",\n          \"2018-09-11\"\n        ],\n        \"semantic_type\": \"\",\n        \"description\": \"\"\n      }\n    },\n    {\n      \"column\": \"outlet\",\n      \"properties\": {\n        \"dtype\": \"category\",\n        \"num_unique_values\": 5,\n        \"samples\": [\n          \"The Guardian\",\n          \"Vox\",\n          \"CNN\"\n        ],\n        \"semantic_type\": \"\",\n        \"description\": \"\"\n      }\n    },\n    {\n      \"column\": \"text\",\n      \"properties\": {\n        \"dtype\": \"string\",\n        \"num_unique_values\": 9749,\n        \"samples\": [\n          \"Washington (CNN) US taxpayers will pay $72 million to deploy active duty troops to the southern border with Mexico in order to fulfill President Donald Trump's directive that the Pentagon reinforce border personnel readying for the arrival of Central American migrants.\\n\\nThe Pentagon said Tuesday the $72 million price tag covers the cost of deploying the approximately 5,900 active duty troops until December 15 and will increase the longer the troops are deployed.\\n\\nTrump has said he will deploy as many as 15,000 troops if needed to push back against a group of migrants who are planning on asking for asylum . On Tuesday, Trump told reporters that the troops \\\"are proud to be on the border. They are proud to be defending our nation. And we are not letting people in.\\\"\\n\\nPentagon spokesman Col. Rob Manning said in a statement that \\\"based on the current phased force laydown of approximately 5,900 Active Component personnel through December 15, 2018, the estimated cost to deploy, operate, sustain, and redeploy forces is approximately $72 million.\\\"\\n\\n\\\"This estimate includes only those DoD forces and support requested and approved as of 19 November 2018,\\\" he added.\\n\\nA defense official told CNN that lawmakers on Capitol Hill have been briefed on the cost estimate.\\n\\nAccording to the Pentagon's estimate, which has been obtained by CNN, $19 million is to cover personnel costs, $20 million is for transportation costs, $28 million is for \\\"operating expenses\\\" and $5 million is for border fortification and barrier material.\\n\\nManning said Monday that 11,426 meters of wire obstacles had been placed in Texas, 2,714 meters had been put up in Arizona and 4,145 meters had been erected in California.\\n\\nThe $72 million estimate does not cover the cost of the National Guard deployment that Trump previously ordered to help protect the southern border. The Pentagon estimates that the cost of that deployment, which includes some 2,100 National Guard personnel and 17 aircraft, is $138 million to date.\\n\\nOf the 5,900 active duty troops assigned to the mission approximately 2,800 in Texas, 1,500 in Arizona and 1,500 in California.\\n\\nEarlier on Tuesday, US Northern Command, which is overseeing the border mission, issued a statement saying they \\\"are continually assessing our resources and refining requirements in close coordination with the Department of Homeland Security.\\\"\\n\\n\\\"We may shift some forces to other areas of the border to engineering support missions in California and other areas. No specific timeline for redeployment has been determined. We will provide more details as they become available,\\\" the statement added.\\n\\nUnder the current plan, the border mission is scheduled to end December 15th. Military officials have previously indicated that troops involved in building bases and other infrastructure could be coming home before that.\",\n          \"The $1.3 trillion omnibus spending bill that passed Friday morning and averted a government shutdown increases spending on clean energy and keeps the Environmental Protection Agency funded at current levels.\\n\\nThats despite the White House suggestion that Congress cut EPAs budget by one-third and make drastic reductions in clean energy research.\\n\\nTarak Shah, a former chief of staff in the science and energy office at the US Department of Energy, told Vox the bill was an utter repudiation of the Trump budget!\\n\\nThe EPA will keep its $8.1 billion budget with a few changes, including $66 million allocated toward the Superfund program for cleaning up highly contaminated sites.\\n\\nThe Department of Energys high-risk, high-reward research incubator, the Advanced Research Projects Agency-Energy, or ARPA-E, can also breathe easy. Trumps budget proposal recommended eliminating the popular program, but Congress gave it a $47 million boost up to $353 million.\\n\\nThe DOEs Energy Efficiency and Renewable Energy office, which the White House wanted to gut by $1.3 billion, also got a 15 percent increase to a new total of $2.3 billion.\\n\\nThere are also a few strange energy-related riders: The bill declares biomass as a carbon-neutral energy source, though scientists are still debating whether thats the case. Livestock producers are permanently exempted from the EPAs greenhouse gas regulations, killing any efforts to keep them in check.\\n\\nOn balance, the spending package signals that while the Trump administration is desperate to save American coal and eliminate environmental regulations, lawmakers from both parties still think that protecting the environment is a high priority and that clean energy is a worthwhile endeavor.\\n\\nFederal agencies, however, have some discretion in how they spend the money Congress gives them, and some departments are dragging their feet when it comes to doing the work theyre supposed to do.\\n\\nWere already seeing grant applications and research programs being screened for references to climate change at the EPA, the DOE, and the Department of the Interior. The EPA has seen a decline in enforcement of rules against polluters, and lawmakers have complained that programs like ARPA-E have delayed or not issued the funding that theyre required to provide.\\n\\nSo while many energy and environmental initiatives across government received more cash, there is still an ongoing fight to make sure the money actually gets spent.\",\n          \"American TV journalist Megyn Kelly is being criticised on social media for questioning why blackface is racist.\\n\\nThe former lawyer asked, \\\"What is racist?\\\" in a discussion about inappropriate Halloween costumes during a Tuesday morning episode of NBC's \\\"Megyn Kelly Today\\\".\\n\\n\\\"Back when I was a kid, that was okay just as long as you were dressing as a character,\\\" she said, referring to white people painting their faces black for Halloween.\\n\\nAfter strong criticism online, Kelly emailed colleagues to apologise, writing: \\\"The history of blackface in our culture is abhorrent; the wounds too deep.\\\"\\n\\nBlackface has a history of perpetuating offensive and racist stereotypes of African Americans dating back more than 200 years in the United States.\\n\\n\\\"It's a tradition rooted in racism which is very much about the fear of black people and the laughing at black people,\\\" Dr Kehinde Andrews, Associate Professor in Sociology at Birmingham City University told the BBC in June.\\n\\nMany on Twitter took the opportunity to explain why blackface is widely considered offensive.\\n\\n\\\"Open up a history book. White people used to paint their faces black and act out ridiculous black characters during the Jim Crow era,\\\" wrote user Annabel Lee.\\n\\nMany suggested that dressing up to imitate African Americans stopped being acceptable in the 1950s, and questioned whether it had been appropriate when Kelly was a child.\\n\\nOthers questioned why a group of white commentators would have a discussion on blackface at all without the perspectives of African-American commentators.\\n\\n\\\"I just don't think it's white people's place to tell us whether we can be offended over blackface or not. Especially since blackface has never been used against them to dehumanise and oppress them systematically,\\\" wrote user Bella Goth.\\n\\nHowever, others suggested that it should be common knowledge that the practice is inappropriate.\\n\\n\\\"I've seen comments that blast NBC for not having a black person on the panel, but honestly, minstrel shows and blackface were a popular form of extremely racist mass entertainment in America through the early 20th century. People who comment for a living should know that,\\\" wrote journalist Jamelle Bouie.\\n\\nSome called on NBC to cancel the Megyn Kelly show, writing \\\"this is not only tone deaf, she's flat out racist. I was not raised to think blackface was OK and I'm 46, from small town Pennsylvania,\\\" wrote @Seanbaby.\\n\\nOthers recalled when Kelly made headlines in 2013 for stating it is \\\"historical fact\\\" that Jesus Christ, a man born in the Middle East, was white, adding that Father Christmas is too.\"\n        ],\n        \"semantic_type\": \"\",\n        \"description\": \"\"\n      }\n    }\n  ]\n}"
            }
          },
          "metadata": {},
          "execution_count": 65
        }
      ],
      "source": [
        "#pass the list of lists to a pd.DataFrame():\n",
        "nela_df = pd.DataFrame(nela_lists, columns=[\"date\", \"outlet\", \"text\"]) #we pass in the data (nela_lists) and also the column names (date, outlet, text)\n",
        "\n",
        "#Inspect the first few rows of the dataframe:\n",
        "nela_df.head()"
      ]
    },
    {
      "cell_type": "code",
      "execution_count": 68,
      "id": "9234c527",
      "metadata": {
        "colab": {
          "base_uri": "https://localhost:8080/"
        },
        "id": "9234c527",
        "outputId": "7e7313d1-aca7-4a64-a826-781c692bd432"
      },
      "outputs": [
        {
          "output_type": "execute_result",
          "data": {
            "text/plain": [
              "(10000, 3)"
            ]
          },
          "metadata": {},
          "execution_count": 68
        }
      ],
      "source": [
        "#how many samples do we have in total? (hint: a dataframe has .shape attribute that you can call)\n",
        "nela_df.shape"
      ]
    },
    {
      "cell_type": "code",
      "execution_count": 69,
      "id": "a2ba1302",
      "metadata": {
        "colab": {
          "base_uri": "https://localhost:8080/",
          "height": 178
        },
        "id": "a2ba1302",
        "outputId": "35866021-2590-42b4-92a0-80992a1ac509"
      },
      "outputs": [
        {
          "output_type": "execute_result",
          "data": {
            "text/plain": [
              "date      0\n",
              "outlet    0\n",
              "text      0\n",
              "dtype: int64"
            ],
            "text/html": [
              "<div>\n",
              "<style scoped>\n",
              "    .dataframe tbody tr th:only-of-type {\n",
              "        vertical-align: middle;\n",
              "    }\n",
              "\n",
              "    .dataframe tbody tr th {\n",
              "        vertical-align: top;\n",
              "    }\n",
              "\n",
              "    .dataframe thead th {\n",
              "        text-align: right;\n",
              "    }\n",
              "</style>\n",
              "<table border=\"1\" class=\"dataframe\">\n",
              "  <thead>\n",
              "    <tr style=\"text-align: right;\">\n",
              "      <th></th>\n",
              "      <th>0</th>\n",
              "    </tr>\n",
              "  </thead>\n",
              "  <tbody>\n",
              "    <tr>\n",
              "      <th>date</th>\n",
              "      <td>0</td>\n",
              "    </tr>\n",
              "    <tr>\n",
              "      <th>outlet</th>\n",
              "      <td>0</td>\n",
              "    </tr>\n",
              "    <tr>\n",
              "      <th>text</th>\n",
              "      <td>0</td>\n",
              "    </tr>\n",
              "  </tbody>\n",
              "</table>\n",
              "</div><br><label><b>dtype:</b> int64</label>"
            ]
          },
          "metadata": {},
          "execution_count": 69
        }
      ],
      "source": [
        "#do any columns have missing data?\n",
        "nela_df.isnull().sum()"
      ]
    },
    {
      "cell_type": "code",
      "execution_count": 70,
      "id": "b59343f5",
      "metadata": {
        "colab": {
          "base_uri": "https://localhost:8080/"
        },
        "id": "b59343f5",
        "outputId": "e283f3c5-ecf1-4427-da3a-2fa315a9b38f"
      },
      "outputs": [
        {
          "output_type": "stream",
          "name": "stdout",
          "text": [
            "2018-11-30\n",
            "2018-02-02\n"
          ]
        },
        {
          "output_type": "execute_result",
          "data": {
            "text/plain": [
              "(None, None)"
            ]
          },
          "metadata": {},
          "execution_count": 70
        }
      ],
      "source": [
        "#let's check the date range:\n",
        "nela_df['date'] = pd.to_datetime(nela_df['date']) #first we convert the 'date' column to datetime format (it is currently a string)\n",
        "min_date = nela_df['date'].min() #get the minimum value of the 'date' column\n",
        "max_date = nela_df['date'].max() #get the maximum value of the 'date' column\n",
        "print(max_date.date()), print(min_date.date())\n",
        "\n",
        "#BONUS: can you calculate the total date range in days?\n"
      ]
    },
    {
      "cell_type": "code",
      "execution_count": 72,
      "id": "84c12190",
      "metadata": {
        "colab": {
          "base_uri": "https://localhost:8080/"
        },
        "id": "84c12190",
        "outputId": "46fdfd34-4832-473c-b92f-26c5cfaf0f5c"
      },
      "outputs": [
        {
          "output_type": "stream",
          "name": "stdout",
          "text": [
            "The dataset contains articles from 2018-02-02 to 2018-11-30.\n"
          ]
        }
      ],
      "source": [
        "#A quick introduction to 'F-strings' (formatted string literals) -\n",
        "\n",
        "#Sometimes, you want to include variables inside strings, for example:\n",
        "print(f\"The dataset contains articles from {min_date.date()} to {max_date.date()}.\")\n",
        "#...the f before the string tells Python to interpret any variables inside curly braces {}.\n",
        "#These are really useful for printing out informative messages that include the values of variables."
      ]
    },
    {
      "cell_type": "code",
      "execution_count": 73,
      "id": "81785f9d",
      "metadata": {
        "colab": {
          "base_uri": "https://localhost:8080/",
          "height": 272
        },
        "id": "81785f9d",
        "outputId": "5fa93650-aa99-4a85-98a5-6b02a13dcd39"
      },
      "outputs": [
        {
          "output_type": "execute_result",
          "data": {
            "text/plain": [
              "outlet\n",
              "Infowars        2000\n",
              "The Guardian    2000\n",
              "CNN             2000\n",
              "BBC             2000\n",
              "Vox             2000\n",
              "Name: count, dtype: int64"
            ],
            "text/html": [
              "<div>\n",
              "<style scoped>\n",
              "    .dataframe tbody tr th:only-of-type {\n",
              "        vertical-align: middle;\n",
              "    }\n",
              "\n",
              "    .dataframe tbody tr th {\n",
              "        vertical-align: top;\n",
              "    }\n",
              "\n",
              "    .dataframe thead th {\n",
              "        text-align: right;\n",
              "    }\n",
              "</style>\n",
              "<table border=\"1\" class=\"dataframe\">\n",
              "  <thead>\n",
              "    <tr style=\"text-align: right;\">\n",
              "      <th></th>\n",
              "      <th>count</th>\n",
              "    </tr>\n",
              "    <tr>\n",
              "      <th>outlet</th>\n",
              "      <th></th>\n",
              "    </tr>\n",
              "  </thead>\n",
              "  <tbody>\n",
              "    <tr>\n",
              "      <th>Infowars</th>\n",
              "      <td>2000</td>\n",
              "    </tr>\n",
              "    <tr>\n",
              "      <th>The Guardian</th>\n",
              "      <td>2000</td>\n",
              "    </tr>\n",
              "    <tr>\n",
              "      <th>CNN</th>\n",
              "      <td>2000</td>\n",
              "    </tr>\n",
              "    <tr>\n",
              "      <th>BBC</th>\n",
              "      <td>2000</td>\n",
              "    </tr>\n",
              "    <tr>\n",
              "      <th>Vox</th>\n",
              "      <td>2000</td>\n",
              "    </tr>\n",
              "  </tbody>\n",
              "</table>\n",
              "</div><br><label><b>dtype:</b> int64</label>"
            ]
          },
          "metadata": {},
          "execution_count": 73
        }
      ],
      "source": [
        "#what are the distributions of articles per outlet?\n",
        "nela_df['outlet'].value_counts()"
      ]
    },
    {
      "cell_type": "code",
      "execution_count": 74,
      "id": "8683a46b",
      "metadata": {
        "colab": {
          "base_uri": "https://localhost:8080/",
          "height": 489
        },
        "id": "8683a46b",
        "outputId": "d43160cb-bfa1-4d17-9bd5-1fdd0b089d9c"
      },
      "outputs": [
        {
          "output_type": "execute_result",
          "data": {
            "text/plain": [
              "date\n",
              "2018-02-02    13\n",
              "2018-02-03     6\n",
              "2018-02-04     9\n",
              "2018-02-05    13\n",
              "2018-02-06    22\n",
              "              ..\n",
              "2018-11-26    35\n",
              "2018-11-27    27\n",
              "2018-11-28    66\n",
              "2018-11-29    46\n",
              "2018-11-30    42\n",
              "Name: count, Length: 302, dtype: int64"
            ],
            "text/html": [
              "<div>\n",
              "<style scoped>\n",
              "    .dataframe tbody tr th:only-of-type {\n",
              "        vertical-align: middle;\n",
              "    }\n",
              "\n",
              "    .dataframe tbody tr th {\n",
              "        vertical-align: top;\n",
              "    }\n",
              "\n",
              "    .dataframe thead th {\n",
              "        text-align: right;\n",
              "    }\n",
              "</style>\n",
              "<table border=\"1\" class=\"dataframe\">\n",
              "  <thead>\n",
              "    <tr style=\"text-align: right;\">\n",
              "      <th></th>\n",
              "      <th>count</th>\n",
              "    </tr>\n",
              "    <tr>\n",
              "      <th>date</th>\n",
              "      <th></th>\n",
              "    </tr>\n",
              "  </thead>\n",
              "  <tbody>\n",
              "    <tr>\n",
              "      <th>2018-02-02</th>\n",
              "      <td>13</td>\n",
              "    </tr>\n",
              "    <tr>\n",
              "      <th>2018-02-03</th>\n",
              "      <td>6</td>\n",
              "    </tr>\n",
              "    <tr>\n",
              "      <th>2018-02-04</th>\n",
              "      <td>9</td>\n",
              "    </tr>\n",
              "    <tr>\n",
              "      <th>2018-02-05</th>\n",
              "      <td>13</td>\n",
              "    </tr>\n",
              "    <tr>\n",
              "      <th>2018-02-06</th>\n",
              "      <td>22</td>\n",
              "    </tr>\n",
              "    <tr>\n",
              "      <th>...</th>\n",
              "      <td>...</td>\n",
              "    </tr>\n",
              "    <tr>\n",
              "      <th>2018-11-26</th>\n",
              "      <td>35</td>\n",
              "    </tr>\n",
              "    <tr>\n",
              "      <th>2018-11-27</th>\n",
              "      <td>27</td>\n",
              "    </tr>\n",
              "    <tr>\n",
              "      <th>2018-11-28</th>\n",
              "      <td>66</td>\n",
              "    </tr>\n",
              "    <tr>\n",
              "      <th>2018-11-29</th>\n",
              "      <td>46</td>\n",
              "    </tr>\n",
              "    <tr>\n",
              "      <th>2018-11-30</th>\n",
              "      <td>42</td>\n",
              "    </tr>\n",
              "  </tbody>\n",
              "</table>\n",
              "<p>302 rows × 1 columns</p>\n",
              "</div><br><label><b>dtype:</b> int64</label>"
            ]
          },
          "metadata": {},
          "execution_count": 74
        }
      ],
      "source": [
        "#what are the distribution of articles by date?\n",
        "nela_df['date'].dt.date.value_counts().sort_index()"
      ]
    },
    {
      "cell_type": "markdown",
      "id": "d6fc9e01",
      "metadata": {
        "id": "d6fc9e01"
      },
      "source": [
        "### summing up what you see\n",
        "\n",
        "**NELA-PS Dataset Overview:**\n",
        "\n",
        "*[Enter your observations here]*\n"
      ]
    },
    {
      "cell_type": "markdown",
      "id": "bf38bb38",
      "metadata": {
        "id": "bf38bb38"
      },
      "source": [
        "## 3. WSJ_Reuters Financial News Dataset"
      ]
    },
    {
      "cell_type": "markdown",
      "id": "247f61c7",
      "metadata": {
        "id": "247f61c7"
      },
      "source": [
        "> 💡 Now things get a little more interesting. If you take a look at the dataset, you will find a single file in .JSON format. These can store all kinds of data types, but often you will find they contain dictionaries (key-value pairs). Still, the only way to know, is to take a look."
      ]
    },
    {
      "cell_type": "markdown",
      "id": "4b960ad6",
      "metadata": {
        "id": "4b960ad6"
      },
      "source": [
        "### loading the data"
      ]
    },
    {
      "cell_type": "code",
      "execution_count": null,
      "id": "4d9ceeab",
      "metadata": {
        "id": "4d9ceeab"
      },
      "outputs": [],
      "source": [
        "#first, let's define where this dataset is stored on your computer:\n",
        "datadir = '/Users/rupertkiddle/Desktop/teach/2025/IMLfTAwP (GESIS)/3_datasets/WSJ-Reuters/'\n",
        "\n",
        "#let's use glob to get the filepath of the .json file in the directory:\n",
        "file_path = glob(os.path.join(datadir, \"*.json\"))\n",
        "file_path #this should return a list with a single filepath in it.\n"
      ]
    },
    {
      "cell_type": "code",
      "execution_count": null,
      "id": "79ad958a",
      "metadata": {
        "id": "79ad958a"
      },
      "outputs": [],
      "source": [
        "#now, let's take a peek at the first two lines of the file:\n",
        "with open(file_path[0], \"r\", encoding=\"utf-8\") as f:\n",
        "    first_line = f.readline() #read the first line of the file\n",
        "    second_line = f.readline() #read the second line of the file\n",
        "print(first_line) #print the first line\n",
        "print(second_line) #print the second line\n",
        "\n",
        "#See the {key: value} pairs? This indicates that the file indeed contains data in dictionary format.\n",
        "#NOTE: you could also just open the file in a text editor to peek, but it might not work if the file is very large!"
      ]
    },
    {
      "cell_type": "code",
      "execution_count": null,
      "id": "cb096628",
      "metadata": {
        "id": "cb096628"
      },
      "outputs": [],
      "source": [
        "#Great, so now we know the structure of the file: it contains one dictionary per line. Let's load it in to a list of dictionaries:\n",
        "data_dicts = [] #create an empty list to store the dictionaries in\n",
        "with open(file_path[0], \"r\", encoding=\"utf-8\") as f:\n",
        "    for line in f: #for each line in the file\n",
        "        data_dicts.append(json.loads(line)) #load the line as a dictionary and append it to the list\n",
        "\n",
        "#...and let's look at the first two dictionaries:\n",
        "data_dicts[:2]"
      ]
    },
    {
      "cell_type": "markdown",
      "id": "6d34e331",
      "metadata": {
        "id": "6d34e331"
      },
      "source": [
        "### exploring the data"
      ]
    },
    {
      "cell_type": "code",
      "execution_count": null,
      "id": "8cb02e57",
      "metadata": {
        "id": "8cb02e57"
      },
      "outputs": [],
      "source": [
        "#Let's take a look at the keys in the first dictionary:\n",
        "data_dicts[0].keys() #notice we are calling .keys() on the first element [0] of the list of dictionaries."
      ]
    },
    {
      "cell_type": "markdown",
      "id": "f65f78be",
      "metadata": {
        "id": "f65f78be"
      },
      "source": [
        "> 💡 From here, feel free to explore the data as you like. Since it appears to be 'flat' (i.e., does not have nested collections), you could convert it to a dataframe. Alternatively, you could perform analysis directly on the lists of dictionaries, or pull the values out into separate lists using a loop or list comprehension."
      ]
    },
    {
      "cell_type": "code",
      "execution_count": null,
      "id": "8bc33e90",
      "metadata": {
        "id": "8bc33e90"
      },
      "outputs": [],
      "source": [
        "#your code..."
      ]
    },
    {
      "cell_type": "code",
      "execution_count": null,
      "id": "6b90b833",
      "metadata": {
        "id": "6b90b833"
      },
      "outputs": [],
      "source": [
        "#CHALLENGE: Write a loop that creates a dict where the keys are the URLs and the values are dicts containing the other key-value pairs for that article.\n",
        "#Your final dict should look like:\n",
        "#{\"url1\": {'news_title': '...', 'news_time': '...', 'content': '...', 'keywords': '...'},\n",
        "# \"url2\": {'news_title': '...', 'news_time': '...', 'content': '...', 'keywords': '...'}, ...}\n",
        "#NOTE: This is a common structure to have if you scrape data from the web yourself - some ID as key (e.g., URL), and the other contained as k:v pairs in a nested dict."
      ]
    },
    {
      "cell_type": "markdown",
      "id": "5ac76f7f",
      "metadata": {
        "id": "5ac76f7f"
      },
      "source": [
        "> 💡 The true worth of the dict structure becomes apparent when you have deeply nested datasets. This is not something that we will encouter with the example datasets in this course, but if you do have such data yourself, and need some assistance wrangling it, feel free to ask!"
      ]
    },
    {
      "cell_type": "markdown",
      "id": "fbbb6510",
      "metadata": {
        "id": "fbbb6510"
      },
      "source": [
        "### summing up what you see -\n",
        "\n",
        "**WSJ-Reuters Dataset Overview:**\n",
        "\n",
        "*[Enter your observations here]*\n"
      ]
    },
    {
      "cell_type": "markdown",
      "id": "f17e4215",
      "metadata": {
        "id": "f17e4215"
      },
      "source": []
    },
    {
      "cell_type": "markdown",
      "id": "8685a0ce",
      "metadata": {
        "id": "8685a0ce"
      },
      "source": [
        "## 4. Fetch_20newsgroups Dataset"
      ]
    },
    {
      "cell_type": "markdown",
      "id": "6c7fe395",
      "metadata": {
        "id": "6c7fe395"
      },
      "source": [
        "> 💡 This dataset we will not download in the usual manner. It is a dataset that is served by the sklearn library. Nowadays, several machine learning libraries include built-in datasets for convenience. For example, take a look at [sklearn datasets](https://scikit-learn.org/stable/api/sklearn.datasets.html) and [HuggingFace datasets](https://huggingface.co/docs/datasets/en/index). For such datasets, we can retrieve them within our code."
      ]
    },
    {
      "cell_type": "code",
      "execution_count": null,
      "id": "81963df1",
      "metadata": {
        "id": "81963df1"
      },
      "outputs": [],
      "source": [
        "#first we need to import the function to fetch the dataset:\n",
        "from sklearn.datasets import fetch_20newsgroups\n",
        "\n",
        "#now we can fetch the dataset (hover over the function name to see the docstring)\n",
        "docs = fetch_20newsgroups()"
      ]
    },
    {
      "cell_type": "markdown",
      "id": "ece1f6c8",
      "metadata": {
        "id": "ece1f6c8"
      },
      "source": [
        "> 💡 Take a look at sklearn's guide to the [20 newsgroups dataset](https://scikit-learn.org/stable/datasets/real_world.html#newsgroups-dataset) to get an idea of what sort of data is there and how you can pass arguments to the function above to get different parts of the dataset. Additionally, feel free to explore their [other datasets](https://scikit-learn.org/stable/api/sklearn.datasets.html) as you like.\n"
      ]
    },
    {
      "cell_type": "markdown",
      "id": "188b0909",
      "metadata": {
        "id": "188b0909"
      },
      "source": [
        "### summing up what you see -\n",
        "\n",
        "**Fetch_20newsgroups Dataset:**\n",
        "\n",
        "*[Enter your observations here]*\n"
      ]
    },
    {
      "cell_type": "markdown",
      "id": "6553295a",
      "metadata": {
        "id": "6553295a"
      },
      "source": [
        "## 5. Your own dataset!\n",
        "> 💡 Feel free to load and play around with your own dataset. If you do not yet have one, see the notes at the top of this workbook."
      ]
    },
    {
      "cell_type": "markdown",
      "source": [
        "## TIKTOK METADATA"
      ],
      "metadata": {
        "id": "cqyX-H-au1kG"
      },
      "id": "cqyX-H-au1kG"
    },
    {
      "cell_type": "code",
      "execution_count": 75,
      "id": "6c12b2fa",
      "metadata": {
        "colab": {
          "base_uri": "https://localhost:8080/",
          "height": 89
        },
        "id": "6c12b2fa",
        "outputId": "57f76eb0-8ea5-4ec5-f380-a621eacba654"
      },
      "outputs": [
        {
          "output_type": "display_data",
          "data": {
            "text/plain": [
              "<IPython.core.display.HTML object>"
            ],
            "text/html": [
              "\n",
              "     <input type=\"file\" id=\"files-80615529-0213-4ff4-9cea-b49266fac388\" name=\"files[]\" multiple disabled\n",
              "        style=\"border:none\" />\n",
              "     <output id=\"result-80615529-0213-4ff4-9cea-b49266fac388\">\n",
              "      Upload widget is only available when the cell has been executed in the\n",
              "      current browser session. Please rerun this cell to enable.\n",
              "      </output>\n",
              "      <script>// Copyright 2017 Google LLC\n",
              "//\n",
              "// Licensed under the Apache License, Version 2.0 (the \"License\");\n",
              "// you may not use this file except in compliance with the License.\n",
              "// You may obtain a copy of the License at\n",
              "//\n",
              "//      http://www.apache.org/licenses/LICENSE-2.0\n",
              "//\n",
              "// Unless required by applicable law or agreed to in writing, software\n",
              "// distributed under the License is distributed on an \"AS IS\" BASIS,\n",
              "// WITHOUT WARRANTIES OR CONDITIONS OF ANY KIND, either express or implied.\n",
              "// See the License for the specific language governing permissions and\n",
              "// limitations under the License.\n",
              "\n",
              "/**\n",
              " * @fileoverview Helpers for google.colab Python module.\n",
              " */\n",
              "(function(scope) {\n",
              "function span(text, styleAttributes = {}) {\n",
              "  const element = document.createElement('span');\n",
              "  element.textContent = text;\n",
              "  for (const key of Object.keys(styleAttributes)) {\n",
              "    element.style[key] = styleAttributes[key];\n",
              "  }\n",
              "  return element;\n",
              "}\n",
              "\n",
              "// Max number of bytes which will be uploaded at a time.\n",
              "const MAX_PAYLOAD_SIZE = 100 * 1024;\n",
              "\n",
              "function _uploadFiles(inputId, outputId) {\n",
              "  const steps = uploadFilesStep(inputId, outputId);\n",
              "  const outputElement = document.getElementById(outputId);\n",
              "  // Cache steps on the outputElement to make it available for the next call\n",
              "  // to uploadFilesContinue from Python.\n",
              "  outputElement.steps = steps;\n",
              "\n",
              "  return _uploadFilesContinue(outputId);\n",
              "}\n",
              "\n",
              "// This is roughly an async generator (not supported in the browser yet),\n",
              "// where there are multiple asynchronous steps and the Python side is going\n",
              "// to poll for completion of each step.\n",
              "// This uses a Promise to block the python side on completion of each step,\n",
              "// then passes the result of the previous step as the input to the next step.\n",
              "function _uploadFilesContinue(outputId) {\n",
              "  const outputElement = document.getElementById(outputId);\n",
              "  const steps = outputElement.steps;\n",
              "\n",
              "  const next = steps.next(outputElement.lastPromiseValue);\n",
              "  return Promise.resolve(next.value.promise).then((value) => {\n",
              "    // Cache the last promise value to make it available to the next\n",
              "    // step of the generator.\n",
              "    outputElement.lastPromiseValue = value;\n",
              "    return next.value.response;\n",
              "  });\n",
              "}\n",
              "\n",
              "/**\n",
              " * Generator function which is called between each async step of the upload\n",
              " * process.\n",
              " * @param {string} inputId Element ID of the input file picker element.\n",
              " * @param {string} outputId Element ID of the output display.\n",
              " * @return {!Iterable<!Object>} Iterable of next steps.\n",
              " */\n",
              "function* uploadFilesStep(inputId, outputId) {\n",
              "  const inputElement = document.getElementById(inputId);\n",
              "  inputElement.disabled = false;\n",
              "\n",
              "  const outputElement = document.getElementById(outputId);\n",
              "  outputElement.innerHTML = '';\n",
              "\n",
              "  const pickedPromise = new Promise((resolve) => {\n",
              "    inputElement.addEventListener('change', (e) => {\n",
              "      resolve(e.target.files);\n",
              "    });\n",
              "  });\n",
              "\n",
              "  const cancel = document.createElement('button');\n",
              "  inputElement.parentElement.appendChild(cancel);\n",
              "  cancel.textContent = 'Cancel upload';\n",
              "  const cancelPromise = new Promise((resolve) => {\n",
              "    cancel.onclick = () => {\n",
              "      resolve(null);\n",
              "    };\n",
              "  });\n",
              "\n",
              "  // Wait for the user to pick the files.\n",
              "  const files = yield {\n",
              "    promise: Promise.race([pickedPromise, cancelPromise]),\n",
              "    response: {\n",
              "      action: 'starting',\n",
              "    }\n",
              "  };\n",
              "\n",
              "  cancel.remove();\n",
              "\n",
              "  // Disable the input element since further picks are not allowed.\n",
              "  inputElement.disabled = true;\n",
              "\n",
              "  if (!files) {\n",
              "    return {\n",
              "      response: {\n",
              "        action: 'complete',\n",
              "      }\n",
              "    };\n",
              "  }\n",
              "\n",
              "  for (const file of files) {\n",
              "    const li = document.createElement('li');\n",
              "    li.append(span(file.name, {fontWeight: 'bold'}));\n",
              "    li.append(span(\n",
              "        `(${file.type || 'n/a'}) - ${file.size} bytes, ` +\n",
              "        `last modified: ${\n",
              "            file.lastModifiedDate ? file.lastModifiedDate.toLocaleDateString() :\n",
              "                                    'n/a'} - `));\n",
              "    const percent = span('0% done');\n",
              "    li.appendChild(percent);\n",
              "\n",
              "    outputElement.appendChild(li);\n",
              "\n",
              "    const fileDataPromise = new Promise((resolve) => {\n",
              "      const reader = new FileReader();\n",
              "      reader.onload = (e) => {\n",
              "        resolve(e.target.result);\n",
              "      };\n",
              "      reader.readAsArrayBuffer(file);\n",
              "    });\n",
              "    // Wait for the data to be ready.\n",
              "    let fileData = yield {\n",
              "      promise: fileDataPromise,\n",
              "      response: {\n",
              "        action: 'continue',\n",
              "      }\n",
              "    };\n",
              "\n",
              "    // Use a chunked sending to avoid message size limits. See b/62115660.\n",
              "    let position = 0;\n",
              "    do {\n",
              "      const length = Math.min(fileData.byteLength - position, MAX_PAYLOAD_SIZE);\n",
              "      const chunk = new Uint8Array(fileData, position, length);\n",
              "      position += length;\n",
              "\n",
              "      const base64 = btoa(String.fromCharCode.apply(null, chunk));\n",
              "      yield {\n",
              "        response: {\n",
              "          action: 'append',\n",
              "          file: file.name,\n",
              "          data: base64,\n",
              "        },\n",
              "      };\n",
              "\n",
              "      let percentDone = fileData.byteLength === 0 ?\n",
              "          100 :\n",
              "          Math.round((position / fileData.byteLength) * 100);\n",
              "      percent.textContent = `${percentDone}% done`;\n",
              "\n",
              "    } while (position < fileData.byteLength);\n",
              "  }\n",
              "\n",
              "  // All done.\n",
              "  yield {\n",
              "    response: {\n",
              "      action: 'complete',\n",
              "    }\n",
              "  };\n",
              "}\n",
              "\n",
              "scope.google = scope.google || {};\n",
              "scope.google.colab = scope.google.colab || {};\n",
              "scope.google.colab._files = {\n",
              "  _uploadFiles,\n",
              "  _uploadFilesContinue,\n",
              "};\n",
              "})(self);\n",
              "</script> "
            ]
          },
          "metadata": {}
        },
        {
          "output_type": "stream",
          "name": "stdout",
          "text": [
            "Saving scraped_data-test2.csv to scraped_data-test2.csv\n",
            "User uploaded file \"scraped_data-test2.csv\" with length 174816 bytes\n"
          ]
        }
      ],
      "source": [
        "# load data\n",
        "from google.colab import files\n",
        "\n",
        "uploaded = files.upload()\n",
        "\n",
        "for fn in uploaded.keys():\n",
        "  print('User uploaded file \"{name}\" with length {length} bytes'.format(\n",
        "      name=fn, length=len(uploaded[fn])))"
      ]
    },
    {
      "cell_type": "code",
      "source": [
        "import pandas as pd\n",
        "\n",
        "# Load CSV into a DataFrame\n",
        "df = pd.read_csv(\"scraped_data-test2.csv\")\n",
        "\n",
        "# Show the first 5 rows\n",
        "print(df.head())\n"
      ],
      "metadata": {
        "colab": {
          "base_uri": "https://localhost:8080/"
        },
        "id": "wONYzu88tpe1",
        "outputId": "54e0f8d1-9dfb-4b6c-ec34-671a3e55e966"
      },
      "id": "wONYzu88tpe1",
      "execution_count": 116,
      "outputs": [
        {
          "output_type": "stream",
          "name": "stdout",
          "text": [
            "                  date                                               link  \\\n",
            "0  2025-07-22 09:48:11  https://www.tiktokv.com/share/video/7505430917...   \n",
            "1  2025-07-22 09:48:18  https://www.tiktokv.com/share/video/7519052633...   \n",
            "2  2025-07-22 09:48:32  https://www.tiktokv.com/share/video/7526540252...   \n",
            "3  2025-07-22 09:48:35  https://www.tiktokv.com/share/video/7529098443...   \n",
            "4  2025-07-22 09:48:36  https://www.tiktokv.com/share/video/7517016897...   \n",
            "\n",
            "             contentID  duration      authorID AdContent AdAccount  diggCount  \\\n",
            "0  7505430917360487702      59.0  7.252552e+18     False     False    71700.0   \n",
            "1  7519052633512873238      47.0  7.476754e+18     False     False    36300.0   \n",
            "2  7526540252249345312     269.0  7.433888e+18     False     False    31700.0   \n",
            "3  7529098443956981025      15.0  6.949597e+18     False     False   151500.0   \n",
            "4  7517016897272024342      44.0  7.484669e+18     False     False   108800.0   \n",
            "\n",
            "   commentCount  playCount  shareCount           username  \\\n",
            "0         451.0   721800.0      3069.0  likeme.edits.varo   \n",
            "1        1168.0   819500.0     21000.0         pov_sensei   \n",
            "2         171.0   323300.0      7628.0  heethoofdcartoons   \n",
            "3         178.0  1500000.0      3188.0          dauwgitte   \n",
            "4        2650.0  2300000.0      8553.0  faceless.inc.proj   \n",
            "\n",
            "                                         description  \n",
            "0  Beetje laat met deze trend hahaha  #kijkenmaar...  \n",
            "1  POV: You Are Visiting Brussels In 2050 #brusse...  \n",
            "2  Heethoofd zoekt geld💸💰 #fyp #voorjou #antwerpe...  \n",
            "3                                     #tomorrowland   \n",
            "4  Day 1 of starting a clipping channel from scra...  \n"
          ]
        }
      ]
    },
    {
      "cell_type": "code",
      "source": [
        "# How many rows, columns?\n",
        "df.shape"
      ],
      "metadata": {
        "colab": {
          "base_uri": "https://localhost:8080/"
        },
        "id": "MzYqJ6ALuBzd",
        "outputId": "0dfce1d5-c418-48aa-f7de-ce9104e51576"
      },
      "id": "MzYqJ6ALuBzd",
      "execution_count": 118,
      "outputs": [
        {
          "output_type": "execute_result",
          "data": {
            "text/plain": [
              "(612, 13)"
            ]
          },
          "metadata": {},
          "execution_count": 118
        }
      ]
    },
    {
      "cell_type": "code",
      "source": [
        "# do any columns have missing data? - many, deleted tiktoks - and some without\n",
        "# descriptions?\n",
        "df.isnull().sum()"
      ],
      "metadata": {
        "colab": {
          "base_uri": "https://localhost:8080/",
          "height": 491
        },
        "id": "97Z8ACZjuHXI",
        "outputId": "91e02158-01b1-433f-ac65-33772b4afc92"
      },
      "id": "97Z8ACZjuHXI",
      "execution_count": 119,
      "outputs": [
        {
          "output_type": "execute_result",
          "data": {
            "text/plain": [
              "date             0\n",
              "link             0\n",
              "contentID        0\n",
              "duration        39\n",
              "authorID        39\n",
              "AdContent       39\n",
              "AdAccount       39\n",
              "diggCount       39\n",
              "commentCount    39\n",
              "playCount       39\n",
              "shareCount      39\n",
              "username        39\n",
              "description     70\n",
              "dtype: int64"
            ],
            "text/html": [
              "<div>\n",
              "<style scoped>\n",
              "    .dataframe tbody tr th:only-of-type {\n",
              "        vertical-align: middle;\n",
              "    }\n",
              "\n",
              "    .dataframe tbody tr th {\n",
              "        vertical-align: top;\n",
              "    }\n",
              "\n",
              "    .dataframe thead th {\n",
              "        text-align: right;\n",
              "    }\n",
              "</style>\n",
              "<table border=\"1\" class=\"dataframe\">\n",
              "  <thead>\n",
              "    <tr style=\"text-align: right;\">\n",
              "      <th></th>\n",
              "      <th>0</th>\n",
              "    </tr>\n",
              "  </thead>\n",
              "  <tbody>\n",
              "    <tr>\n",
              "      <th>date</th>\n",
              "      <td>0</td>\n",
              "    </tr>\n",
              "    <tr>\n",
              "      <th>link</th>\n",
              "      <td>0</td>\n",
              "    </tr>\n",
              "    <tr>\n",
              "      <th>contentID</th>\n",
              "      <td>0</td>\n",
              "    </tr>\n",
              "    <tr>\n",
              "      <th>duration</th>\n",
              "      <td>39</td>\n",
              "    </tr>\n",
              "    <tr>\n",
              "      <th>authorID</th>\n",
              "      <td>39</td>\n",
              "    </tr>\n",
              "    <tr>\n",
              "      <th>AdContent</th>\n",
              "      <td>39</td>\n",
              "    </tr>\n",
              "    <tr>\n",
              "      <th>AdAccount</th>\n",
              "      <td>39</td>\n",
              "    </tr>\n",
              "    <tr>\n",
              "      <th>diggCount</th>\n",
              "      <td>39</td>\n",
              "    </tr>\n",
              "    <tr>\n",
              "      <th>commentCount</th>\n",
              "      <td>39</td>\n",
              "    </tr>\n",
              "    <tr>\n",
              "      <th>playCount</th>\n",
              "      <td>39</td>\n",
              "    </tr>\n",
              "    <tr>\n",
              "      <th>shareCount</th>\n",
              "      <td>39</td>\n",
              "    </tr>\n",
              "    <tr>\n",
              "      <th>username</th>\n",
              "      <td>39</td>\n",
              "    </tr>\n",
              "    <tr>\n",
              "      <th>description</th>\n",
              "      <td>70</td>\n",
              "    </tr>\n",
              "  </tbody>\n",
              "</table>\n",
              "</div><br><label><b>dtype:</b> int64</label>"
            ]
          },
          "metadata": {},
          "execution_count": 119
        }
      ]
    },
    {
      "cell_type": "code",
      "source": [
        "#let's check the date range:\n",
        "df['date'] = pd.to_datetime(df['date']) #first we convert the 'date' column to datetime format (it is currently a string)\n",
        "min_date = df['date'].min() #get the minimum value of the 'date' column\n",
        "max_date = df['date'].max() #get the maximum value of the 'date' column\n",
        "print(max_date.date()), print(min_date.date())\n",
        "\n",
        "# Range of dates\n",
        "date_range = max_date - min_date\n",
        "total_days = date_range.days\n",
        "print(f\"The total date range is {total_days} days.\")"
      ],
      "metadata": {
        "colab": {
          "base_uri": "https://localhost:8080/"
        },
        "id": "oGVnvIANubTT",
        "outputId": "9c37db9b-489c-4a87-f10c-f8010814d47d"
      },
      "id": "oGVnvIANubTT",
      "execution_count": 120,
      "outputs": [
        {
          "output_type": "stream",
          "name": "stdout",
          "text": [
            "2025-09-05\n",
            "2025-07-22\n",
            "The total date range is 44 days.\n"
          ]
        }
      ]
    },
    {
      "cell_type": "code",
      "source": [
        "# Define migration keywords\n",
        "migration_keywords = [\n",
        "    \"migration\", \"immigration\", \"migrant\", \"immigrant\",\n",
        "    \"refugee\", \"asylum\", \"border\", \"deport\", \"visa\",\n",
        "    \"citizenship\", \"undocumented\", \"illegal\", \"migratie\",\n",
        "    \"ilegal\", \"immigratie\", \"asiel\", \"vluchteling\"\n",
        "]\n",
        "\n",
        "# Check transcripts for these words\n",
        "# Lowercase transcripts for matching\n",
        "df[\"description_lower\"] = df[\"description\"].fillna(\"\").str.lower()\n",
        "\n",
        "# Flag if any keyword is in the transcript\n",
        "df[\"mentions_migration\"] = df[\"description_lower\"].apply(\n",
        "    lambda x: any(kw in x for kw in migration_keywords)\n",
        ")\n",
        "\n",
        "# Count how many transcripts mention migration\n",
        "df[\"mentions_migration\"].value_counts()\n"
      ],
      "metadata": {
        "id": "Wicj_GrN11t4",
        "outputId": "01361004-ab97-4587-b752-47fa23d4d2c5",
        "colab": {
          "base_uri": "https://localhost:8080/",
          "height": 178
        }
      },
      "id": "Wicj_GrN11t4",
      "execution_count": 125,
      "outputs": [
        {
          "output_type": "execute_result",
          "data": {
            "text/plain": [
              "mentions_migration\n",
              "False    583\n",
              "True      29\n",
              "Name: count, dtype: int64"
            ],
            "text/html": [
              "<div>\n",
              "<style scoped>\n",
              "    .dataframe tbody tr th:only-of-type {\n",
              "        vertical-align: middle;\n",
              "    }\n",
              "\n",
              "    .dataframe tbody tr th {\n",
              "        vertical-align: top;\n",
              "    }\n",
              "\n",
              "    .dataframe thead th {\n",
              "        text-align: right;\n",
              "    }\n",
              "</style>\n",
              "<table border=\"1\" class=\"dataframe\">\n",
              "  <thead>\n",
              "    <tr style=\"text-align: right;\">\n",
              "      <th></th>\n",
              "      <th>count</th>\n",
              "    </tr>\n",
              "    <tr>\n",
              "      <th>mentions_migration</th>\n",
              "      <th></th>\n",
              "    </tr>\n",
              "  </thead>\n",
              "  <tbody>\n",
              "    <tr>\n",
              "      <th>False</th>\n",
              "      <td>583</td>\n",
              "    </tr>\n",
              "    <tr>\n",
              "      <th>True</th>\n",
              "      <td>29</td>\n",
              "    </tr>\n",
              "  </tbody>\n",
              "</table>\n",
              "</div><br><label><b>dtype:</b> int64</label>"
            ]
          },
          "metadata": {},
          "execution_count": 125
        }
      ]
    },
    {
      "cell_type": "markdown",
      "source": [
        "## YOUTUBE TRANSCIPITON DATA\n",
        "So let's also download the youtube dataset"
      ],
      "metadata": {
        "id": "I8Z9fE-8uubJ"
      },
      "id": "I8Z9fE-8uubJ"
    },
    {
      "cell_type": "code",
      "source": [
        "# load data\n",
        "from google.colab import files\n",
        "\n",
        "uploaded = files.upload()\n",
        "\n",
        "for fn in uploaded.keys():\n",
        "  print('User uploaded file \"{name}\" with length {length} bytes'.format(\n",
        "      name=fn, length=len(uploaded[fn])))"
      ],
      "metadata": {
        "colab": {
          "base_uri": "https://localhost:8080/",
          "height": 89
        },
        "id": "K-9lKV2ru0Ba",
        "outputId": "d00a2f79-31c2-4e7d-9e7e-2e078eace21d"
      },
      "id": "K-9lKV2ru0Ba",
      "execution_count": 85,
      "outputs": [
        {
          "output_type": "display_data",
          "data": {
            "text/plain": [
              "<IPython.core.display.HTML object>"
            ],
            "text/html": [
              "\n",
              "     <input type=\"file\" id=\"files-f81082f0-9b0a-4a3a-9402-81262da4d78c\" name=\"files[]\" multiple disabled\n",
              "        style=\"border:none\" />\n",
              "     <output id=\"result-f81082f0-9b0a-4a3a-9402-81262da4d78c\">\n",
              "      Upload widget is only available when the cell has been executed in the\n",
              "      current browser session. Please rerun this cell to enable.\n",
              "      </output>\n",
              "      <script>// Copyright 2017 Google LLC\n",
              "//\n",
              "// Licensed under the Apache License, Version 2.0 (the \"License\");\n",
              "// you may not use this file except in compliance with the License.\n",
              "// You may obtain a copy of the License at\n",
              "//\n",
              "//      http://www.apache.org/licenses/LICENSE-2.0\n",
              "//\n",
              "// Unless required by applicable law or agreed to in writing, software\n",
              "// distributed under the License is distributed on an \"AS IS\" BASIS,\n",
              "// WITHOUT WARRANTIES OR CONDITIONS OF ANY KIND, either express or implied.\n",
              "// See the License for the specific language governing permissions and\n",
              "// limitations under the License.\n",
              "\n",
              "/**\n",
              " * @fileoverview Helpers for google.colab Python module.\n",
              " */\n",
              "(function(scope) {\n",
              "function span(text, styleAttributes = {}) {\n",
              "  const element = document.createElement('span');\n",
              "  element.textContent = text;\n",
              "  for (const key of Object.keys(styleAttributes)) {\n",
              "    element.style[key] = styleAttributes[key];\n",
              "  }\n",
              "  return element;\n",
              "}\n",
              "\n",
              "// Max number of bytes which will be uploaded at a time.\n",
              "const MAX_PAYLOAD_SIZE = 100 * 1024;\n",
              "\n",
              "function _uploadFiles(inputId, outputId) {\n",
              "  const steps = uploadFilesStep(inputId, outputId);\n",
              "  const outputElement = document.getElementById(outputId);\n",
              "  // Cache steps on the outputElement to make it available for the next call\n",
              "  // to uploadFilesContinue from Python.\n",
              "  outputElement.steps = steps;\n",
              "\n",
              "  return _uploadFilesContinue(outputId);\n",
              "}\n",
              "\n",
              "// This is roughly an async generator (not supported in the browser yet),\n",
              "// where there are multiple asynchronous steps and the Python side is going\n",
              "// to poll for completion of each step.\n",
              "// This uses a Promise to block the python side on completion of each step,\n",
              "// then passes the result of the previous step as the input to the next step.\n",
              "function _uploadFilesContinue(outputId) {\n",
              "  const outputElement = document.getElementById(outputId);\n",
              "  const steps = outputElement.steps;\n",
              "\n",
              "  const next = steps.next(outputElement.lastPromiseValue);\n",
              "  return Promise.resolve(next.value.promise).then((value) => {\n",
              "    // Cache the last promise value to make it available to the next\n",
              "    // step of the generator.\n",
              "    outputElement.lastPromiseValue = value;\n",
              "    return next.value.response;\n",
              "  });\n",
              "}\n",
              "\n",
              "/**\n",
              " * Generator function which is called between each async step of the upload\n",
              " * process.\n",
              " * @param {string} inputId Element ID of the input file picker element.\n",
              " * @param {string} outputId Element ID of the output display.\n",
              " * @return {!Iterable<!Object>} Iterable of next steps.\n",
              " */\n",
              "function* uploadFilesStep(inputId, outputId) {\n",
              "  const inputElement = document.getElementById(inputId);\n",
              "  inputElement.disabled = false;\n",
              "\n",
              "  const outputElement = document.getElementById(outputId);\n",
              "  outputElement.innerHTML = '';\n",
              "\n",
              "  const pickedPromise = new Promise((resolve) => {\n",
              "    inputElement.addEventListener('change', (e) => {\n",
              "      resolve(e.target.files);\n",
              "    });\n",
              "  });\n",
              "\n",
              "  const cancel = document.createElement('button');\n",
              "  inputElement.parentElement.appendChild(cancel);\n",
              "  cancel.textContent = 'Cancel upload';\n",
              "  const cancelPromise = new Promise((resolve) => {\n",
              "    cancel.onclick = () => {\n",
              "      resolve(null);\n",
              "    };\n",
              "  });\n",
              "\n",
              "  // Wait for the user to pick the files.\n",
              "  const files = yield {\n",
              "    promise: Promise.race([pickedPromise, cancelPromise]),\n",
              "    response: {\n",
              "      action: 'starting',\n",
              "    }\n",
              "  };\n",
              "\n",
              "  cancel.remove();\n",
              "\n",
              "  // Disable the input element since further picks are not allowed.\n",
              "  inputElement.disabled = true;\n",
              "\n",
              "  if (!files) {\n",
              "    return {\n",
              "      response: {\n",
              "        action: 'complete',\n",
              "      }\n",
              "    };\n",
              "  }\n",
              "\n",
              "  for (const file of files) {\n",
              "    const li = document.createElement('li');\n",
              "    li.append(span(file.name, {fontWeight: 'bold'}));\n",
              "    li.append(span(\n",
              "        `(${file.type || 'n/a'}) - ${file.size} bytes, ` +\n",
              "        `last modified: ${\n",
              "            file.lastModifiedDate ? file.lastModifiedDate.toLocaleDateString() :\n",
              "                                    'n/a'} - `));\n",
              "    const percent = span('0% done');\n",
              "    li.appendChild(percent);\n",
              "\n",
              "    outputElement.appendChild(li);\n",
              "\n",
              "    const fileDataPromise = new Promise((resolve) => {\n",
              "      const reader = new FileReader();\n",
              "      reader.onload = (e) => {\n",
              "        resolve(e.target.result);\n",
              "      };\n",
              "      reader.readAsArrayBuffer(file);\n",
              "    });\n",
              "    // Wait for the data to be ready.\n",
              "    let fileData = yield {\n",
              "      promise: fileDataPromise,\n",
              "      response: {\n",
              "        action: 'continue',\n",
              "      }\n",
              "    };\n",
              "\n",
              "    // Use a chunked sending to avoid message size limits. See b/62115660.\n",
              "    let position = 0;\n",
              "    do {\n",
              "      const length = Math.min(fileData.byteLength - position, MAX_PAYLOAD_SIZE);\n",
              "      const chunk = new Uint8Array(fileData, position, length);\n",
              "      position += length;\n",
              "\n",
              "      const base64 = btoa(String.fromCharCode.apply(null, chunk));\n",
              "      yield {\n",
              "        response: {\n",
              "          action: 'append',\n",
              "          file: file.name,\n",
              "          data: base64,\n",
              "        },\n",
              "      };\n",
              "\n",
              "      let percentDone = fileData.byteLength === 0 ?\n",
              "          100 :\n",
              "          Math.round((position / fileData.byteLength) * 100);\n",
              "      percent.textContent = `${percentDone}% done`;\n",
              "\n",
              "    } while (position < fileData.byteLength);\n",
              "  }\n",
              "\n",
              "  // All done.\n",
              "  yield {\n",
              "    response: {\n",
              "      action: 'complete',\n",
              "    }\n",
              "  };\n",
              "}\n",
              "\n",
              "scope.google = scope.google || {};\n",
              "scope.google.colab = scope.google.colab || {};\n",
              "scope.google.colab._files = {\n",
              "  _uploadFiles,\n",
              "  _uploadFilesContinue,\n",
              "};\n",
              "})(self);\n",
              "</script> "
            ]
          },
          "metadata": {}
        },
        {
          "output_type": "stream",
          "name": "stdout",
          "text": [
            "Saving yt-transcript-test-batch.csv to yt-transcript-test-batch.csv\n",
            "User uploaded file \"yt-transcript-test-batch.csv\" with length 231985 bytes\n"
          ]
        }
      ]
    },
    {
      "cell_type": "code",
      "source": [
        "import pandas as pd\n",
        "\n",
        "df2 = pd.read_csv(\"yt-transcript-test-batch.csv\", sep=None, engine=\"python\")\n",
        "df2.head()\n"
      ],
      "metadata": {
        "colab": {
          "base_uri": "https://localhost:8080/",
          "height": 206
        },
        "id": "qEmsRiTCvJJn",
        "outputId": "8e99ba19-cbd1-4a6a-dd72-908a642b5f92"
      },
      "id": "qEmsRiTCvJJn",
      "execution_count": 94,
      "outputs": [
        {
          "output_type": "execute_result",
          "data": {
            "text/plain": [
              "       ﻿IDcode                                         transcript  error\n",
              "0  DprAK933Fdg  Hi guys, it's me again and today we're going t...    NaN\n",
              "1  ck6xGcJ3ejo  Hello noble ones. Welcome back to my channel. ...    NaN\n",
              "2  9YDzf5E6PRU  Hello and no ones. Welcome back to my channel....    NaN\n",
              "3  t-BWfG3IN5U  [Music] We ready? [Music] You know what? Chewb...    NaN\n",
              "4  pIxkM7O-CrA  um which is obviously a very relevant and and ...    NaN"
            ],
            "text/html": [
              "\n",
              "  <div id=\"df-745c1c77-0bb5-4024-b77d-d49e453dd886\" class=\"colab-df-container\">\n",
              "    <div>\n",
              "<style scoped>\n",
              "    .dataframe tbody tr th:only-of-type {\n",
              "        vertical-align: middle;\n",
              "    }\n",
              "\n",
              "    .dataframe tbody tr th {\n",
              "        vertical-align: top;\n",
              "    }\n",
              "\n",
              "    .dataframe thead th {\n",
              "        text-align: right;\n",
              "    }\n",
              "</style>\n",
              "<table border=\"1\" class=\"dataframe\">\n",
              "  <thead>\n",
              "    <tr style=\"text-align: right;\">\n",
              "      <th></th>\n",
              "      <th>﻿IDcode</th>\n",
              "      <th>transcript</th>\n",
              "      <th>error</th>\n",
              "    </tr>\n",
              "  </thead>\n",
              "  <tbody>\n",
              "    <tr>\n",
              "      <th>0</th>\n",
              "      <td>DprAK933Fdg</td>\n",
              "      <td>Hi guys, it's me again and today we're going t...</td>\n",
              "      <td>NaN</td>\n",
              "    </tr>\n",
              "    <tr>\n",
              "      <th>1</th>\n",
              "      <td>ck6xGcJ3ejo</td>\n",
              "      <td>Hello noble ones. Welcome back to my channel. ...</td>\n",
              "      <td>NaN</td>\n",
              "    </tr>\n",
              "    <tr>\n",
              "      <th>2</th>\n",
              "      <td>9YDzf5E6PRU</td>\n",
              "      <td>Hello and no ones. Welcome back to my channel....</td>\n",
              "      <td>NaN</td>\n",
              "    </tr>\n",
              "    <tr>\n",
              "      <th>3</th>\n",
              "      <td>t-BWfG3IN5U</td>\n",
              "      <td>[Music] We ready? [Music] You know what? Chewb...</td>\n",
              "      <td>NaN</td>\n",
              "    </tr>\n",
              "    <tr>\n",
              "      <th>4</th>\n",
              "      <td>pIxkM7O-CrA</td>\n",
              "      <td>um which is obviously a very relevant and and ...</td>\n",
              "      <td>NaN</td>\n",
              "    </tr>\n",
              "  </tbody>\n",
              "</table>\n",
              "</div>\n",
              "    <div class=\"colab-df-buttons\">\n",
              "\n",
              "  <div class=\"colab-df-container\">\n",
              "    <button class=\"colab-df-convert\" onclick=\"convertToInteractive('df-745c1c77-0bb5-4024-b77d-d49e453dd886')\"\n",
              "            title=\"Convert this dataframe to an interactive table.\"\n",
              "            style=\"display:none;\">\n",
              "\n",
              "  <svg xmlns=\"http://www.w3.org/2000/svg\" height=\"24px\" viewBox=\"0 -960 960 960\">\n",
              "    <path d=\"M120-120v-720h720v720H120Zm60-500h600v-160H180v160Zm220 220h160v-160H400v160Zm0 220h160v-160H400v160ZM180-400h160v-160H180v160Zm440 0h160v-160H620v160ZM180-180h160v-160H180v160Zm440 0h160v-160H620v160Z\"/>\n",
              "  </svg>\n",
              "    </button>\n",
              "\n",
              "  <style>\n",
              "    .colab-df-container {\n",
              "      display:flex;\n",
              "      gap: 12px;\n",
              "    }\n",
              "\n",
              "    .colab-df-convert {\n",
              "      background-color: #E8F0FE;\n",
              "      border: none;\n",
              "      border-radius: 50%;\n",
              "      cursor: pointer;\n",
              "      display: none;\n",
              "      fill: #1967D2;\n",
              "      height: 32px;\n",
              "      padding: 0 0 0 0;\n",
              "      width: 32px;\n",
              "    }\n",
              "\n",
              "    .colab-df-convert:hover {\n",
              "      background-color: #E2EBFA;\n",
              "      box-shadow: 0px 1px 2px rgba(60, 64, 67, 0.3), 0px 1px 3px 1px rgba(60, 64, 67, 0.15);\n",
              "      fill: #174EA6;\n",
              "    }\n",
              "\n",
              "    .colab-df-buttons div {\n",
              "      margin-bottom: 4px;\n",
              "    }\n",
              "\n",
              "    [theme=dark] .colab-df-convert {\n",
              "      background-color: #3B4455;\n",
              "      fill: #D2E3FC;\n",
              "    }\n",
              "\n",
              "    [theme=dark] .colab-df-convert:hover {\n",
              "      background-color: #434B5C;\n",
              "      box-shadow: 0px 1px 3px 1px rgba(0, 0, 0, 0.15);\n",
              "      filter: drop-shadow(0px 1px 2px rgba(0, 0, 0, 0.3));\n",
              "      fill: #FFFFFF;\n",
              "    }\n",
              "  </style>\n",
              "\n",
              "    <script>\n",
              "      const buttonEl =\n",
              "        document.querySelector('#df-745c1c77-0bb5-4024-b77d-d49e453dd886 button.colab-df-convert');\n",
              "      buttonEl.style.display =\n",
              "        google.colab.kernel.accessAllowed ? 'block' : 'none';\n",
              "\n",
              "      async function convertToInteractive(key) {\n",
              "        const element = document.querySelector('#df-745c1c77-0bb5-4024-b77d-d49e453dd886');\n",
              "        const dataTable =\n",
              "          await google.colab.kernel.invokeFunction('convertToInteractive',\n",
              "                                                    [key], {});\n",
              "        if (!dataTable) return;\n",
              "\n",
              "        const docLinkHtml = 'Like what you see? Visit the ' +\n",
              "          '<a target=\"_blank\" href=https://colab.research.google.com/notebooks/data_table.ipynb>data table notebook</a>'\n",
              "          + ' to learn more about interactive tables.';\n",
              "        element.innerHTML = '';\n",
              "        dataTable['output_type'] = 'display_data';\n",
              "        await google.colab.output.renderOutput(dataTable, element);\n",
              "        const docLink = document.createElement('div');\n",
              "        docLink.innerHTML = docLinkHtml;\n",
              "        element.appendChild(docLink);\n",
              "      }\n",
              "    </script>\n",
              "  </div>\n",
              "\n",
              "\n",
              "    <div id=\"df-06aa90bf-b2e2-40f2-bcd1-3ef26a00a922\">\n",
              "      <button class=\"colab-df-quickchart\" onclick=\"quickchart('df-06aa90bf-b2e2-40f2-bcd1-3ef26a00a922')\"\n",
              "                title=\"Suggest charts\"\n",
              "                style=\"display:none;\">\n",
              "\n",
              "<svg xmlns=\"http://www.w3.org/2000/svg\" height=\"24px\"viewBox=\"0 0 24 24\"\n",
              "     width=\"24px\">\n",
              "    <g>\n",
              "        <path d=\"M19 3H5c-1.1 0-2 .9-2 2v14c0 1.1.9 2 2 2h14c1.1 0 2-.9 2-2V5c0-1.1-.9-2-2-2zM9 17H7v-7h2v7zm4 0h-2V7h2v10zm4 0h-2v-4h2v4z\"/>\n",
              "    </g>\n",
              "</svg>\n",
              "      </button>\n",
              "\n",
              "<style>\n",
              "  .colab-df-quickchart {\n",
              "      --bg-color: #E8F0FE;\n",
              "      --fill-color: #1967D2;\n",
              "      --hover-bg-color: #E2EBFA;\n",
              "      --hover-fill-color: #174EA6;\n",
              "      --disabled-fill-color: #AAA;\n",
              "      --disabled-bg-color: #DDD;\n",
              "  }\n",
              "\n",
              "  [theme=dark] .colab-df-quickchart {\n",
              "      --bg-color: #3B4455;\n",
              "      --fill-color: #D2E3FC;\n",
              "      --hover-bg-color: #434B5C;\n",
              "      --hover-fill-color: #FFFFFF;\n",
              "      --disabled-bg-color: #3B4455;\n",
              "      --disabled-fill-color: #666;\n",
              "  }\n",
              "\n",
              "  .colab-df-quickchart {\n",
              "    background-color: var(--bg-color);\n",
              "    border: none;\n",
              "    border-radius: 50%;\n",
              "    cursor: pointer;\n",
              "    display: none;\n",
              "    fill: var(--fill-color);\n",
              "    height: 32px;\n",
              "    padding: 0;\n",
              "    width: 32px;\n",
              "  }\n",
              "\n",
              "  .colab-df-quickchart:hover {\n",
              "    background-color: var(--hover-bg-color);\n",
              "    box-shadow: 0 1px 2px rgba(60, 64, 67, 0.3), 0 1px 3px 1px rgba(60, 64, 67, 0.15);\n",
              "    fill: var(--button-hover-fill-color);\n",
              "  }\n",
              "\n",
              "  .colab-df-quickchart-complete:disabled,\n",
              "  .colab-df-quickchart-complete:disabled:hover {\n",
              "    background-color: var(--disabled-bg-color);\n",
              "    fill: var(--disabled-fill-color);\n",
              "    box-shadow: none;\n",
              "  }\n",
              "\n",
              "  .colab-df-spinner {\n",
              "    border: 2px solid var(--fill-color);\n",
              "    border-color: transparent;\n",
              "    border-bottom-color: var(--fill-color);\n",
              "    animation:\n",
              "      spin 1s steps(1) infinite;\n",
              "  }\n",
              "\n",
              "  @keyframes spin {\n",
              "    0% {\n",
              "      border-color: transparent;\n",
              "      border-bottom-color: var(--fill-color);\n",
              "      border-left-color: var(--fill-color);\n",
              "    }\n",
              "    20% {\n",
              "      border-color: transparent;\n",
              "      border-left-color: var(--fill-color);\n",
              "      border-top-color: var(--fill-color);\n",
              "    }\n",
              "    30% {\n",
              "      border-color: transparent;\n",
              "      border-left-color: var(--fill-color);\n",
              "      border-top-color: var(--fill-color);\n",
              "      border-right-color: var(--fill-color);\n",
              "    }\n",
              "    40% {\n",
              "      border-color: transparent;\n",
              "      border-right-color: var(--fill-color);\n",
              "      border-top-color: var(--fill-color);\n",
              "    }\n",
              "    60% {\n",
              "      border-color: transparent;\n",
              "      border-right-color: var(--fill-color);\n",
              "    }\n",
              "    80% {\n",
              "      border-color: transparent;\n",
              "      border-right-color: var(--fill-color);\n",
              "      border-bottom-color: var(--fill-color);\n",
              "    }\n",
              "    90% {\n",
              "      border-color: transparent;\n",
              "      border-bottom-color: var(--fill-color);\n",
              "    }\n",
              "  }\n",
              "</style>\n",
              "\n",
              "      <script>\n",
              "        async function quickchart(key) {\n",
              "          const quickchartButtonEl =\n",
              "            document.querySelector('#' + key + ' button');\n",
              "          quickchartButtonEl.disabled = true;  // To prevent multiple clicks.\n",
              "          quickchartButtonEl.classList.add('colab-df-spinner');\n",
              "          try {\n",
              "            const charts = await google.colab.kernel.invokeFunction(\n",
              "                'suggestCharts', [key], {});\n",
              "          } catch (error) {\n",
              "            console.error('Error during call to suggestCharts:', error);\n",
              "          }\n",
              "          quickchartButtonEl.classList.remove('colab-df-spinner');\n",
              "          quickchartButtonEl.classList.add('colab-df-quickchart-complete');\n",
              "        }\n",
              "        (() => {\n",
              "          let quickchartButtonEl =\n",
              "            document.querySelector('#df-06aa90bf-b2e2-40f2-bcd1-3ef26a00a922 button');\n",
              "          quickchartButtonEl.style.display =\n",
              "            google.colab.kernel.accessAllowed ? 'block' : 'none';\n",
              "        })();\n",
              "      </script>\n",
              "    </div>\n",
              "\n",
              "    </div>\n",
              "  </div>\n"
            ],
            "application/vnd.google.colaboratory.intrinsic+json": {
              "type": "dataframe",
              "variable_name": "df2",
              "summary": "{\n  \"name\": \"df2\",\n  \"rows\": 25,\n  \"fields\": [\n    {\n      \"column\": \"\\ufeffIDcode\",\n      \"properties\": {\n        \"dtype\": \"string\",\n        \"num_unique_values\": 25,\n        \"samples\": [\n          \"DWJiKq5TXos\",\n          \"ARj-9FXdXSg\",\n          \"DprAK933Fdg\"\n        ],\n        \"semantic_type\": \"\",\n        \"description\": \"\"\n      }\n    },\n    {\n      \"column\": \"transcript\",\n      \"properties\": {\n        \"dtype\": \"string\",\n        \"num_unique_values\": 25,\n        \"samples\": [\n          \"Do you have $100? Because I'm looking for 2,000 believers who are willing to trade $100 for a house in Jenna. Will you be one of them? This is your brother Abdraeim McCarthy and alhamdulillah, we've reached 75% of our goal to finish the construction and save the 120year-old building which is now in New York City. We're almost at the finish line and I want you to be one of those special believers that helps us get there. All you have to do is click the link and donate now and we will get there together inshallah. So donate now. May Allah reward you. [Music]\",\n          \"This college student doesn't want his hardworking illegal immigrant friends to be deported. But watch how Charlie Kirk's simple question hits him with reality. If, let's say, if I would come up here and say like, I'm an illegal immigrant and I'm here to kind of debate you, would you call ICE? I mean, Tom Hullman would probably see the video and you would probably go back to your true country. Okay. I mean, that's how it works, right? But let me just ask you a question. In your ideal, you're king. What's your name, sir? I'm Clauddio, sir. Yeah, Clauddio. And this is just a thought exercise, but it's very revealing. You are king. and you find out that there are 30 million uninvited people in your country. What do you do with them? Oh, in this case, I try to find the most humane way of sending them back to our country. But first of all, I I want to say we're doing Wait, let me just let me just say something. That's what we're doing. Let me just say Claudio long. Bro, I'm not a I'm not a dictator at all, but of course I'm saying it's it's a helpful thought actually. I get it. I get it. And all I'm saying is you were talking about in the past couple of people that came up here like America first trying to get like the best for our country and like increasing the productivity and getting us to be like the best country possible which I agree like I love this country but a lot of this country is built on like illegal immigrant labor and it's definitely like a bad means but it's been a good result somehow. I'm sure you know people from like home that own businesses that employ these types of people that are very productive and very honest and just hardworking trying to get a better life. And a lot of those people are very close to me. So, it's just a very heartbreaking situation for me. But I understand. Okay. Yeah. But I mean, and you gave the answer if you were in charge. I guess this is an another important question. What should the punishment be if you break into somebody else's country uninvited and stay there without welcome? Well, I I really I don't know what the punishment should be. I'm not a lawyer. No, that's okay. I'm just asking. Here's our position is that it is against federal law to come into America. It's USC code I 1528, which is you're not allowed to come into the country without invite. So, that's against the law. The law is blind and when you break the law must apply to all\",\n          \"Hi guys, it's me again and today we're going to look at some of the interesting users on you would never believe it, Blue Sky. That's right. And uh I don't know how this keeps happening, but yesterday after Charlie Kirk was brutally murdered, he was shot in the throat uh bled out in on stage in front of everybody, including his own family and his children. um the number of people in the games uh industry who decided to go on to social media, particularly Blue Sky. A lot of these people, you have to understand that many of these people have already been run off of Twitter because there's a level of discourse and negativity that they can't really deal with. So the only place that they can really exist is on effectively a reservation like Blue Sky where their opinions are protected and they're allowed to be vitriolic and nobody's allowed to tell them that they're wrong. Well, that's why we're making this video. We're going to be looking at some of the different people that after the death of Charlie Kirk decided to, and I'm not really going to be going through everybody is going to draw the line at a different place. Here's where I draw the line. I personally have a big problem with people that are celebrating him being killed. I don't have a big deal if somebody says I don't like him or I never liked him or something like that. But for the people that are celebrating for him being killed, advocating for future violence and saying that it's a good thing, I think that's what crosses the line for me. And I think that's what crosses the line for any reasonable normal person. And so anyway, uh we're going to go through a number of people. And the first thing I wanted to start out with today is that maybe you guys remember this from the beginning of the year. Uh it was a content uh it was a big content year. I would say that. And um people might have forgotten, but there is a person who decided to uh advocate for killing your local MAGA. This was a Blizzard employee. And I want to say that after the video that I made on him and a lot of other people made on him, this person lost their job and effectively has ruined their life. And I want nothing more than for the exact same thing to happen to the people in this video, too. So, I hope that after you guys see these individuals and you see what they're advocating for, you'll be able to go out and tell their employer, \\\"Hey, you know what? Maybe I'm not comfortable funding a video game that is employing people that are advocating for the brutal murder of a person in front of their family.\\\" And uh it's absolutely insane, but it's also not surprising. And so anyway, we're going to go through some of these. Obviously, uh you know, I put out a post about this before. This was yesterday. If you guys want to make a list, and this is something I'll go ahead and just contextualize it all. So, uh there's several game developers that are liking posts that are people mocking Charlie Kirk's assassination. We'll look at pretty much who these people are. We'll start off with this. Uh these are people. Dennis, let's look at this. And this is also on Blue Sky. I'm 65 and Vans Blue Sky Social. Uh sound effects associate at Bungie. So Bungie, you know the game that's trying to make marathon. I guess they were too busy. He's doing sound effects, not visual effects. So maybe he actually has to do his job rather than just copy pasting something off of Twitter. But anyway, you've got somebody like this who's advocating for. And again, people might think that it's not a big deal. Oh, well, these people aren't making any statements themselves. These people aren't really saying anything uh that is that extreme. Here's the reason why it's a big problem. The reason why is because it creates an ecosystem and an environment where the actual extremism and the actual radical behavior is feeling comfortable. It it feels comfortable in an environment where you have this blas\\u00e9 uh passive acceptance of it and you have people that are just basically complicit with it, but they're not openly saying it. They're just privately doing it or they're just privately voicing their support as well. And well, I guess in this case, it's not private anymore, is it? And so anyway, we have a associate producer at Bungie who is liking and promoting tweets uh that are celebrating the death of a uh person being shot in the neck uh in front of their family and bleeding out profusely on the stage in front of millions of people. And so good job Bungie. Uh really really uh really good winners you've got here. I can't wait to play Marathon. Uh, I I thought that my expectations for the game couldn't be lower, but somehow Dennis has managed to fulfill uh, you know, or uh, exceed those expectations, you could say. I've got another one also. Uh, Kelly, senior producer at Sucker Punch, amateur cosplay armor, D&D enjoyer, source of corgi picks, they and she. Okay, so we have also, and you're going to see this word uh, this this uh, term sucker punch a number of times. Uh we're not talking about the action but um we are talking about the company. This is the company that makes the game or that is making the game Ghost of Yoai. Uh Ghost of Yoai and this is also important to keep in mind is that the voice actress for the game for the the character itself uh has gone multiple times on record making the most deranged stupid comments like defunding the police. She's just your typical like libtard insaniac right? It's not really that complicated. But um what what it really indicates is that there's a culture in this company and there's a culture in this environment uh where this type of radical violent behavior and language is normalized. You have multiple people at the company that are all saying these things. And we're going to get to the other ones too. Uh this is another person here also that uh works at the company. And so you can see right here, obviously, this is them retweeting or uh posting uh something that they did with the game. And then right after that, I hope the shooter's name is Mario so that Luigi knows his bro got his back. And I've been noticed that Twitter has noticed me from I've been told that Twitter has noticed me from across the room. Well, we certainly have. Uh we absolutely have. And I think that these kinds of comments are absolutely disgusting. This is a person that works at a massive game company and they're openly advocating for on public platforms and promoting and celebrating the murder of a random person. Uh this is disgusting. It's really disgusting. And in my opinion, I don't think that it should be tolerated. And that's the reason why I'm making this video. I think that everybody should try to message uh anybody that works at this company uh anybody who you know like any sort of PR any management uh you know anything like that let them know that uh you don't want to support a company that employs people that celebrate the murder of uh of innocent people just for exchanging ideas uh this is a disgusting disgusting thing to do and you can see also and I think this is a systemic problem at the company itself Whenever you have three people, the voice actress and then these two other people that are also doing this, I think that it's very obvious that this company has been infected with the same kind of moral rot that many other video game companies have unfortunately been affected by. And so you have also uh Ze them they them always a very good indicator of uh mental uh awareness and normality. Um a producer at Magic the Gathering. So, this person works at I'm assuming Wizards of the Coast. Um, and uh they're working at Magic the Gathering Arena previously also at Wow. Wow. What are the coinc Wow. What are the odds of that? What a coincidence. And so, what you've got here, this is again another person who is celebrating this type of violent behavior. And I think that again, uh, people need to make their voices known and make them heard that this is just simply not acceptable. This is not normal. This is not what average people want. We don't want to have people that are openly making statements and calls to violence like this or celebrating calls to violence or actual violence like this uh making our products. It's disgusting. And I know that some people would maybe consider and say, well, this is something that could be a little bit like cancel culture. And I want to say that it absolutely is. Uh it 100% is. Uh the fact is that these are the same types of people who would lie about you and uh make up things about you and try to destroy your career and destroy your reputation for disagreeing with them on something political. But now whenever it's happening to them, they're the victims. Well, if you want to be the victim, it's time to earn it. I think also here's another thing is that if you work at one of these companies and you have one of these individuals that works at your company, you do have a dis a recourse to this and that's calling and talking to HR because the fact is that HR does not operate in your best interest and it doesn't operate in their best interest either. it operates in the best interest of the company. And when you have people that are making public statements and calls to violence and celebrating violence like that, they're creating a hostile and an unsafe work environment. And anybody who works in HR or anybody who works inside of any sort of corporate environment will tell you that that's something that just can't exist in a corporate environment. There's a reason why we have levels of decorum and there are some levels of HR that make sense. And so if you work at one of these companies and you have a person like this doing it, make sure to talk to HR and let them know how uncomfortable you feel that there's a person who's working at your company who might want to advocate to have you killed because you disagree with them. Tell them that it makes you afraid to come into work. Tell you that, tell them that, you know, you don't know, maybe you're going to file a lawsuit. You feel unsafe at your workplace. And honestly, here's the important thing. you should feel unsafe because these people would justify violence against anybody who disagrees with them. And just because you think you know them doesn't mean they wouldn't do the exact same thing to you. And uh this is them. This is the game that they're making right here. And you can see that they've made no statement about this. Uh now let me ask you a very simple question. If these people made a degrading comment towards uh the trans community, for example, or towards uh the black community, for example, do you think Sucker Punch would have immediately fired them and made a statement? I think so. Absolutely. But for some reason, these people are protected. And the reason why they're protected is because there's a lot of other ones at the company that feel the exact same way that they do. That's the only logical reason that I have. And I think that at a certain point Sony or uh somebody needs to step in, whoever owns this company needs to step in and root out this disease before it kills the entire company because I do think that it will have a tremendously negative effect on the game. And you can see this right here. Uh this is a post that Sony made, I guess it was, uh a couple of days ago about Ghost of Yoai. And you can see a thousand comments on this. your senior David sucker punch is a violent leftist etc. And these are more comments here. Uh never let up the pressure. Uh never ever ever do that. Uh keep this pressure up until these people lose their jobs. And then after they lose their jobs, then take a break, relax, pat yourself on the back, wait for them to get another one, and then do it again. And that's the only way that you should treat these animals. And that's exactly what they are. You shouldn't view them as people. you shouldn't view them as a person with a political disagreement from you. Uh these are violent animals that are trying to destroy uh the last good thing that we have which is the open ideas of political discourse and they're celebrating murdering people for doing it. And as soon as that starts happening I don't want to know what's next. And the worst thing is that I already do and I think you do too. And so anyway, uh we've got more of these here's regation is not enough for me. I hope he tanks a studio and uh carrots keep quiet. The studio deserves to go under. I understand why a lot of people at these companies don't speak up. Which is why I suggest that if you work at one of these companies, uh please make sure to go to HR. Uh go to HR and file these complaints legitimately with them. There are certain legal things that they have to do and in some cases these people will pretty much lose their job for sure. uh if enough people are discussing it. And you have also some people make comments like this. Um it's wild how the woke right like Asminold uh Grums are showing themselves to be what they hate. Authoritarian freaks that want to censor and silence anybody they despise. Um yeah, I do. I I do. I think that anybody who's advocating for uh killing people over speech like this uh should be censored. Absolutely. And uh this is just normal. Uh absolutely. I I don't there there's this this trick that a lot of people like this like to play, which is they try to use your own language and use your own morality against you. Uh these people don't care about freedom of speech. They don't care about censorship. They don't care about any of that. They're simply trying to weaponize your values and use them against you in order for them to fulfill their own goals. And so every time that they try to make an appeal to your own values, you should ask yourself, do they hold these values? And if the answer is no, then you shouldn't take it seriously because this person is simply trying to use your values to subvert you and take advantage of you and to push their own agenda and to hurt you. And so never listen to this. Never play into this game. Never even acknowledge that uh that there's any validity to it at all. uh these people don't care about freedom of speech. The only time they bring it up is whenever they're trying to co-opt the person who does care about freedom of speech and make that person act against their own best interest. But um anyway, uh we've got also, you know, this is me. I almost put out the call for fine game devs mocking. And uh there's another one here. Uh this is the voice actor for Duke and Genchin Impact. Uh this I hope they receive the same care that the average American citizen would get in the same situation. Really? So, they're just going to fall down and die. Uh, somebody gets shot in the neck like that with their blood like spurting out. Uh, you're there's no there's no health care. You're not you're not coming back from that. At least not anytime soon with the medical care that we have now. And so, anyway, Lisa came out uh Lisa goes out doing what he loved, being a bigot. Uh, yeah, of course, you have more comments like this, more people like this. And true police is permanent. Every post you make goes out to the public firehouse, captured by someone somewhere. the delete button doesn't do what you think it does. And so anyway, we have a lot of people obviously that are starting to say as stuff, live by something, something. So she's obviously trying to make a statement of live by the sword, die by the sword. Uh this is what and and I think that this is a very revealing statement and I think this is going to be the last comment that I'm going to look at here is that um this statement is actually extremely revealing because what it's saying is that from her perspective living by the sword is the same as being killed. uh speaking out and being able to uh you know like express your opinion on certain things should be met with the equivalence of deadly force and that's really what these people want. Uh they want to bully uh push fight and if it comes down to it kill you if you disagree with them. And that's why whenever somebody does do something insane like this, all of these people tried to do mental gymnastics about why it was somehow justified, normalized, okay, acceptable, or something one way or another. Uh the fact is that uh no uh live by the debate, die by a gunshot wound in the throat. No, I don't really think that makes a lot of sense, does it? But it doesn't sound as good as these, you know, vapid uh, you know, like Yas Queen comments that people like her make on Blue Sky that have absolutely no push back because they're on their own protected reservation away from anybody whose opinions could be different than their own. And that's the reason and also those are the only people that are still left on the platform. And soon if with enough enough effort and enough work uh we can have enough of these people uh removed from our uh our media, removed from our public discourse and uh removed from any sort of positions of power where they can exercise their completely maladjusted uh totally deranged viewpoints and worldview. And so anyway, I want to let you know that this is definitely not uh the only amount of them that there are. I'm sure there's plenty more. And so if you want to express and show any of these other people and you want to post one of their uh their comments or anything like that, um I would recommend anybody to go on over to Roach Ranch. Uh this is a uh comment right here. Um sorry, not not comment, a community right here that I made on Twitter. Uh I do not really moderate this at all. And if you guys want to post the different public comments uh that are being made by these different developers or these different people that are working in media uh celebrating this and uh collectively we can uh contact their employers, contact the people that are around them and have them get fired from their job. And do not for even a second think that this is not fair. It is absolutely fair. These people have been doing it to people like me for the better part of five years and it's time the shoe goes on the other foot. They're disgusting. They're celebrating violence and there shouldn't be any space for this in any sort of a polite society. But yeah, anyway, um crazy things going on over at Sucker Punch Productions. Really, really crazy stuff. I uh you know, with that many weirdos and uh and freaks working at the company, I wonder what this game's going to be like. I kind of don't want to know, but actually I kind of do. I think it'll be great content, but for all the wrong reasons. So anyway, guys, uh that's about all I've got for today. Uh I did promise I would go through all this and we've gone through all of this. So thank you all very much. I really appreciate you watching and feel free to join the Twitter community or to join Reddit or anywhere else. But Twitter community is the best and most uncensored place. Reddit is very censored uh for a number of reasons uh that we have to, right? we just have to follow the Reddit rules. Twitter doesn't have those same rules. So, if you guys want to talk about this issue more and bring up more people, uh, feel free to go over to the Twitter community and we can mobilize from there. And hopefully we can put, uh, you know, everybody together and actually achieve something for a good cause. And don't ever think that this kind of stuff doesn't matter. Uh, this kind of stuff has led to a lot of people getting fired, which is the exact reason why I'm doing it. Hopefully, it'll happen again. So, anyway guys, thank you all so much for watching. I really appreciate it and I'll see you all as soon as I can. Peace.\"\n        ],\n        \"semantic_type\": \"\",\n        \"description\": \"\"\n      }\n    },\n    {\n      \"column\": \"error\",\n      \"properties\": {\n        \"dtype\": \"number\",\n        \"std\": null,\n        \"min\": null,\n        \"max\": null,\n        \"num_unique_values\": 0,\n        \"samples\": [],\n        \"semantic_type\": \"\",\n        \"description\": \"\"\n      }\n    }\n  ]\n}"
            }
          },
          "metadata": {},
          "execution_count": 94
        }
      ]
    },
    {
      "cell_type": "code",
      "source": [
        "# explore a bit\n",
        "\n",
        "df2.shape        # number of rows, columns\n",
        "df2.info()       # column names + types + non-null counts\n",
        "df2.head()       # first 5 rows\n",
        "df2.tail()       # last 5 rows\n"
      ],
      "metadata": {
        "colab": {
          "base_uri": "https://localhost:8080/",
          "height": 379
        },
        "id": "Pc6VJVOQx6cM",
        "outputId": "71866447-fc44-48d3-f056-604ca9843d6d"
      },
      "id": "Pc6VJVOQx6cM",
      "execution_count": 95,
      "outputs": [
        {
          "output_type": "stream",
          "name": "stdout",
          "text": [
            "<class 'pandas.core.frame.DataFrame'>\n",
            "RangeIndex: 25 entries, 0 to 24\n",
            "Data columns (total 3 columns):\n",
            " #   Column      Non-Null Count  Dtype  \n",
            "---  ------      --------------  -----  \n",
            " 0   ﻿IDcode     25 non-null     object \n",
            " 1   transcript  25 non-null     object \n",
            " 2   error       0 non-null      float64\n",
            "dtypes: float64(1), object(2)\n",
            "memory usage: 732.0+ bytes\n"
          ]
        },
        {
          "output_type": "execute_result",
          "data": {
            "text/plain": [
              "        ﻿IDcode                                         transcript  error\n",
              "20  DmA6-pS-Dmk  Chaos and horror on a college campus. Conserva...    NaN\n",
              "21  Jy9tNyp03M0  [Music] [Applause] thank you very much Mr Pres...    NaN\n",
              "22  XfKeZruVylQ  Paul Davis has racked up a legion of online fo...    NaN\n",
              "23  XzbsCpiA5Q0  Yes, sir. All right. Uh, is this thing on? Oh,...    NaN\n",
              "24  _uk_6vfqwTA  This video was made possible by Skillshare. Ch...    NaN"
            ],
            "text/html": [
              "\n",
              "  <div id=\"df-f52ac587-f766-4208-8ca5-5c8e8ae1a555\" class=\"colab-df-container\">\n",
              "    <div>\n",
              "<style scoped>\n",
              "    .dataframe tbody tr th:only-of-type {\n",
              "        vertical-align: middle;\n",
              "    }\n",
              "\n",
              "    .dataframe tbody tr th {\n",
              "        vertical-align: top;\n",
              "    }\n",
              "\n",
              "    .dataframe thead th {\n",
              "        text-align: right;\n",
              "    }\n",
              "</style>\n",
              "<table border=\"1\" class=\"dataframe\">\n",
              "  <thead>\n",
              "    <tr style=\"text-align: right;\">\n",
              "      <th></th>\n",
              "      <th>﻿IDcode</th>\n",
              "      <th>transcript</th>\n",
              "      <th>error</th>\n",
              "    </tr>\n",
              "  </thead>\n",
              "  <tbody>\n",
              "    <tr>\n",
              "      <th>20</th>\n",
              "      <td>DmA6-pS-Dmk</td>\n",
              "      <td>Chaos and horror on a college campus. Conserva...</td>\n",
              "      <td>NaN</td>\n",
              "    </tr>\n",
              "    <tr>\n",
              "      <th>21</th>\n",
              "      <td>Jy9tNyp03M0</td>\n",
              "      <td>[Music] [Applause] thank you very much Mr Pres...</td>\n",
              "      <td>NaN</td>\n",
              "    </tr>\n",
              "    <tr>\n",
              "      <th>22</th>\n",
              "      <td>XfKeZruVylQ</td>\n",
              "      <td>Paul Davis has racked up a legion of online fo...</td>\n",
              "      <td>NaN</td>\n",
              "    </tr>\n",
              "    <tr>\n",
              "      <th>23</th>\n",
              "      <td>XzbsCpiA5Q0</td>\n",
              "      <td>Yes, sir. All right. Uh, is this thing on? Oh,...</td>\n",
              "      <td>NaN</td>\n",
              "    </tr>\n",
              "    <tr>\n",
              "      <th>24</th>\n",
              "      <td>_uk_6vfqwTA</td>\n",
              "      <td>This video was made possible by Skillshare. Ch...</td>\n",
              "      <td>NaN</td>\n",
              "    </tr>\n",
              "  </tbody>\n",
              "</table>\n",
              "</div>\n",
              "    <div class=\"colab-df-buttons\">\n",
              "\n",
              "  <div class=\"colab-df-container\">\n",
              "    <button class=\"colab-df-convert\" onclick=\"convertToInteractive('df-f52ac587-f766-4208-8ca5-5c8e8ae1a555')\"\n",
              "            title=\"Convert this dataframe to an interactive table.\"\n",
              "            style=\"display:none;\">\n",
              "\n",
              "  <svg xmlns=\"http://www.w3.org/2000/svg\" height=\"24px\" viewBox=\"0 -960 960 960\">\n",
              "    <path d=\"M120-120v-720h720v720H120Zm60-500h600v-160H180v160Zm220 220h160v-160H400v160Zm0 220h160v-160H400v160ZM180-400h160v-160H180v160Zm440 0h160v-160H620v160ZM180-180h160v-160H180v160Zm440 0h160v-160H620v160Z\"/>\n",
              "  </svg>\n",
              "    </button>\n",
              "\n",
              "  <style>\n",
              "    .colab-df-container {\n",
              "      display:flex;\n",
              "      gap: 12px;\n",
              "    }\n",
              "\n",
              "    .colab-df-convert {\n",
              "      background-color: #E8F0FE;\n",
              "      border: none;\n",
              "      border-radius: 50%;\n",
              "      cursor: pointer;\n",
              "      display: none;\n",
              "      fill: #1967D2;\n",
              "      height: 32px;\n",
              "      padding: 0 0 0 0;\n",
              "      width: 32px;\n",
              "    }\n",
              "\n",
              "    .colab-df-convert:hover {\n",
              "      background-color: #E2EBFA;\n",
              "      box-shadow: 0px 1px 2px rgba(60, 64, 67, 0.3), 0px 1px 3px 1px rgba(60, 64, 67, 0.15);\n",
              "      fill: #174EA6;\n",
              "    }\n",
              "\n",
              "    .colab-df-buttons div {\n",
              "      margin-bottom: 4px;\n",
              "    }\n",
              "\n",
              "    [theme=dark] .colab-df-convert {\n",
              "      background-color: #3B4455;\n",
              "      fill: #D2E3FC;\n",
              "    }\n",
              "\n",
              "    [theme=dark] .colab-df-convert:hover {\n",
              "      background-color: #434B5C;\n",
              "      box-shadow: 0px 1px 3px 1px rgba(0, 0, 0, 0.15);\n",
              "      filter: drop-shadow(0px 1px 2px rgba(0, 0, 0, 0.3));\n",
              "      fill: #FFFFFF;\n",
              "    }\n",
              "  </style>\n",
              "\n",
              "    <script>\n",
              "      const buttonEl =\n",
              "        document.querySelector('#df-f52ac587-f766-4208-8ca5-5c8e8ae1a555 button.colab-df-convert');\n",
              "      buttonEl.style.display =\n",
              "        google.colab.kernel.accessAllowed ? 'block' : 'none';\n",
              "\n",
              "      async function convertToInteractive(key) {\n",
              "        const element = document.querySelector('#df-f52ac587-f766-4208-8ca5-5c8e8ae1a555');\n",
              "        const dataTable =\n",
              "          await google.colab.kernel.invokeFunction('convertToInteractive',\n",
              "                                                    [key], {});\n",
              "        if (!dataTable) return;\n",
              "\n",
              "        const docLinkHtml = 'Like what you see? Visit the ' +\n",
              "          '<a target=\"_blank\" href=https://colab.research.google.com/notebooks/data_table.ipynb>data table notebook</a>'\n",
              "          + ' to learn more about interactive tables.';\n",
              "        element.innerHTML = '';\n",
              "        dataTable['output_type'] = 'display_data';\n",
              "        await google.colab.output.renderOutput(dataTable, element);\n",
              "        const docLink = document.createElement('div');\n",
              "        docLink.innerHTML = docLinkHtml;\n",
              "        element.appendChild(docLink);\n",
              "      }\n",
              "    </script>\n",
              "  </div>\n",
              "\n",
              "\n",
              "    <div id=\"df-702998ce-f712-4513-9f6a-cc2ff25043cc\">\n",
              "      <button class=\"colab-df-quickchart\" onclick=\"quickchart('df-702998ce-f712-4513-9f6a-cc2ff25043cc')\"\n",
              "                title=\"Suggest charts\"\n",
              "                style=\"display:none;\">\n",
              "\n",
              "<svg xmlns=\"http://www.w3.org/2000/svg\" height=\"24px\"viewBox=\"0 0 24 24\"\n",
              "     width=\"24px\">\n",
              "    <g>\n",
              "        <path d=\"M19 3H5c-1.1 0-2 .9-2 2v14c0 1.1.9 2 2 2h14c1.1 0 2-.9 2-2V5c0-1.1-.9-2-2-2zM9 17H7v-7h2v7zm4 0h-2V7h2v10zm4 0h-2v-4h2v4z\"/>\n",
              "    </g>\n",
              "</svg>\n",
              "      </button>\n",
              "\n",
              "<style>\n",
              "  .colab-df-quickchart {\n",
              "      --bg-color: #E8F0FE;\n",
              "      --fill-color: #1967D2;\n",
              "      --hover-bg-color: #E2EBFA;\n",
              "      --hover-fill-color: #174EA6;\n",
              "      --disabled-fill-color: #AAA;\n",
              "      --disabled-bg-color: #DDD;\n",
              "  }\n",
              "\n",
              "  [theme=dark] .colab-df-quickchart {\n",
              "      --bg-color: #3B4455;\n",
              "      --fill-color: #D2E3FC;\n",
              "      --hover-bg-color: #434B5C;\n",
              "      --hover-fill-color: #FFFFFF;\n",
              "      --disabled-bg-color: #3B4455;\n",
              "      --disabled-fill-color: #666;\n",
              "  }\n",
              "\n",
              "  .colab-df-quickchart {\n",
              "    background-color: var(--bg-color);\n",
              "    border: none;\n",
              "    border-radius: 50%;\n",
              "    cursor: pointer;\n",
              "    display: none;\n",
              "    fill: var(--fill-color);\n",
              "    height: 32px;\n",
              "    padding: 0;\n",
              "    width: 32px;\n",
              "  }\n",
              "\n",
              "  .colab-df-quickchart:hover {\n",
              "    background-color: var(--hover-bg-color);\n",
              "    box-shadow: 0 1px 2px rgba(60, 64, 67, 0.3), 0 1px 3px 1px rgba(60, 64, 67, 0.15);\n",
              "    fill: var(--button-hover-fill-color);\n",
              "  }\n",
              "\n",
              "  .colab-df-quickchart-complete:disabled,\n",
              "  .colab-df-quickchart-complete:disabled:hover {\n",
              "    background-color: var(--disabled-bg-color);\n",
              "    fill: var(--disabled-fill-color);\n",
              "    box-shadow: none;\n",
              "  }\n",
              "\n",
              "  .colab-df-spinner {\n",
              "    border: 2px solid var(--fill-color);\n",
              "    border-color: transparent;\n",
              "    border-bottom-color: var(--fill-color);\n",
              "    animation:\n",
              "      spin 1s steps(1) infinite;\n",
              "  }\n",
              "\n",
              "  @keyframes spin {\n",
              "    0% {\n",
              "      border-color: transparent;\n",
              "      border-bottom-color: var(--fill-color);\n",
              "      border-left-color: var(--fill-color);\n",
              "    }\n",
              "    20% {\n",
              "      border-color: transparent;\n",
              "      border-left-color: var(--fill-color);\n",
              "      border-top-color: var(--fill-color);\n",
              "    }\n",
              "    30% {\n",
              "      border-color: transparent;\n",
              "      border-left-color: var(--fill-color);\n",
              "      border-top-color: var(--fill-color);\n",
              "      border-right-color: var(--fill-color);\n",
              "    }\n",
              "    40% {\n",
              "      border-color: transparent;\n",
              "      border-right-color: var(--fill-color);\n",
              "      border-top-color: var(--fill-color);\n",
              "    }\n",
              "    60% {\n",
              "      border-color: transparent;\n",
              "      border-right-color: var(--fill-color);\n",
              "    }\n",
              "    80% {\n",
              "      border-color: transparent;\n",
              "      border-right-color: var(--fill-color);\n",
              "      border-bottom-color: var(--fill-color);\n",
              "    }\n",
              "    90% {\n",
              "      border-color: transparent;\n",
              "      border-bottom-color: var(--fill-color);\n",
              "    }\n",
              "  }\n",
              "</style>\n",
              "\n",
              "      <script>\n",
              "        async function quickchart(key) {\n",
              "          const quickchartButtonEl =\n",
              "            document.querySelector('#' + key + ' button');\n",
              "          quickchartButtonEl.disabled = true;  // To prevent multiple clicks.\n",
              "          quickchartButtonEl.classList.add('colab-df-spinner');\n",
              "          try {\n",
              "            const charts = await google.colab.kernel.invokeFunction(\n",
              "                'suggestCharts', [key], {});\n",
              "          } catch (error) {\n",
              "            console.error('Error during call to suggestCharts:', error);\n",
              "          }\n",
              "          quickchartButtonEl.classList.remove('colab-df-spinner');\n",
              "          quickchartButtonEl.classList.add('colab-df-quickchart-complete');\n",
              "        }\n",
              "        (() => {\n",
              "          let quickchartButtonEl =\n",
              "            document.querySelector('#df-702998ce-f712-4513-9f6a-cc2ff25043cc button');\n",
              "          quickchartButtonEl.style.display =\n",
              "            google.colab.kernel.accessAllowed ? 'block' : 'none';\n",
              "        })();\n",
              "      </script>\n",
              "    </div>\n",
              "\n",
              "    </div>\n",
              "  </div>\n"
            ],
            "application/vnd.google.colaboratory.intrinsic+json": {
              "type": "dataframe",
              "summary": "{\n  \"name\": \"df2\",\n  \"rows\": 5,\n  \"fields\": [\n    {\n      \"column\": \"\\ufeffIDcode\",\n      \"properties\": {\n        \"dtype\": \"string\",\n        \"num_unique_values\": 5,\n        \"samples\": [\n          \"Jy9tNyp03M0\",\n          \"_uk_6vfqwTA\",\n          \"XfKeZruVylQ\"\n        ],\n        \"semantic_type\": \"\",\n        \"description\": \"\"\n      }\n    },\n    {\n      \"column\": \"transcript\",\n      \"properties\": {\n        \"dtype\": \"string\",\n        \"num_unique_values\": 5,\n        \"samples\": [\n          \"[Music] [Applause] thank you very much Mr President ladies and gentlemen good evening assalam alaykum lovely to see you all here tonight we are having a very entertaining night are we not with some very interesting things being said uh from the other side of the house tonight um let me Begin by saying as a Muslim as a representative of Islam I would consider myself an ambassador for Islam a believer in Islam a follower of Islam and its Prophet so in that capacity let me Begin by apologizing to anarie for the barle bombings I apologize for the role of my religion and me and my people uh for the killing of Theo van go for seven seven yes that was all of us that was Islam that was Muslims that was the Quran I mean astonishing astonishing claims uh to make in the very first speech tonight on a day like today where the conservative prime minister of the United Kingdom is having to come out and point out that these kind of views are anathema and I believe you're trying to stand for the labor party to become an MP in Brighton if you do and you make these comments I'm guessing you'll have the whip withdrawn from you but then again UK Kips On The Rise they'll take you the BNP they might have something to say about your views this is what n Hasan always say by the way by the way by the way by the way by the way just on a factual Point since we heard a lot about the second speaker about how backward we Muslims all are on a factual point you said that Islam was born in Saudi Arabia Islam was born in 610 ad Saudi Arabia was born in 1932 ad so you only 1,322 years off not bad not bad start there uh talking of maths by the way a man named alisi was one of the greatest mathematicians of all time a Muslim worked in the Golden Age of Islam he the guy who came up with not just algebra but algorithms without algorithms you wouldn't have laptops without laptops Daniel Johnson tonight wouldn't have been able to print out his speech in which he came to break us Muslims for holding back the advance and intellectual achievements of the West which all happened without any contribution from anyone else other than the judeo-christian people of Europe in fact Daniel David Levering the author of The poit prizewinning historian and author of The Golden Crucible point out that there would be no Renaissance there would be no Reformation in Europe without the role played by I Sina and rush and some of the great Muslim theologians philosophers scientists in bringing Greek texts to Europe as for this being our University I will leave that to the imagination as to who is our and who is there I studied here too um an astonishing astonishing set of uh speeches so far making this case tonight uh a mixture of just cherry-picked quotes facts and figures s self- serving selective a farago of distortions misrepresentations misinterpretations misquotations uh Daniel talked about my article in the new Statesman which got me a lot of flak where I talked about the anti-Semitism that is prevalent in some parts of the Muslim Community which indeed it is uh of course I didn't say in that piece that it was caused by the religion of Islam in fact modern anti-Semitism in the Middle East was imported from finish the sentence Christian judeo-christian Europe where I believe some certainly bad things happened to the Jewish people in fact Tom fredman Jewish American columnist of New York Times told me in this very chamber last week that he believed had Muslims been running Europe in the 1940s 6 million extra Jews would still be alive today so I'm not going to take lessons in anti-Semitism from someone who's here to defend the judeo-christian values of a continent that murdered 6 million Jews uh moving swiftly on moving swiftly on you doing exactly absolutely well I'm about to make that point no no no I'm about to make that point you're right I agree with you I agree with you I agree with you 110% that is my point I don't think Europe is evil or bad I'm a very proud European I don't want to judge Europe on the basis but if we're going to play this gutter game where we pull out the barle bombing and we pull out examples of anti-Semitism in Islamic then of course I'm going to come back and say well hold on I mean look let's be very clear Daniel here was a last minute replacement for Douglas Murray who had to pull out and Douglas and I have a well documented differences but to be fair to Douglas as to be fair to anmarie and to Peter atheists atheists see all religions as evil violent threatening what the problem I have with Daniel's speech is that Daniel comes here to rount this robust defense of Christianity forgetting that his fellow Christians people who said they were acting in the name of Jesus gave us the Crusades the Spanish Inquisition the anti-jewish programs European colonialism in Africa and Asia the Lord's resistance Army in Uganda not to mention countless Arsen and bomb attacks on abortion clinics in the United States of America to this very day I would like a little bit of humility from Daniel first before he begins lecturing other communities and other faiths on violence Terror and intolerance but no thank you some water some water but I would say this to address the gentleman's very valid point here I'm not going to play that game I don't actually believe that Christianity is a religion of violence and hate because of what the L does in Uganda or what what Crusaders did uh to Jews and Muslims in Jerusalem when they took back the city in the 12th or 13th whatever Century it was I believe that Christianity like Islam like pretty much every mainstream religion is based on love and compassion and faith I do follow a religion in which 113 out of the 114 chapters of the Quran Begins by introducing the god of Islam as a god of mercy and compassion I would not have it any other way I don't follow a religion which introduces my God to me as a God of War as some kind of Greek god of wrath as a god of hate and Injustice not at all as Adam pointed out you go through the Quran and you see the mercy and the love and the justice and yes you have verses that refer to Warfare and violence of course it does this is not aemotion about pacifism I'm not here to argue that Islam is a pacifistic faith it is not Islam allows military action violence in certain limited contexts and yes a minority of Muslims do take it out of that context but is it religious we talked about willich Daniel and anarie have suggested that it's definitely religion that's behind all of this well actually what I find so amusing tonight is we're having a debate about Islam and the opposition tonight have come forward we have a graduate in law a graduate in modern history a graduate in chemistry and you know I admire all of their intellects and their abilities but we don't have anyone who's actually an expert on Islam a scholar of Islam a historian of Islam a speaker of Arabic even a terrorism expert or a security expert or a holster let alone to talk about what Muslims believe or think instead we have people coming here putting forward the views putting forward these sweeping opinions Listen to Professor Robert Pape of the University of Chicago one of America's leading terrorism experts who unlike our esteemed opposition tonight studied every single case of suicide terrorism between 1980 and 2005 315 cases in total and he concluded and I quote there is little connection between suicide terrorism and Islamic fundamentalism or any of the world's religions rather what nearly all suicide terrorist attacks have in common is a specific secular and strategic goal to compel modern democracies to withdraw military forces from territory that the terrorists consider to be their Homeland and the irony is when we talk about terrorism the irony is that the opposition and the Muslim terrorist the al-Qaeda types actually have one thing in common because they both believe that Islam is a warlike violent religion they both agree on that they have everything in common AMA bin lad would be nodding along to everything he's heard tonight from the opposition that he agrees with [Applause] them the problem is the problem is that mainstream Muslims don't the majority of Muslims around the world don't in fact a gentleman here can started quoting all sorts of polls Gallup carried out the biggest poll of Muslims around the world of 35,000 50,000 Muslims in 35 countries 93% of Muslims rejected 9/11 and suicide attacks and of the 7% who didn't they all when pulled and focus grouped cited political reasons for their support for violence not religious reasons and as for Islamic scholars and what they say well Daniel talks about our University of Oxford we'll go down to Oxford's Center for Islamic Studies get hold of a man named shik aifi Al akiti who is a massively well credentialed and well respected Islamic scholar who was studied across the world who in the days after 77 published a fatwa denouncing terrorism in the name of Islam calling for the protection of all non-combatants at all times and describing suicide bombings as an innovation with no basis in Islamic law go and listen to she one of Pakistan's most famous Islamic scholars who published a 600 page fatwa condemning the killing of all Innocents and all suicide bombings unconditionally without any ifs or buts there's nothing new here this is mainstream Islam mainstream scholarship which has said this for years you don't go out and kill people willy-nilly in the High Street or anywhere else on a bus or a mall based on verses of the Quran that you cherry-pick without any context any understanding any interpretation or any commentary of information please well it doesn't happen apparently I didn't say it doesn't happen at all I never said it didn't happen I don't blame Islam yes it's a very good point and a lot of us a lot of us are campaigning against that and we're campaigning against it in the name of Islam we're campaigning against it in the name of various interpretations of Islam anarie comes and scares us with her talk of sharia law I would like to see the book of sharia law it doesn't exist people argue over what Sharia law is and you empower the extremists by saying there is only one version you Empower them all I don't believe you took any interruption so I think you should stay there for a moment what we de what we're dealing with we are dealing I took your point I took your point here we are dealing with a 1400 year old Global religion followed by 1.6 billion people in every corner of the world a quarter of humanity of all backgrounds cultures ethnicities and yet the opposition tonight wants to generalize stereotype smear in order to desperately win this debate and here's my question if we're going to generalize and smear if okay people say yesterday's bombers and we've got to be careful there's a trial going on were yesterday's attackers sorry motivated by Islam big debate I don't believe they were let's say they were let's say fisel Shazad the Time Square bomber was motivated by Islam let's assume for sake of argument that Richard Rees the shoe bomber was by Islam if Islam is responsible for these killings if Islam is what is motivating these people and Islam is therefore not a religion of Peace a religion of War then ask yourself this question why aren't the rest of us doing it why is it such a tiny minority of Muslims are interpreting their religion in the way that the opposition claim they are let's assume there are 16,000 suicide bombers in the world there aren't let's assume there are for the sake of argument that's 0.001% of the Muslim population globally what about the other 99.99% of Muslims who the opposition tonight either ignore or smear the reality is that the rest of us aren't blowing ourselves up tonight the reality is that the opposition came here tonight not worried about the fact that me and Adam might P pull open our jackets and blow ourselves up to that CU we're followers of a warlike Warrior religion which wants to take over Europe and Daniel's University the the issue is this the issue is this unless the opposition can tell us tonight and Peter Atkins is here one of our great atheist intellectuals can tell us tonight can they can answer this question tonight why don't the vast majority of Muslims around the world behave as violently and aggressively as a tiny minority of politically motivated extremists then they might as well give up and stop pretending they have anything relevant to say about Islam or Muslims as a whole ladies and gentlemen let me just say this to you think about what the opposite of this motion is if you vote no tonight think about what you're saying the opposite motion is that Islam isn't a religion of Peace it's a religion of War Of Violence of Terror of aggression that the people who follow Islam me my wife my retired parents my six-year-old child that 1.8 million of your fellow British residents and citizens that 1.6 billion people across the world your fellow human beings are all followers promoters Believers in a religion of violence do you really think that do you really believe that to be the case they say that in the Oxford Union the most famous debate was in 1933 when Adolf Hitler looked out for the result of the king and country motion where they voted against fighting for king and country and Hitler was listening out for the result well tonight 80 years on there are two groups of people around the world who I would argue are waiting for the result of tonight's vote there are the millions of peaceful non-violent law-abiding Muslims both in the UK Europe Asia Africa and Beyond who see Islam as the source of their identity as a source of spiritual fulfillment of Hope of Solace and there are the phobes the haters the bigots out there who want to push the Clash of civilizations who want to divide all of us into them and and ours and their ladies and gentlemen I urge you all not to fuel the arguments of the phobes and bigots don't legitimate their divisions don't legitimize their hate trust those Muslims who you know who you've met who you hear who don't believe in violence who do want you to hear the peaceful message of the Quran as they believe it to be taught to the majority of Muslims the Islam of peace and compassion and mercy the Islam of the Quran not of al-Qaeda ladies and gentlemen I beg to propose this motion to the house I urge you to vote Yes tonight thank you very much for your time [Music]\",\n          \"This video was made possible by Skillshare. Churchill was a man with many talents. He was an artist, a butterfly enthusiast, and he had an unpublished manuscript about aliens. Clearly he was a man with an insatiable thirst for knowledge. Maybe he could have loaded up his computer, and logged on to Skillshare. An online learning community, with more than 19,000 classes in design, business, technology and more. Perhaps he was considering a side-career in fashion. But didn't know where to start. On Skillshare, he would've found courses on fashion design, and garment construction. Or if he wanted to learn app design, improve his photography, or just how to make a really good quesadilla, He would have found courses for all of these and more, on Skillshare. Skillshare gives you access to high-quality classes taught by genuine experts working in their field. I work heavily with animation, and I was genuinely blown away by the number of really useful courses available to me. Like this class, full of tips and tricks for creating vector art. Or this one, for creating character walk cycles. For an annual subscription, Skillshare is under $10 a month. And if you'd like to try it out first, then I've got a deal just for OverSimplified viewers. The first 1,000 people to use this link, which can be found in the description, will get their first 2 months of Skillshare for just 99\\u00a2. Be sure to try it out using the link in the description, and learn something new today. Now, without further ado - It's 1902. A young man by the name of Benito Mussolini moves from Italy to Switzerland to avoid military service. He gets big into socialism, working for trade unions, writing for socialist newspapers, advocating a violent overthrow of European monarchies, the whole shabang. This gets him in a bit of trouble with the Swiss police. So he gets arrested, sent back to Italy, set free, returns to Switzerland, is arrested again, goes back to Italy again, completes his military service after previously avoiding it, and then after a brief stint as an elementary school teacher, he finally returns to work as an avid socialist. His speeches and journalistic abilities made him famous among Italian socialists. He was anti-war, so when Italy colonised Libya in 1910, he rioted. And got arrested. Then WW1 came along, and once again, he protested Italy's involvement. But then he thought, 'Wait a minute.' 'This war could bring about the social climate needed to overthrow European monarchies, and bring about the socialist revolution everywhere.' And suddenly he was pro-war. But his fellow socialists didn't like his new pro-war stance, so they kicked him out of the party. So then he said, 'You know what? I'm done with socialism. We need something new. Not based on class divisions tearing us apart, but based on unity through nationality. We'll conquer the Mediterranean, and reunite all Italian peoples, just like the days of the Roman Empire. I'll call it \\\"Fascismo\\\" and it will guide the Italian nation to greatness.' 'That's all well and good, Mr Mussolini, but what kind of haircut am I giving you?' 'Let's go with... bald.' \\u266a Tchaikovsky - 1812 Overture \\u266a Italy had been on the winners' side in WW1, and they hoped they were going to get a lot out of it. But in the end, they only got a little, and they felt cheated. On top of that, a bad economy, and weak governments meant that the Italian people were a little unhappy. So when Mussolini came along, and said that he could fix everything, his fascist movement gained a lot of support. In 1922, he went to the King and said, 'Make me prime minister, or I'll make me prime minister.' And the King said, 'You and what army?' 'This army.' 'Fair enough.' Then he went about establishing a dictatorship with himself at its centre. Europe had its first fascist dictator. Next up: Germany. Germany had been on the losers' side, and they got absolutely wrecked by the Treaty of Versailles. They lost territory, had to demilitarise the Rhineland, had to reduce their army to just 100,000 men, couldn't have an airforce, had to pay the Allies a huge amount of money that it didn't have, and a new rule was established that every Englishman witheld the right to walk into the center of Berlin, pick out any German they wanted, and spank the hell out of them. I made that last one up, but it helps you understand how all of this felt to Germans. On top of that, a bad economy and weak governments meant that when a small, angry man with a silly moustache came along and said that he could fix everything, the German people loved it. Hitler had been a soldier during WW1, and he was crazy patriotic. And nobody was madder than him about Germany's humiliation. He helped start a new political party, and in 1923, attempted a march on Munich with his boys. And then he got arrested. But his popularity grew and grew, and in 1933, the President made him Chancellor. He believed he was Germany's great destined saviour, and he went full megalomaniac, establishing a dictatorship with himself at its center. Europe had Fascist Dictator No. 2. Hitler and Mussolini had a lot of the same ideas. But more importantly, they had the same enemies. And they started to get along. 'Anyone else wanna be friends? Franco? No? You good?' 'I do.' 'Who's that?' It's Japan. And they've taken over northern China. Let's rewind a bit - Japan had isolated itself from the rest of the world for over 200 years. Until the Americans showed up and said, 'You're going to trade with us, and you're going to like it.' Then the Western powers imposed a bunch of 'Unequal Treaties'. Meaning Japan's economy was bust. They also had no natural resources. So they decided to go get some. They went to war with China to gain a sphere of influence over Korea, and they took a bunch of China's stuff. But then the West said, 'Hey! Cut that out.' And since Japan couldn't take on the West, They said, 'Okay, I guess we'll just go home - Wait a minute! What are you doing?' 'Taking advantage of a weakened China and setting up spheres of influence.' 'But I was the one who weakened them.' 'We know.' 'And you guys didn't let me have anything.' 'We know.' 'That seems unfair.' 'We don't think so. Okay. See ya.' So Japan thought, 'Screw this!' and went to war with Russia, and stunned everyone by actually winning. Then they fully annexed Korea, but they didn't stop there. In WW1, they took Germany's colonies and islands in Asia. And then in an incident that was maybe staged by the Japanese army, a bomb blew up a Japanese train in Manchuria, giving them an excuse to launch an invasion and take over. So, here's the situation: Nazi Germany, fascist Italy and Japan, all believe they're racially superior. All feel hostility towards the Allies, and all want to militarise and take over more stuff. And so they did. Let's start with Germany. Hitler hated the Treaty of Versailles, and now he was ready to begin undoing it. In complete violation of the treaty, the first Luftwaffe squadrons were set up, conscription was introduced, and he pimped up his army. The Allies did nothing. Then Hitler sent his army back into the demilitarised Rhineland, giving orders to immediately retreat if the Allies showed up. The Allies did nothing. With his military restrengthened, he could now move on to Step 2. He wanted to rapidly increase the Aryan population. And to do so, he needed lebensraum, or in other words, he would have to take over the world. But for now, a good portion of Europe would do. And he began eyeing up his neighbours. The Allies finally started to get worried, so they implemented a fairly useless diplomatic strategy called appeasement. And it went a little something like this: Hitler would say, 'I want that thing.' And the Allies would say, 'You can't have that thing - Okay you can have that thing but no more.' 'I want that thing.' And repeat. In 1938, Hitler's army marched into Austria, and just took it, with no resistance. Boom. This is Germany now. Next, he demanded to be given the Sudetenland, an area of Czechoslovakia with many ethnic Germans. The Allies held a meeting with Hitler in Munich and said, 'Look, we're going to give you wha -' 'HANG ON. This meeting is about my territory, shouldn't I come to the meeting too?' 'Anyway, we're going to give you what you want.' 'Really?' 'Yeah.' 'Just like that?' 'Yep.' 'What's the catch?' 'Just sign this piece of paper promising you won't invade the rest of Czechoslovakia.' 'Okay.' Then Chamberlain returned home victorious, waving his signed piece of paper in the air, declaring crisis to be averted, and the continuation of World Peace, and we built a statue of Chamberlain in his honour and every day on the 30th of September we celebrate Chamberlain Day - 'Hitler's invading the rest of Czechoslovakia.' 'What?' 'He's invading the rest of Czechoslovakia.' 'Oh. You lied to me.' 'What do you expect? I'm Hitler.' Not to be outdone, Mussolini also wanted to get in on the action. He thought to himself, 'Isn't there a not-yet-colonised nation somewhere which is so underdeveloped that the people would be defending themselves against our tanks with literal bows and arrows and wooden spears? Oh there is? Fantastic!' And so he took it. Italy also wanted to control the entrance to the Adriatic Sea. So they occupied Albania. Then, in another incident that was maybe staged by the Japanese, gunfire was exchanged by Japanese and Chinese troops at the Marco Polo Bridge. And the Japanese launched yet another invasion against China. They swept through Beijing and Shanghai, and then advanced through the Yangtze Valley to China's then-capital, Nanking. It was here that saw the worst of Japan's shocking atrocities committed against the Chinese people. Back in Europe, Germany and Italy made their relationship status official by signing the Pact of Steel. Then, Hitler turned his eyes towards Poland, and the hated Polish Corridor splitting Germany in two. At this point, the Allies really had to put their foot down. And they warned him that an invasion of Poland would mean war. Hitler had planned to continue his advance eastward, but he didn't want to end up fighting a war on two fronts. So for now he made an alliance with Stalin, saying, 'How about we both invade Poland and split it between the two of us, and I definitely won't not refrain from not betraying you sometime in the future.' 'Sounds... good.' This new alliance stunned the West. On the 1st of September 1939, German troops entered Poland, and Britain and France declared war on Germany. The Poles fought hard, but they were no match for the two giants crashing down on them from either side. Then came a period known as 'The Phony War', where everyone just sort of sat around not doing much. The French had launched a small invasion into the Saar Land, but they maintained mostly defensive positions, and after a while decided to just turn around and call it a day. Speaking of France, the French were still super proud of their victory in WW1. And they hadn't really moved on from it. They still used horses, they dispatched messages by motorbike instead of using the radio, orders from the commander-in-chief were usually pretty vague, and the troops were rarely inspected. They built a line of defenses along their German border, but didn't bother extending it all the way to the Channel, and they wouldn't launch artillery strikes against Germany out of fear of being retaliated against. In a war. They didn't want to attack the enemy. And at first, the UK wasn't much better. Chamberlain still naively hoped that the war could be ended diplomatically. Instead of bombing raids, the RAF dropped propaganda leaflets over German cities, which one air marshall said likely did nothing but provide the continent with toilet paper for the duration of the war. They also only sent 200,000 men to France, while the French had mobilised millions. Both Britain and France wanted to avoid a repeat of the First World War, and so they wanted to keep the war as far from home as possible. So they turned their eyes north, towards Norway. Neutral Sweden was exporting iron ore to Germany, through neutral Norway. So the Allies asked them if they could please stop exporting iron ore to Germany. But this request was refused. Then, the Soviet Union attacked Finland. So the Allies said, 'How about we land troops in Norway and move them across Sweden to go help out your good pal Finland? And then along the way maybe take control of all your iron fields.' But Norway and Sweden still said no. So the UK mined the waters around Norway to force any transport ships into international waters, and they also attacked a German tanker they found in the area. Hitler realised what the Allies were up to, and he quickly moved to secure his supply of iron ore. He launched an invasion through Denmark into Norway. The Allies rushed to land troops at quay ports along the coast, but Germany had taken control of Norway's airfields, and their air superiority decided to fight. The Allies had to retreat. After this slightly embarrassing failure, Chamberlain resigned. And was replaced with Winston Churchill, who had a slightly different approach to dealing with the Germans. Hitler's overall strategy was similar to Germany's WW1 strategy. Attack France, defeat France, knocking out the UK in the process, then turn on the Soviet Union and win the war. During the Phony War, the Allies had given Hitler enough time to prepare his forces. Now, he was ready to attack. The Allies had wanted to place troops in Belgium, but Belgium had refused. And in a move that surprised pretty much no one, Hitler launched an invasion to get around France's defenses. The Allies charged into Belgium at full speed, to meet the German invasion head-on, and it looked like a repeat of the First World War was coming. But this time, Hitler had a trick up his sleeve. Blitzkrieg. As the Germans advanced, they sent thousands of refugees westward, slowing down the Allies. Then, to the south, the French had left the Ardennes, an area filled with hills and forests, pretty under-defended, because they thought it was naturally impenetrable. Well, the Germans were about to penetrate it with everything they had. They smashed 50 Wehrmacht divisions through, and encircled the Allied armies at lightning speed. The best of the Allied forces were now trapped. The Germans squeezed in from all sides, taking out France's best armies, and nearly wiping out the British, too. But they managed to make a desperate last-minute escape at Dunkirk, with British civilian ships even making the perilous journey to bring their young men home. With most of the French forces depleted, the Germans breezed through, taking Paris, and France fell. What the Germans couldn't do in WW1, Hitler had done just like that. Hitler hoped that with the fall of France, the UK would also lose hope and sue for peace. But quite annoyingly, it didn't. And he needed to secure the Western Front. So he tried to force them into submission, with mind games. The UK were now all alone and Hitler wanted to emphasise that. First of all, just before France fell, Italy finally declared war on the Allies, making the UK's situation even worse. Next, instead of just occupying all of France, Hitler occupied the coastal areas for defense, but allowed France to continue its existence as a German puppet state. This way, it looked like the UK's old ally had decided to switch sides. Hitler also hoped that the UK wouldn't attack any of her old ally's navy bases or colonies in Africa, giving Hitler an extra line of defense to the south. But the UK made sure to respond to this by sailing down to France's navy base in Algeria and wrecking a bunch of ships. So, have at it. Hitler then began laying down plans for an invasion of Great Britain. Before German troops could land on British soil, he would first need air and naval superiority across the Channel. Waves of German bombers came, while the completely outnumbered RAF worked bravely around the clock in an attempt to quell the German attacks. At first, the Luftwaffe targeted British ports and coastal facilities, then it attacked RAF bases, crippling the RAF's ability to defend the nation. And it looked like Hitler's great British invasion was coming. But then, Churchill ordered a small, pretty insignificant bombing raid over Berlin. It didn't do much damage, but Hitler was furious, and he immediately ordered the Luftwaffe to refocus its attacks on civilian targets in London. Children were sent off to the countryside, away from their parents, to avoid danger. And frequent trips to air-raid shelters became a daily occurrence. But British morale held firm. Smiling, knitting, lounging casually, these people have balls of steel. This refocusing on London also gave the RAF breathing space to reorganise. So Hitler kind of shot himself in the foot there. Just the foot for now. Finally, the Luftwaffe sent one massive all-out attack on London, and the RAF successfully repelled it, destroying many of the German aircraft, and placing air superiority firmly in British hands. Hitler's invasion had to be postponed, but the bombing of British cities continued for some time.\",\n          \"Paul Davis has racked up a legion of online followers and plenty of breathless newspaper coverage by sharing her send reviews on modern feminism the New York Post called her the female Andrew Tate so she tapped into genuine female pushed back to the excesses of wokory where is she just an attention seeker we'll find out a moment but first let's take a look at the clip of sent her viral a lot of people think I'm insane because I don't think women should vote everybody thinks I'm crazy for this opinion if anything this is probably my most extreme opinion ninety percent of women have been on birth control one out of three women has had one out of three women has an STD average body count is over five so that your average wife has slept with over five people 95 percent of women are not virgins on their wedding days so I understand the complaint alongside political journalist Ava 17 he was nodding furiously along there to everything she heard right Paul you've become it would be called the female Andrew Tate how do you plead well I take it as a compliment you know I'm a fan of Andrew Tate of everything he says um it depends what we're talking about but overall I think he's got a good message I think he's good for young men okay look you're talking about women predominantly um which is why you've got this big following and your view is that modern feminism is deeply flawed I would argue a lot of your proposals like taking the vote away from them are deeply regressive why would you want to remove just from yourself the right to vote well um what happened was I I had the same view right um back when I started I was like why I found out that only five percent of women wanted the right to vote and I couldn't figure out like why would women not no it's true at the time it is they've been conditioned by men to think that they shouldn't have of that I mean that's what they say but you know I started reading their writings right and what I found out was that the reason a lot of women advocated for it was because they believed it was the beginning of the breakdown of the family you know before you became one in marriage 85 percent of people were married and you know I I hate to say it but they were right what has happened 100 years later what's like what to do with them having the vote well it also goes back to responsibility um again men are 80 to 90 percent of the military they run all of the infrastructures that make Society run so I just think if we want an equal say in society then be equal do 50 of the hard jobs be 50 of the military in the U.S um they're fine 250 000 if they are not they don't join uh Selective Service which is essentially the truth okay but on specifically on the vote what would having the right to vote have to do with family cohesion for example well because again before you weren't trying to divide a family it was one family unit you had one vote for the family I mean I I don't think it's good for a family to have two votes Ava your mouth seems to have dropped tomorrow I know it's a sort of a galaxy brain I feel like you know the stat state of putting down are perhaps correct in some years they just kind of don't really add up I mean just just to take you back to the to the women's writings that you've allegedly read I mean absolutely at the time that you're talking about you know women weren't really allowed to write they weren't allowed to go to school that's incorrect the first female property the first female property owner was in the 1600s the idea that women couldn't work I'm so excited no the first no no the first female the first female millionaire was in the uh late 1800s so no it wasn't it was self-made yes it was made yes yes what what law permitted that well there was no law I mean there's always been women let's get on to the vote so what I don't understand is you know a part of your message I've just you know I've researched you today and hang on a minute okay you know your big push is that you care about men and you don't think that men are getting enough of a say hang on I haven't made the point yet um because of feminism okay what I wonder is when you start making calls out like repeal the 19th women shouldn't be allowed to vote how is that helping young men because these young men have women in their lives they have mothers they have sisters they have teachers and they turn around they don't know how to act around women because you're giving them license to be misogynistic I wouldn't call it misogynistic I say be equal so again men do all the feminism well then okay I'd love for the feminists please apply for the oil rigs please go do the hard jobs in society they're open they're hiring because I don't equate for I I don't think men or women are equal until we do the equal work so no no listen listen go go apply to beyond the oil rigs go do go be a plumber go be electrician go be on the front lines of the military and then we should have equal rights but until feminists are willing to do that I don't believe believe we should have the freedom without the response okay well I don't think that I'm physically built for that you might be but I'm absolutely oh wow you said you were a volleyball player and so you've got more strength than I do I don't think I don't have more strength I don't have more strength than the average man but my again it goes back to go be a plumber you want to be equal go beat also but you don't want you want divorce to be made illegal yes why yes because I don't think what we have today is really marriage What is marriage it's For Better or For Worse for richer for poorer in sickness and in health till death do us part that's what marriage is supposed to be but feminists have ruined marriage for the people that actually believe in marriage when there is a 50 divorce rate and the average man why is that all done to the women though I I didn't say that it was all down to the women you asked why I want divorce to be banned can I finish yeah first so I'm saying you know the people that believe in divorce go be in long-term relationships leave marriage for the people that actually believe in For Better or For Worse for richer for poorer in sickness and in health till death do us part doesn't the sanctity of marriage also rely on the woman being a virgin so you wouldn't be able to get married I'm what do you what do you mean well you've spoken quite openly about how you're not a virgin and so if you want to preserve that sanctity of marriage upholding standards that you don't know you know and that's a fair that's a fair complaint I wish I was but you know we can't go back I don't know what you want me to say I just don't think yeah that you get to be here and you get to be paid for your views and you're telling other women that they shouldn't be allowed okay if I may at some stage jump in um isn't the whole point of being a feminist though that women are entitled to have their own views absolutely so she's perfectly entitled to her views yeah but you can't you might not like that but I'm here isn't she exercising her rights as a are you a feminist no I am not really no you know I wouldn't have done that part you don't want to be a feminist no because really believed in equality but you guys don't I would love for you there is an oil rig hiring there is an engineer I would actually love to see Ava seriously uh there is a building being built next to my building go do it feminists when you find the man you want to get married to are you saying you will literally you will be with that man whatever happens the rest of your life yes for for the values that we're supposed to live how do you know you can keep them I I mean look at I think it's a choice and that's the thing like women are so willing to leave marriages because they're not happy this is not about happiness the most important thing is the children and the problem is we have a modern society where it's me me my feelings leave when I feel like it instead of doing what's best for the kids Ava a little sight it's a little about listening to Andrew Tate where some of it I really don't agree with I don't agree with the vote stuff when I had things like that I think there'll be a lot of people especially older generation women perhaps who think you know what she's got a point well I mean I believe in agency so I think that if a woman is going to look after her children the intervals that's absolutely fine I also believe in your right to speak your mind about it what I don't understand I'd like just yes before in the 1920s women could speak openly at this idea that like women couldn't talk the last 500 years there have been women throughout the American States has been there have been women throughout history that have read written and been very influential in society okay so this idea like women can never do it what I don't understand though is when it gets spiteful okay because you put down a few arguments that I think are perfectly like you know they're kind of Evangelical in their Christian but those are your right to say what I don't understand is when it kind of seeps into this sort of you call women fat you say that they shouldn't have other questions you know I mean the question is are they fat yes or no the average American woman is 170 pound that's pounds that's objectively overwhelming I mean let's be honest we now celebrate morbid obesity as some kind of body positive thing and it is complete nonsense so actually on that point again there's a bit of Truth and this is the problem this is the problem have we come to celebrate morbid obesity is body positive well that's nonsense we're not talking about more believes I was actually watching your podcast earlier and you you spoke to someone who was I would say probably a size 12 and you called her it fat a beast and a divorce say she was fat obese and adorable I mean like I don't know what to say this is the thing women we don't want to live in reality we don't want to say things that are true was she fat yes was she a divorce say yes these things are just objective facts okay I'm gonna have to objectively she insulted me first they always I'm gonna have to objectively end the debate but it was an interesting conversation I think we should get you two back together as a matter of urgency uh thank you very much Bill thank you over\"\n        ],\n        \"semantic_type\": \"\",\n        \"description\": \"\"\n      }\n    },\n    {\n      \"column\": \"error\",\n      \"properties\": {\n        \"dtype\": \"number\",\n        \"std\": null,\n        \"min\": null,\n        \"max\": null,\n        \"num_unique_values\": 0,\n        \"samples\": [],\n        \"semantic_type\": \"\",\n        \"description\": \"\"\n      }\n    }\n  ]\n}"
            }
          },
          "metadata": {},
          "execution_count": 95
        }
      ]
    },
    {
      "cell_type": "code",
      "source": [
        "# missing data?\n",
        "df2.isna().sum()\n"
      ],
      "metadata": {
        "colab": {
          "base_uri": "https://localhost:8080/",
          "height": 195
        },
        "id": "TBGGboz0yCy8",
        "outputId": "ad991b77-f2d7-4ca5-c0ec-7d93f84b04c2"
      },
      "id": "TBGGboz0yCy8",
      "execution_count": 96,
      "outputs": [
        {
          "output_type": "stream",
          "name": "stdout",
          "text": [
            "Object `data` not found.\n"
          ]
        },
        {
          "output_type": "execute_result",
          "data": {
            "text/plain": [
              "﻿IDcode        0\n",
              "transcript     0\n",
              "error         25\n",
              "dtype: int64"
            ],
            "text/html": [
              "<div>\n",
              "<style scoped>\n",
              "    .dataframe tbody tr th:only-of-type {\n",
              "        vertical-align: middle;\n",
              "    }\n",
              "\n",
              "    .dataframe tbody tr th {\n",
              "        vertical-align: top;\n",
              "    }\n",
              "\n",
              "    .dataframe thead th {\n",
              "        text-align: right;\n",
              "    }\n",
              "</style>\n",
              "<table border=\"1\" class=\"dataframe\">\n",
              "  <thead>\n",
              "    <tr style=\"text-align: right;\">\n",
              "      <th></th>\n",
              "      <th>0</th>\n",
              "    </tr>\n",
              "  </thead>\n",
              "  <tbody>\n",
              "    <tr>\n",
              "      <th>﻿IDcode</th>\n",
              "      <td>0</td>\n",
              "    </tr>\n",
              "    <tr>\n",
              "      <th>transcript</th>\n",
              "      <td>0</td>\n",
              "    </tr>\n",
              "    <tr>\n",
              "      <th>error</th>\n",
              "      <td>25</td>\n",
              "    </tr>\n",
              "  </tbody>\n",
              "</table>\n",
              "</div><br><label><b>dtype:</b> int64</label>"
            ]
          },
          "metadata": {},
          "execution_count": 96
        }
      ]
    },
    {
      "cell_type": "code",
      "source": [
        "# let's look at the transcripts a bit\n",
        "\n",
        "# Length of each transcript\n",
        "df2[\"length\"] = df2[\"transcript\"].str.len()\n",
        "\n",
        "# Summary stats of lengths\n",
        "df2[\"length\"].describe()\n"
      ],
      "metadata": {
        "colab": {
          "base_uri": "https://localhost:8080/",
          "height": 335
        },
        "id": "g_Py2FupyJYP",
        "outputId": "fee1d8db-bf12-4850-cc36-17a8ae9b95fd"
      },
      "id": "g_Py2FupyJYP",
      "execution_count": 100,
      "outputs": [
        {
          "output_type": "execute_result",
          "data": {
            "text/plain": [
              "count       25.000000\n",
              "mean      9257.320000\n",
              "std       7070.656704\n",
              "min        119.000000\n",
              "25%       2653.000000\n",
              "50%       8978.000000\n",
              "75%      15288.000000\n",
              "max      22497.000000\n",
              "Name: length, dtype: float64"
            ],
            "text/html": [
              "<div>\n",
              "<style scoped>\n",
              "    .dataframe tbody tr th:only-of-type {\n",
              "        vertical-align: middle;\n",
              "    }\n",
              "\n",
              "    .dataframe tbody tr th {\n",
              "        vertical-align: top;\n",
              "    }\n",
              "\n",
              "    .dataframe thead th {\n",
              "        text-align: right;\n",
              "    }\n",
              "</style>\n",
              "<table border=\"1\" class=\"dataframe\">\n",
              "  <thead>\n",
              "    <tr style=\"text-align: right;\">\n",
              "      <th></th>\n",
              "      <th>length</th>\n",
              "    </tr>\n",
              "  </thead>\n",
              "  <tbody>\n",
              "    <tr>\n",
              "      <th>count</th>\n",
              "      <td>25.000000</td>\n",
              "    </tr>\n",
              "    <tr>\n",
              "      <th>mean</th>\n",
              "      <td>9257.320000</td>\n",
              "    </tr>\n",
              "    <tr>\n",
              "      <th>std</th>\n",
              "      <td>7070.656704</td>\n",
              "    </tr>\n",
              "    <tr>\n",
              "      <th>min</th>\n",
              "      <td>119.000000</td>\n",
              "    </tr>\n",
              "    <tr>\n",
              "      <th>25%</th>\n",
              "      <td>2653.000000</td>\n",
              "    </tr>\n",
              "    <tr>\n",
              "      <th>50%</th>\n",
              "      <td>8978.000000</td>\n",
              "    </tr>\n",
              "    <tr>\n",
              "      <th>75%</th>\n",
              "      <td>15288.000000</td>\n",
              "    </tr>\n",
              "    <tr>\n",
              "      <th>max</th>\n",
              "      <td>22497.000000</td>\n",
              "    </tr>\n",
              "  </tbody>\n",
              "</table>\n",
              "</div><br><label><b>dtype:</b> float64</label>"
            ]
          },
          "metadata": {},
          "execution_count": 100
        }
      ]
    },
    {
      "cell_type": "code",
      "source": [
        "# the longest?\n",
        "\n",
        "# Peek at longest transcript\n",
        "longest = df2.loc[df2[\"length\"].idxmax()]\n",
        "print(\"Longest transcript ID:\", longest[\"\\ufeffIDcode\"])\n",
        "print(\"Transcript snippet:\\n\", longest[\"transcript\"][:500])"
      ],
      "metadata": {
        "colab": {
          "base_uri": "https://localhost:8080/"
        },
        "id": "ItrMYtTfyiyt",
        "outputId": "51642c91-11ee-4b6b-8898-89608e51e35c"
      },
      "id": "ItrMYtTfyiyt",
      "execution_count": 101,
      "outputs": [
        {
          "output_type": "stream",
          "name": "stdout",
          "text": [
            "Longest transcript ID: XzbsCpiA5Q0\n",
            "Transcript snippet:\n",
            " Yes, sir. All right. Uh, is this thing on? Oh, I guess it is. All right. Uh, my name is Blake. [Music] [Applause] Freedom of speech. [Music] Why don't Come up. Come up to the mic. [Music] Come up to the mic. [Music] [Applause] Come on. Come on. Come up to the mic. No. Come on. Come up to the mic. USA. USA. USA. USA. USA. USA. Since you're so smart, show the world how smart you are. We'll give you our mic, not your bullhorn. So, come on up. So now we know that you're like a blatant narcissist tha\n"
          ]
        }
      ]
    },
    {
      "cell_type": "code",
      "source": [
        "# Most common words (very simple split)\n",
        "from collections import Counter\n",
        "\n",
        "all_words = \" \".join(df2[\"transcript\"].dropna()).split()\n",
        "Counter(all_words).most_common(20)\n"
      ],
      "metadata": {
        "colab": {
          "base_uri": "https://localhost:8080/"
        },
        "id": "WD8L_lpyyrkn",
        "outputId": "16918260-16b0-4748-8448-2ba507914b92"
      },
      "id": "WD8L_lpyyrkn",
      "execution_count": 102,
      "outputs": [
        {
          "output_type": "execute_result",
          "data": {
            "text/plain": [
              "[('the', 1708),\n",
              " ('to', 1157),\n",
              " ('of', 965),\n",
              " ('a', 961),\n",
              " ('and', 909),\n",
              " ('that', 738),\n",
              " ('you', 700),\n",
              " ('I', 624),\n",
              " ('in', 611),\n",
              " ('is', 556),\n",
              " ('it', 339),\n",
              " ('for', 324),\n",
              " ('have', 322),\n",
              " ('this', 312),\n",
              " ('are', 268),\n",
              " ('on', 260),\n",
              " ('they', 260),\n",
              " ('we', 254),\n",
              " ('like', 253),\n",
              " ('people', 249)]"
            ]
          },
          "metadata": {},
          "execution_count": 102
        }
      ]
    },
    {
      "cell_type": "code",
      "source": [
        "# cleanup\n",
        "import re\n",
        "from collections import Counter\n",
        "from nltk.corpus import stopwords\n",
        "\n",
        "# Download stopwords if needed\n",
        "import nltk\n",
        "nltk.download(\"stopwords\")\n",
        "\n",
        "extra_stops = {\"uh\", \"um\", \"yeah\", \"like\", \"youre\", \"im\", \"dont\", \"thats\", \"well\"}\n",
        "stop_words = set(stopwords.words(\"english\")).union(extra_stops)\n",
        "\n",
        "\n",
        "# Join all transcripts into one text\n",
        "all_text = \" \".join(df2[\"transcript\"].dropna()).lower()\n",
        "\n",
        "# Remove punctuation & non-letters\n",
        "all_text = re.sub(r\"[^a-z\\s]\", \"\", all_text)\n",
        "\n",
        "# Split into words\n",
        "words = all_text.split()\n",
        "\n",
        "# Remove stopwords\n",
        "words = [w for w in words if w not in stop_words]\n",
        "\n",
        "# Count frequencies\n",
        "freq = Counter(words).most_common(20)\n",
        "freq\n"
      ],
      "metadata": {
        "colab": {
          "base_uri": "https://localhost:8080/"
        },
        "id": "ey63HNB8yzgv",
        "outputId": "1be99d7a-c6da-4beb-bdb0-49ff6e3774d5"
      },
      "id": "ey63HNB8yzgv",
      "execution_count": 104,
      "outputs": [
        {
          "output_type": "stream",
          "name": "stderr",
          "text": [
            "[nltk_data] Downloading package stopwords to /root/nltk_data...\n",
            "[nltk_data]   Package stopwords is already up-to-date!\n"
          ]
        },
        {
          "output_type": "execute_result",
          "data": {
            "text/plain": [
              "[('people', 295),\n",
              " ('know', 182),\n",
              " ('think', 132),\n",
              " ('want', 132),\n",
              " ('would', 116),\n",
              " ('right', 111),\n",
              " ('one', 106),\n",
              " ('say', 104),\n",
              " ('going', 97),\n",
              " ('get', 95),\n",
              " ('theyre', 89),\n",
              " ('go', 84),\n",
              " ('even', 82),\n",
              " ('country', 75),\n",
              " ('okay', 72),\n",
              " ('see', 69),\n",
              " ('make', 69),\n",
              " ('really', 68),\n",
              " ('come', 68),\n",
              " ('us', 68)]"
            ]
          },
          "metadata": {},
          "execution_count": 104
        }
      ]
    },
    {
      "cell_type": "code",
      "source": [
        "# word pairs?\n",
        "from collections import Counter\n",
        "from nltk.util import ngrams\n",
        "\n",
        "bigrams = Counter(ngrams(words, 2)).most_common(20)\n",
        "bigrams\n"
      ],
      "metadata": {
        "colab": {
          "base_uri": "https://localhost:8080/"
        },
        "id": "nk30-A_QzZSF",
        "outputId": "e7e23684-dedd-45e6-ecc7-972069d2d8aa"
      },
      "id": "nk30-A_QzZSF",
      "execution_count": 106,
      "outputs": [
        {
          "output_type": "execute_result",
          "data": {
            "text/plain": [
              "[(('star', 'wars'), 18),\n",
              " (('lot', 'people'), 16),\n",
              " (('united', 'states'), 15),\n",
              " (('would', 'say'), 14),\n",
              " (('charlie', 'kirk'), 13),\n",
              " (('thank', 'much'), 11),\n",
              " (('free', 'speech'), 11),\n",
              " (('little', 'bit'), 10),\n",
              " (('make', 'sure'), 10),\n",
              " (('people', 'come'), 10),\n",
              " (('illegal', 'immigrants'), 10),\n",
              " (('many', 'people'), 9),\n",
              " (('want', 'say'), 9),\n",
              " (('want', 'want'), 9),\n",
              " (('cyber', 'ghostvpn'), 9),\n",
              " (('political', 'violence'), 9),\n",
              " (('youve', 'got'), 8),\n",
              " (('know', 'know'), 8),\n",
              " (('law', 'enforcement'), 8),\n",
              " (('take', 'us'), 8)]"
            ]
          },
          "metadata": {},
          "execution_count": 106
        }
      ]
    },
    {
      "cell_type": "markdown",
      "source": [
        "### Let's try to look if we can extract migration topics/vids"
      ],
      "metadata": {
        "id": "x121aXLuznMb"
      },
      "id": "x121aXLuznMb"
    },
    {
      "cell_type": "code",
      "source": [
        "# Define migration keywords\n",
        "migration_keywords = [\n",
        "    \"migration\", \"immigration\", \"migrant\", \"immigrant\",\n",
        "    \"refugee\", \"asylum\", \"border\", \"deport\", \"visa\",\n",
        "    \"citizenship\", \"undocumented\", \"illegal\"\n",
        "]\n",
        "\n",
        "# Check transcripts for these words\n",
        "# Lowercase transcripts for matching\n",
        "df2[\"transcript_lower\"] = df2[\"transcript\"].str.lower()\n",
        "\n",
        "# Flag if any keyword is in the transcript\n",
        "df2[\"mentions_migration\"] = df2[\"transcript_lower\"].apply(\n",
        "    lambda x: any(kw in x for kw in migration_keywords)\n",
        ")\n",
        "\n",
        "# Count how many transcripts mention migration\n",
        "df2[\"mentions_migration\"].value_counts()\n",
        "\n"
      ],
      "metadata": {
        "colab": {
          "base_uri": "https://localhost:8080/",
          "height": 178
        },
        "id": "bZioplD6zs_E",
        "outputId": "9e300561-df36-4647-bb9a-35da58252b85"
      },
      "id": "bZioplD6zs_E",
      "execution_count": 107,
      "outputs": [
        {
          "output_type": "execute_result",
          "data": {
            "text/plain": [
              "mentions_migration\n",
              "True     13\n",
              "False    12\n",
              "Name: count, dtype: int64"
            ],
            "text/html": [
              "<div>\n",
              "<style scoped>\n",
              "    .dataframe tbody tr th:only-of-type {\n",
              "        vertical-align: middle;\n",
              "    }\n",
              "\n",
              "    .dataframe tbody tr th {\n",
              "        vertical-align: top;\n",
              "    }\n",
              "\n",
              "    .dataframe thead th {\n",
              "        text-align: right;\n",
              "    }\n",
              "</style>\n",
              "<table border=\"1\" class=\"dataframe\">\n",
              "  <thead>\n",
              "    <tr style=\"text-align: right;\">\n",
              "      <th></th>\n",
              "      <th>count</th>\n",
              "    </tr>\n",
              "    <tr>\n",
              "      <th>mentions_migration</th>\n",
              "      <th></th>\n",
              "    </tr>\n",
              "  </thead>\n",
              "  <tbody>\n",
              "    <tr>\n",
              "      <th>True</th>\n",
              "      <td>13</td>\n",
              "    </tr>\n",
              "    <tr>\n",
              "      <th>False</th>\n",
              "      <td>12</td>\n",
              "    </tr>\n",
              "  </tbody>\n",
              "</table>\n",
              "</div><br><label><b>dtype:</b> int64</label>"
            ]
          },
          "metadata": {},
          "execution_count": 107
        }
      ]
    },
    {
      "cell_type": "code",
      "source": [
        "# Filter relevant transcripts\n",
        "migration_transcripts = df2[df2[\"mentions_migration\"]]\n",
        "migration_transcripts[[\"\\ufeffIDcode\", \"transcript\"]].head()"
      ],
      "metadata": {
        "colab": {
          "base_uri": "https://localhost:8080/",
          "height": 5896
        },
        "collapsed": true,
        "id": "vxpjbZ2dz9Hz",
        "outputId": "b817c119-849e-4495-e319-85609efbfac6"
      },
      "id": "vxpjbZ2dz9Hz",
      "execution_count": 109,
      "outputs": [
        {
          "output_type": "execute_result",
          "data": {
            "text/plain": [
              "        ﻿IDcode                                         transcript\n",
              "2   9YDzf5E6PRU  Hello and no ones. Welcome back to my channel....\n",
              "4   pIxkM7O-CrA  um which is obviously a very relevant and and ...\n",
              "5   jV5V8MrdfJ0  the Joe Rogan experience. That's the thing. Th...\n",
              "9   G5FHblETFJw  on the Irish. We're going to get our country b...\n",
              "10  giaj8hUanow  Are you ready? People are traveling from all o..."
            ],
            "text/html": [
              "\n",
              "  <div id=\"df-82f13464-60f8-4280-a139-6eb2aa6cdcc3\" class=\"colab-df-container\">\n",
              "    <div>\n",
              "<style scoped>\n",
              "    .dataframe tbody tr th:only-of-type {\n",
              "        vertical-align: middle;\n",
              "    }\n",
              "\n",
              "    .dataframe tbody tr th {\n",
              "        vertical-align: top;\n",
              "    }\n",
              "\n",
              "    .dataframe thead th {\n",
              "        text-align: right;\n",
              "    }\n",
              "</style>\n",
              "<table border=\"1\" class=\"dataframe\">\n",
              "  <thead>\n",
              "    <tr style=\"text-align: right;\">\n",
              "      <th></th>\n",
              "      <th>﻿IDcode</th>\n",
              "      <th>transcript</th>\n",
              "    </tr>\n",
              "  </thead>\n",
              "  <tbody>\n",
              "    <tr>\n",
              "      <th>2</th>\n",
              "      <td>9YDzf5E6PRU</td>\n",
              "      <td>Hello and no ones. Welcome back to my channel....</td>\n",
              "    </tr>\n",
              "    <tr>\n",
              "      <th>4</th>\n",
              "      <td>pIxkM7O-CrA</td>\n",
              "      <td>um which is obviously a very relevant and and ...</td>\n",
              "    </tr>\n",
              "    <tr>\n",
              "      <th>5</th>\n",
              "      <td>jV5V8MrdfJ0</td>\n",
              "      <td>the Joe Rogan experience. That's the thing. Th...</td>\n",
              "    </tr>\n",
              "    <tr>\n",
              "      <th>9</th>\n",
              "      <td>G5FHblETFJw</td>\n",
              "      <td>on the Irish. We're going to get our country b...</td>\n",
              "    </tr>\n",
              "    <tr>\n",
              "      <th>10</th>\n",
              "      <td>giaj8hUanow</td>\n",
              "      <td>Are you ready? People are traveling from all o...</td>\n",
              "    </tr>\n",
              "  </tbody>\n",
              "</table>\n",
              "</div>\n",
              "    <div class=\"colab-df-buttons\">\n",
              "\n",
              "  <div class=\"colab-df-container\">\n",
              "    <button class=\"colab-df-convert\" onclick=\"convertToInteractive('df-82f13464-60f8-4280-a139-6eb2aa6cdcc3')\"\n",
              "            title=\"Convert this dataframe to an interactive table.\"\n",
              "            style=\"display:none;\">\n",
              "\n",
              "  <svg xmlns=\"http://www.w3.org/2000/svg\" height=\"24px\" viewBox=\"0 -960 960 960\">\n",
              "    <path d=\"M120-120v-720h720v720H120Zm60-500h600v-160H180v160Zm220 220h160v-160H400v160Zm0 220h160v-160H400v160ZM180-400h160v-160H180v160Zm440 0h160v-160H620v160ZM180-180h160v-160H180v160Zm440 0h160v-160H620v160Z\"/>\n",
              "  </svg>\n",
              "    </button>\n",
              "\n",
              "  <style>\n",
              "    .colab-df-container {\n",
              "      display:flex;\n",
              "      gap: 12px;\n",
              "    }\n",
              "\n",
              "    .colab-df-convert {\n",
              "      background-color: #E8F0FE;\n",
              "      border: none;\n",
              "      border-radius: 50%;\n",
              "      cursor: pointer;\n",
              "      display: none;\n",
              "      fill: #1967D2;\n",
              "      height: 32px;\n",
              "      padding: 0 0 0 0;\n",
              "      width: 32px;\n",
              "    }\n",
              "\n",
              "    .colab-df-convert:hover {\n",
              "      background-color: #E2EBFA;\n",
              "      box-shadow: 0px 1px 2px rgba(60, 64, 67, 0.3), 0px 1px 3px 1px rgba(60, 64, 67, 0.15);\n",
              "      fill: #174EA6;\n",
              "    }\n",
              "\n",
              "    .colab-df-buttons div {\n",
              "      margin-bottom: 4px;\n",
              "    }\n",
              "\n",
              "    [theme=dark] .colab-df-convert {\n",
              "      background-color: #3B4455;\n",
              "      fill: #D2E3FC;\n",
              "    }\n",
              "\n",
              "    [theme=dark] .colab-df-convert:hover {\n",
              "      background-color: #434B5C;\n",
              "      box-shadow: 0px 1px 3px 1px rgba(0, 0, 0, 0.15);\n",
              "      filter: drop-shadow(0px 1px 2px rgba(0, 0, 0, 0.3));\n",
              "      fill: #FFFFFF;\n",
              "    }\n",
              "  </style>\n",
              "\n",
              "    <script>\n",
              "      const buttonEl =\n",
              "        document.querySelector('#df-82f13464-60f8-4280-a139-6eb2aa6cdcc3 button.colab-df-convert');\n",
              "      buttonEl.style.display =\n",
              "        google.colab.kernel.accessAllowed ? 'block' : 'none';\n",
              "\n",
              "      async function convertToInteractive(key) {\n",
              "        const element = document.querySelector('#df-82f13464-60f8-4280-a139-6eb2aa6cdcc3');\n",
              "        const dataTable =\n",
              "          await google.colab.kernel.invokeFunction('convertToInteractive',\n",
              "                                                    [key], {});\n",
              "        if (!dataTable) return;\n",
              "\n",
              "        const docLinkHtml = 'Like what you see? Visit the ' +\n",
              "          '<a target=\"_blank\" href=https://colab.research.google.com/notebooks/data_table.ipynb>data table notebook</a>'\n",
              "          + ' to learn more about interactive tables.';\n",
              "        element.innerHTML = '';\n",
              "        dataTable['output_type'] = 'display_data';\n",
              "        await google.colab.output.renderOutput(dataTable, element);\n",
              "        const docLink = document.createElement('div');\n",
              "        docLink.innerHTML = docLinkHtml;\n",
              "        element.appendChild(docLink);\n",
              "      }\n",
              "    </script>\n",
              "  </div>\n",
              "\n",
              "\n",
              "    <div id=\"df-11600b34-8de3-439e-90f3-f66b1c91413c\">\n",
              "      <button class=\"colab-df-quickchart\" onclick=\"quickchart('df-11600b34-8de3-439e-90f3-f66b1c91413c')\"\n",
              "                title=\"Suggest charts\"\n",
              "                style=\"display:none;\">\n",
              "\n",
              "<svg xmlns=\"http://www.w3.org/2000/svg\" height=\"24px\"viewBox=\"0 0 24 24\"\n",
              "     width=\"24px\">\n",
              "    <g>\n",
              "        <path d=\"M19 3H5c-1.1 0-2 .9-2 2v14c0 1.1.9 2 2 2h14c1.1 0 2-.9 2-2V5c0-1.1-.9-2-2-2zM9 17H7v-7h2v7zm4 0h-2V7h2v10zm4 0h-2v-4h2v4z\"/>\n",
              "    </g>\n",
              "</svg>\n",
              "      </button>\n",
              "\n",
              "<style>\n",
              "  .colab-df-quickchart {\n",
              "      --bg-color: #E8F0FE;\n",
              "      --fill-color: #1967D2;\n",
              "      --hover-bg-color: #E2EBFA;\n",
              "      --hover-fill-color: #174EA6;\n",
              "      --disabled-fill-color: #AAA;\n",
              "      --disabled-bg-color: #DDD;\n",
              "  }\n",
              "\n",
              "  [theme=dark] .colab-df-quickchart {\n",
              "      --bg-color: #3B4455;\n",
              "      --fill-color: #D2E3FC;\n",
              "      --hover-bg-color: #434B5C;\n",
              "      --hover-fill-color: #FFFFFF;\n",
              "      --disabled-bg-color: #3B4455;\n",
              "      --disabled-fill-color: #666;\n",
              "  }\n",
              "\n",
              "  .colab-df-quickchart {\n",
              "    background-color: var(--bg-color);\n",
              "    border: none;\n",
              "    border-radius: 50%;\n",
              "    cursor: pointer;\n",
              "    display: none;\n",
              "    fill: var(--fill-color);\n",
              "    height: 32px;\n",
              "    padding: 0;\n",
              "    width: 32px;\n",
              "  }\n",
              "\n",
              "  .colab-df-quickchart:hover {\n",
              "    background-color: var(--hover-bg-color);\n",
              "    box-shadow: 0 1px 2px rgba(60, 64, 67, 0.3), 0 1px 3px 1px rgba(60, 64, 67, 0.15);\n",
              "    fill: var(--button-hover-fill-color);\n",
              "  }\n",
              "\n",
              "  .colab-df-quickchart-complete:disabled,\n",
              "  .colab-df-quickchart-complete:disabled:hover {\n",
              "    background-color: var(--disabled-bg-color);\n",
              "    fill: var(--disabled-fill-color);\n",
              "    box-shadow: none;\n",
              "  }\n",
              "\n",
              "  .colab-df-spinner {\n",
              "    border: 2px solid var(--fill-color);\n",
              "    border-color: transparent;\n",
              "    border-bottom-color: var(--fill-color);\n",
              "    animation:\n",
              "      spin 1s steps(1) infinite;\n",
              "  }\n",
              "\n",
              "  @keyframes spin {\n",
              "    0% {\n",
              "      border-color: transparent;\n",
              "      border-bottom-color: var(--fill-color);\n",
              "      border-left-color: var(--fill-color);\n",
              "    }\n",
              "    20% {\n",
              "      border-color: transparent;\n",
              "      border-left-color: var(--fill-color);\n",
              "      border-top-color: var(--fill-color);\n",
              "    }\n",
              "    30% {\n",
              "      border-color: transparent;\n",
              "      border-left-color: var(--fill-color);\n",
              "      border-top-color: var(--fill-color);\n",
              "      border-right-color: var(--fill-color);\n",
              "    }\n",
              "    40% {\n",
              "      border-color: transparent;\n",
              "      border-right-color: var(--fill-color);\n",
              "      border-top-color: var(--fill-color);\n",
              "    }\n",
              "    60% {\n",
              "      border-color: transparent;\n",
              "      border-right-color: var(--fill-color);\n",
              "    }\n",
              "    80% {\n",
              "      border-color: transparent;\n",
              "      border-right-color: var(--fill-color);\n",
              "      border-bottom-color: var(--fill-color);\n",
              "    }\n",
              "    90% {\n",
              "      border-color: transparent;\n",
              "      border-bottom-color: var(--fill-color);\n",
              "    }\n",
              "  }\n",
              "</style>\n",
              "\n",
              "      <script>\n",
              "        async function quickchart(key) {\n",
              "          const quickchartButtonEl =\n",
              "            document.querySelector('#' + key + ' button');\n",
              "          quickchartButtonEl.disabled = true;  // To prevent multiple clicks.\n",
              "          quickchartButtonEl.classList.add('colab-df-spinner');\n",
              "          try {\n",
              "            const charts = await google.colab.kernel.invokeFunction(\n",
              "                'suggestCharts', [key], {});\n",
              "          } catch (error) {\n",
              "            console.error('Error during call to suggestCharts:', error);\n",
              "          }\n",
              "          quickchartButtonEl.classList.remove('colab-df-spinner');\n",
              "          quickchartButtonEl.classList.add('colab-df-quickchart-complete');\n",
              "        }\n",
              "        (() => {\n",
              "          let quickchartButtonEl =\n",
              "            document.querySelector('#df-11600b34-8de3-439e-90f3-f66b1c91413c button');\n",
              "          quickchartButtonEl.style.display =\n",
              "            google.colab.kernel.accessAllowed ? 'block' : 'none';\n",
              "        })();\n",
              "      </script>\n",
              "    </div>\n",
              "\n",
              "    </div>\n",
              "  </div>\n"
            ],
            "application/vnd.google.colaboratory.intrinsic+json": {
              "type": "dataframe",
              "summary": "{\n  \"name\": \"migration_transcripts[[\\\"\\\\ufeffIDcode\\\", \\\"transcript\\\"]]\",\n  \"rows\": 5,\n  \"fields\": [\n    {\n      \"column\": \"\\ufeffIDcode\",\n      \"properties\": {\n        \"dtype\": \"string\",\n        \"num_unique_values\": 5,\n        \"samples\": [\n          \"pIxkM7O-CrA\",\n          \"giaj8hUanow\",\n          \"jV5V8MrdfJ0\"\n        ],\n        \"semantic_type\": \"\",\n        \"description\": \"\"\n      }\n    },\n    {\n      \"column\": \"transcript\",\n      \"properties\": {\n        \"dtype\": \"string\",\n        \"num_unique_values\": 5,\n        \"samples\": [\n          \"um which is obviously a very relevant and and heavyhitting topic. Um but that's why we found it important to to talk about now and share a little bit about our >> Trump's America now, boy. It >> sure is. [Music] >> I woke up and checked Twitter to see post about a migrant simulator game. I giggled to myself with a villainous glee. Daddy's eating good today. I cried out loud in a fit of trollish delight. Then Nasmin Gold did a video on it hours later. Whatever. The usual, right? But this time, the devs were stricken with a level of fear I've never seen before. They sounded the horn of Gondor as the Asminites descended upon them like Locust, leading to the developers removing all of their social media content from the internet. Gamescom freaked out so hard they deleted the entire 8hour live streamed event for a 10 to 20 minute segment that Asmin Gold covered. Good lord. Hey, Jeff Keley. Why did you make the Gamescom Congress video private? Were you ashamed of being caught promoting the propaganda of an illegal immigrant simulator? >> I don't think Jeff Keley cares about anything. I wouldn't be surprised if Jeff Key wakes up and does a bump of coke before he starts his day. >> Stop him. >> Anyway, did Asmin Gold's coverage scare you? I'll be covering this tonight on my live stream event. No, it's double trouble. Asmin Gold, Vince, Smash JT, When will the horror end? >> The presentation for the game didn't even show the game at all. Actually, it was 20 minutes of a TED talks. At one point, I can't even remember this chick's name. She calls the trash migrants leave over on the Oregon Trail of illegally crossing the border. Artifacts. Just play the clip. >> Could see artifacts that were left in the desert by by migrants on a recent trip that I um on the border. >> What do you mean? found um artifacts that migrants had left behind. So they're still doing this to this day. >> Artifacts. >> These disregarded cantens were the equivalent of Ming Dynasty porcelain plates, my dude. That's when I pulled the rip cord, turned off the video. >> Can't do it. I can't take this [\\u00a0__\\u00a0] no more, man. >> Yeah. >> Um Okay. Do I have Okay, I'm running out of time. There's the trailer. Uh >> okay, let's see the trailer. >> We won't we won't do the trailer. Sorry. >> It's hilarious. Um, okay. I'm done. That was That was it. These are Yeah. QR code. Thank you, >> stupid [\\u00a0__\\u00a0] Let's get out of here. She's a stupid [\\u00a0__\\u00a0] >> Carla Reyes deported herself off of the internet after these events unfolded. But it was already too late. Nison started looking into her career. She was on the Forbes 30 under 30, something she was very proud of. In fact, >> a Forbes 30 under 30 fellow and a world economic forum global shaper with diverse experience in the media and gaming's industry. She is dedicated to creating socially conscious interactive media with positive cultural impact impact. She is also involved in environmental and social impact initiatives the entertainment sector. Carla is a driving force at Code Coven, the first global games industry accelerator, where she has raised substantial funding, established critical partnerships, and co-created programs that promote diversity and inclusion in the gaming world. >> I have a feeling that she got a lot of her money from donations. >> Anyway, her focus is what you'd expect from someone with luxury beliefs. The constant need to virtue signal through the medium of games and activist gaming or activist art. These are actually phrases. A nightmare concept thought up by the most pretentious individuals on earth. The most privileged, my dude. >> Luxury beliefs are ideas and opinions that confer status on the upper classes while inflicting costs on the less fortunate. A 100 years ago, you could immediately tell who was rich and who was poor. We've generally become a more wealthy society. Now, luxury beliefs have to a large extent replaced luxury goods. These are expressions of cultural capital. So if the conventional view is it's good to have law enforcement, well if you want to indicate that you're not a member of the unwashed masses, you say actually we should abolish police and reimagine how law enforcement works. >> We need to reimag how we are creating safety. >> The believer is sheltered from the consequences of his or her belief. >> It is the best because they pulled out all the stops for the games. These two posts are just to show some small connection. says, \\\"Oh my god, I I'd have to read you a literal Bible of minutia, my guy, for you to kind of connect the insane dots that involve this. This is h we're just going to read what I found cuz I'm lazy. I'm not going through this and this is not artistic detail. Thank you Dean Dashi and Games Beat for opportunity to participate in a panel alongside some fiercely talented women in the gaming industry and the role models of mine at this year's Gamescom Summit in Los Angeles on May 21st. The panel will focus on exploring ways our industry can continue to drive real world positive change and impact. With all the tumult that the entertainment sectors have fa tumult does she mean tumultuous have faced recently. It is critical along the opportune time for artists and advocates to support each other and take collective action to pave a brighter future. We need it now more than ever. Recent news about the open letter to Hollywood urging support of values based on storytelling reaction to the closure of the participants cooperates to this particularly media has been a source of inspiration for the work in anime interview. I don't care about this. I don't care. >> Women in gaming breakfast. How gaming is driving positive global change. Yes. Yes. Queen. Global change. >> Yes. Yes. >> Blockchain game proponents, detractors, and everyone in between. What questions do you have about the environmental, economic, social, sustainability, and blockchain game ecosystem? This is rapidly proliferating space. So, let's figure out how to build it ethically. Get started with blockchain gaming and build a blockchain track. >> What is this? It sounds like I'm being sold cryptocurrency. >> What up, Dingdong Telegram? It's me, Logan Paul. Now, I know what you're thinking. Logan, what the you doing here? I'm doing the same thing as you. Holding my doink. That's what I'm doing. This is a [\\u00a0__\\u00a0] coin I believe in. I know you guys have been busting your ass to make sure that the hottest newest coin of 2021 is dink. >> Co-founder of Square Enix Red, an employee resource group at Square Enix, dedicated to racial and ethical diversity initiatives, as well as founding team members of Code Coven, an award-winning global games industry community that accelerator for under represented talent passionate about harnessing the power of games for social impact. Listen, she had connections out the wazoo. She worked with Visa. She had fluff pieces from GameB. She had a panel hosted by Kevin Smith about financial freedom, giving me Jake Paul 2019 energy. As stated in her now scrubbed LinkedIn, she was a project manager for multiple game companies when most developers can't even hold a job at one. I don't understand what's going on here. >> Help me. Master of the TDS pointed out that Carla was linked to Sweet Baby Inc. in some way. I have known this for quite some time as you could see from my comment on her post. Take Us North is also a game on my SBI involvement Suspect Licks. I'm excited to share news about a project in our teamma creates has been pouring our hearts and minds into this year. Take Us North follows the protagonist journeys of migrants and asylum seekers on their way to cross the US Mexican border. Learn more. Talk about fun. Nobody replied to this except Masters of the TD. Okay, there's five people. >> Hello. I was wondering if we could ask you some questions about the company you used to work for called Wings Interactive. >> Immediately, she ignored the dude because she's like, \\\"Oh, no, no, no, no. Don't ask. You're supposed to ask me what it's like to be a migrant, you idiot.\\\" >> Ultimately, I didn't care much. They were making their own game. But to run and hide the minute your game gets massive free exposure seems strange to me. Like, this is exactly what these companies want. this sort of PR is what they dream of. And once you start connecting the dots with her, and believe me, there are way too many. It seems like they're part of some big club that has all these doors open to him. It's incestuous in vain. It's all about this weird activism that I'm pretty sure survives mainly off of grants from major organizations, companies, and maybe the WF or whatever the hell it's called. Microsoft's Xbox poured money into it and Clever Endeavor games poured money into it. >> And conveniently, Clever Endeavor is also the bankroll behind Wing's 2025 Elevate program. >> Wings wanted to fund more games that get peak numbers in the hundreds of players, but somehow are deserving of up to $500,000 in project funding. >> Can you say money laundering? So, let's spell it out. Microsoft bankrolls it. Clever Endeavor bankroll rolls it. Wings endorses it. And Wings, as we've proven, is glued to Sweet Baby, Inc. by having Kim Belair as a former board member. >> And I've also been on the advisory board of a few funding bodies, including the Wings Fund, which specializes in grants for women and marginalized people working in games and funding projects um that come to us through there. That's not coincidence. That's a pipeline. >> A pipeline pumping rot. And it would be almost funny if it wasn't so grotesque. Because the more you exume, the more you realize this thing was buried for a reason. >> No, you didn't hear Raven incorrectly. Take Us North didn't just get money. It got paraded on the global stage. as in the United Nations stage just nine months ago as a demo codenamed the American dream. >> While there's no evidence that Sweet Baby Inc. is directly working on Take Us North, their influence with Wings ties them indirectly to the project. Clever Endeavor Games is another studio reportedly invested in Take us Northf while also facing while also financing Wings 2005 Elevate program which funneled money towards activist driven project. Microsoft gave anima interactive corporate legitimacy pushing take us north into the mainstream. The United Nations perhaps the most shocking revelation Gothic Therapy reported on Take us North was showcased at the United Nations under the code name American Dream just 9 months ago. A game simulating illegal border crossing had not only corporate but also global institutional support. I think they scrubbed everything because there was something they didn't want us to know or see. Asmin Gold did this group of people a favor. He glanced at it, called it propaganda, and moved on. While more diligent content creators quickly noticed that there was far more play here than just a woke game. But now we won't fully know where all this leads back to. At least not for the time being. Frankly, as David Lee Roth once said in the song Mean Streets, \\\"Now what you think is nothing might be something after all.\",\n          \"Are you ready? People are traveling from all over the world. From every corner of Britain. Where you get on the train, you're going to see flags, you're going to see smiles, families. Where are you heading to? You're heading to Black Fry Station, please. Okay. Get to Black Fries, just so you know. So, even coming from Luton, it goes to King's Cross. Usually go straight to Black Fries, but this Saturday, you can't. So, you'll get on the underground, London Underground, but the station you're all heading for is Black Fries. The reason being that if you come to Black Fries, you can cross over the bridge. Got to come out of the station straight over the bridge and on your right is Stanford Street. Forget it every time. Stanford Street. Okay, that's the must point. The point being that the front of it, if you were coming from other stations, if say you were coming from Waterloo like originally, you're at the wrong end. So, you'd have to take a massive detour all the way round to come back in the right end. Now, in our agreements with the police, we have conditions on this demonstration. They're conditions that we have asked for that we have worked with them for. The conditions are you can have to muster on Stanford Street. That means if 500 of you or a thousand of you started mustering in other areas of London, the police would be saying please make your way to Stanford Street. The reason being we don't want crowds coming from all different directions. We want to make sure that our supporters are safe. We make want to make sure we agree we we stick to what we've agreed with the police. You've seen the last four events. They've all been brilliant, peaceful, wonderful events. That's cuz you, the supporters, have stuck to what we've agreed with the police force. We will muster from 11:00. Get there earlier. It's going to be a party carnival atmosphere. It's going to be beautiful. Then you'll start at Stanford Street. We will leave at 100 p.m. The march will start. The march will start at 1:00 p.m. We'll head all the way down along the river. You'll then go over Westminster Bridge where you'll then take a right into White Hall just by Parliament Square. You won't be able to go to left to Parliament Square. We don't want you going to Parliament Square. It's a right turn. and just follow the crowd, follow the stewards. As you go up White Hall, you'll then head up where you'll see stage after stage and screen after screen. And then you will get to the end one which is by Horses Guard just up past Ki Lama's front door. That is the start of the demonstration, the start of the event. It is a festival. Lots of music, lots of singing, lots of performances, lots of great speeches from politicians, from activists, from free speech activists, from some of the best free speech fighters in the world are coming to London to talk to you, the British public. The stage is set. It's in our capital. Okay? The battleground has been chosen and it's London. That's the battleground for free speech. Okay? And it's where we're going to send a defiant message to the establishment, to the government, to the globalists around the world. We are unifying people against you. Your days are numbered. People are rising. The revolution has started. Be part of it. Behave. All right. This is to you lads. Okay. To the fiery one in the group, which was usually me out of my group of mates. Keep them in place. Okay? Make sure they don't get out of hand. Make sure, look, lads, no one has to drink too much. Come and have a good time. And if you see people stepping out of line, don't get too aggressive with them. Just speak to them. Remind them why they're there. Remind them the purpose of the event. Families, the world is watching us. We don't want to let anyone down. If if you misbehave, you're letting your country down. You're letting your family down. We can. Do you know what they want? The elite, the establishment, the media, they want to see us fail. I want to walk away at the end of that event tomorrow afternoon saying, \\\"We did it, okay? And it's just a start. Be there.\\\" Tommy Robinson, the polarizing activist whose name has become synonymous with controversy in Britain, issued a call to action this week ahead of a parade set to draw international attention. In a carefully choreographed announcement, Robinson urged his supporters to converge on London's Black Fryer station, painting a picture of families waving flags and an atmosphere of unity, even as critics warn of division and unrest. Robinson's message was less about rhetoric and more about logistics. He gave precise directions to followers traveling from across the UK and beyond, emphasizing Black Friars as the designated muster point. The instructions weren't random. They reflected agreements negotiated with London's Metropolitan Police. By guiding attendees through Black Friars and across the bridge to Stamford Street, Robinson sought to create not only order but also visibility. A crowd crossing a central London Bridge, flags in hand, is not just a gathering. It is a statement. Perhaps most striking was Robinson's acknowledgement of coordination with law enforcement. We have conditions on this demonstration, he said, noting they were conditions his team requested and accepted. For a man whose clashes with police have defined much of his public image, the language of cooperation was noteworthy. Yet, critics see this as part of Robinson's evolving strategy, casting himself as both a victim of establishment overreach and a figure who can still negotiate terms with the state. For his supporters, it's proof he is serious about legitimacy. For detractors, it's a calculated performance to avoid bans and arrests. Robinson boasted that people were traveling from all over the world to attend. That claim, while difficult to verify, underscores the international reach of his movement, amplified through social media networks that transcend borders, but the local impact cannot be ignored. London has long been a flash point for demonstrations tied to Robinson, with critics arguing his events inflame community tensions, especially around issues of race, immigration, and policing. The parade, however, symbolic, is another test of Robinson's relevance in Britain's fractious political landscape. Once considered a fringe agitator, he has repeatedly proven his ability to mobilize large groups and dominate headlines. His critics argue that this is less about free speech and more about stoking resentment. His supporters counter that he is giving voice to frustrations ignored by mainstream politicians. With Britain still navigating deep cultural and political divisions. From Brexit's aftermath to debates on national identity, Robinson's parade is more than a logistical challenge. It is a reminder that populist movements, even when out of electoral politics, continue to shape the country's public discourse. As the parade approaches, all eyes will be on Black Fryer Station. Will Robinson's demonstration unfold as a peaceful show of solidarity, as he promises, or will it spiral into the scenes of confrontation his critics predict? One thing is certain, Tommy Robinson, love him or loathe him, remains a figure Britain cannot ignore. His call to black friars is not just about a march. It is about testing the boundaries of protest, politics, and the public square in modern Britain. Charities get given very lucrative deals by the home office to actually do that kind of legal support throughout the case of an individual. you know, when when when we do actually see individuals appealing rejections in asylum cases, when it comes to those tribunals, you know, there a 75% 60% sort of upholding of the asylum seekers case. So, this is an incredibly penicious problem that does almost seem unique to Britain unfortunately. You know, you mentioned other countries in Europe, other countries are able to sort of seemingly to us bypass some of the strictures of the ECO. I think that it really is unfortunately the situation in Britain where we have this tendency to goldplate rules and to take rules and to just overly imagine them. And I think that is the result of sort of 20 years of a of a legal system and a judiciary that has really forfeited its its sort of ability to understand law as a as a as a doctrine and to actually just interpret it into a philosophy and an an avenue for sort of political campaigning. So we have a very particular problem in this country and I think any government that's serious about tackling this has to come in with an absolute psych. It has to do away with things such as immigration tribunal. It has to scrap all funding for leftwing charities that provide that legal advice sort of um covertly and it has to also do away with of course then the state support as well the legal aid as well and we have to do a lot about our particularly our immigration tribunal judges. Uh you know leaving the ECR is one thing. I mean, arguably a lot of people say, you know, if we had sensible immigration tribunal judges, uh, you know, we probably could say in the ECR and solve our migrant crisis because you don't, it's a, it's about interpretation. So, these, uh, left-wing judges, interpret the ECR according to their worldview. Uh, and that is that, uh, you know, Britain is bad and, uh, foreigners are great. Uh therefore, if you're a pedophile who's just done five years in jail, uh these idiots will not deport you back to your country because you got a right to a family life. Or you may be, I mean, this is always my favorite, a pedophile is allowed to stay because he claims or says, \\\"Uh, if you send me back to Syria or Somalia, they take a very dim view of pedophiles over there, so I'll be persecuted.\\\" As if as if as Oh, yeah. Well, that's fair enough. cuz we really like\",\n          \"the Joe Rogan experience. That's the thing. That's the thing I always take away from it is just like, damn, dude. If we could just get organized even for like two or three years, we could just fix everything. Like we have like the people really do have the power at least right now for for a short window of time. But we really do. I mean, we but people have to understand that we are all in this together and that there's organizations that want to drive us apart. And the way to work out our differences is conf having conversations and negotiations and figuring out how to work it out. It's not lighting cop cars on fire like this is you know. Yeah. But the spirit of those like not to defend any of that crap but I just that rebellious nature in us is important too though. It just has to be it has to be directed correctly. You shouldn't be burning Whimos while holding a Mexican flag trying not to get sent back to Mexico. I mean, you're confusing the [\\u00a0__\\u00a0] out of me, dog. Like, who is your oppressor? Is it the electric car? Is it the country which you know, you want to stay, but you're holding a flag of another country? Like, what? Why are you wearing a mask? Are you proud of this? Do you not want to get arrested? What are we doing? Are you scared of COVID? Like, I want to know. Well, it goes back to what you said about massi manipulation and also like we don't we've all sort of lost our identity. That's why politics has become so prevalent in like the way people represent themselves to other people and like you know that's like as as our as our culture and our tradition and like sort of the the knowledge of where our families and all of that stuff comes from. like we're just sort of all we're just little boats out in a big ocean and we're looking for somewhere to we're looking for some kind of identity to reach out and grab and politics they make politics so easy to reach out and grab and make just like in the same way that people just absorb themselves into sports. Exactly. You know, they're way out of shape, but they that like they refer to their sports team as we like our our defense did really Jimmy does that all the time. We won. Talks about a college where I'm from. Some college where he's from. Well, that's maybe Get out of here. Maybe if he's from there though, then it doesn't count. I'm just [\\u00a0__\\u00a0] around. I'm a I'm not a team sports guy, you know? I'm a combat sports guy and I would never say we won. Like if Kamaro Usman beat somebody, I'd never say we won. You know, Kamar would call me up. What the [\\u00a0__\\u00a0] are you saying, man? We You know what I did in camp? You know, I mean, rounds I sparred, you know? Yeah. All the punches you took. It's so crazy. But if there's a group of guys, you can say we. But that's I see that like I just see that becoming more and more prevalent where there's not like I don't know. It's sort of just like it's kind of even even to expand on the thought of it. It's even like the way that now we've all just sort of we're all in these subcategories the way we would be if we were in prison. We're all like, you know, like in the same way that when we use the word black and white to describe like how many different types of white and black are there that all just get merged? It's like it's it like creates this maybe like group identity that's a lot easier to control like Oh, for sure. Well, and then it it shifts over time. Like my family wasn't white. My family was Italian. They were they were disparaged when they first came to America from Europe. And my grandfather used to tell me terrible stories of what happened to him when he was a boy living in America as an Italian. They treated them the same way terribly racist people were treating people from Guatemala that sneak in here. It's the same kind of thing. Yeah. And then after a while they sort of integrated and now I'm white. Yeah. Now now you're just a white person. I'm just a regular white. But it's easy now in n like in big public narrative and stuff to it's e it's a lot easier to accuse you and 30 other different nationalities of people who were all very culturally different and unique and just call all of you white people and then pick the worst thing that one of those nationalities did and just cast it among the whole group. It happens with that with every ethnicity, every identity. The go the goal is to like put everyone in the world in one of three or four buckets and then hopefully figure out how to just put all of them into one bucket eventually. It's like it's just m it's just it's so much easier to control two or three different types of people than it is 30 or 40 or 100 or a thousand, you know, which is also, I think, why they never fix the problems that ail our inner cities. They they want to keep that conflict. I really believe that because if somebody wanted to have a better, stronger economy, the first thing you would do is you want more people in the workforce. So you'd want less people that are disenfranchised, completely out of society, felons, all that stuff. That doesn't do anything but cost the country money, right? Unless you have private prisons. Now in private prisons, those people become a business and then that business contributes to the escalation of laws. They want to make sure the laws stay in place because that way their business is always full. They have plenty of customers. Their customers are human beings that they turn into batteries to generate money. That's what it is. It's like those people, every person they have in there, they get more money, which is wild. It's wild that we allow that. But then it's also like keeping a certain amount of crime in certain areas ensures that you're always going to have debates over law enforcement. You're always going to have conversations over disenfranch, we need DEI, we need this, we need quotas, we need to hire more people of this or of that. Ignoring the fact that these a lot of these things, especially with universities, are the most racist, especially towards Asians. They're racist as [\\u00a0__\\u00a0] towards Asians. There's lawsuits about it. Harvard is is that still going on? the Harvard lawsuit where they specifically made their application process, like the whole acceptance process, more difficult for Asians because they were kicking too much ass. They had too many like Asian people that were willing to [\\u00a0__\\u00a0] work their ass off, study 12 hours a day, get straight A's. They're like, man, there's too many of these folks. We got to make it tougher. What did they do to make it more difficult? Specifically, they attached a bunch of things. I believe the argument is they attached a bunch of things like social stuff like how much do you uh engage in you know activism how often are you involved in you know social activities on campus you know what other things are you doing other than just pure academic work they're like trying to slow them down they're literally trying to slow them down. Yeah. Um that's another great example too like uh like even just to even just to that they can blanket Asian like that as such a like like it's Indian, it's Chinese, there's a lot of but yeah, people that come from a hard place are willing to work hard. That's the difference. And the the problem with meritocracy is that some [\\u00a0__\\u00a0] will go for it. And if you get a whole country of people going for it, that gets scary for the people that just want to take naps. It's the same psychology that goes in like in a lot of the smaller Appalachin towns like um like where we where we recorded was really close to Bramwell, West Virginia. But if you look at like even if you look at Bramwell, West Virginia and their recent political history like the last mayor they had, she she embezzled money from the town and there was like you know and this isn't a very small t like so so government corruption exists like everywhere and it almost is like maybe in those big cities. I I I understand definitely that I think things are intentionally neglected like to create chaos and to create this like you said this need for more resources and more but it's also just that maybe a lot of those people that are in positions are just very spineless and self-centered and like they don't even care that people are dying in their streets. They're worried about the the the money that can be made in the ego and the power of it. It goes back to kind of what I said in that arc speech about lack of leadership. I just see that like if we had people in big cities or in small Appalachin towns that had like a real backbone to them and like and and had they were in a real position of like leadership where they wanted to fix things that a lot of that stuff would get addressed and covered. But we just don't have the right people in power maybe even is what it is even in even in local and state government. The right people don't run. They don't want that job, man. They don't want that smoked. They don't want people attacking them. They don't want any of it. The right people are the people that don't want to be president. It's almost It's almost like they've made these positions only appealing to people who are like sort of criminals. Sociopaths are criminals. Yeah. Real for real. Like, who the [\\u00a0__\\u00a0] wants to run everything? You got to be crazy. I don't even like running my whole house. I don't like having employees. It's too much. It's too much responsibility. What do you think would happen if just some normal people ran the country, though? Like just some average Joe? Like, what if me and you just went and ran the What if me if you ran for president? What would happen? They would be get killed. Would you put a [\\u00a0__\\u00a0] convertible? They would definitely shoot. They would definitely be able to hit my big head. That's for sure. They wouldn't My head's not that little either. You want a cigar? Yeah, let's do it. People in power have always been horrible. Mhm. Yeah. People when they get unchecked power have always been horrible. That's why directionally like this whole no kings protest that's supposed to go down on Saturday. Directionally it's correct. Like you don't want kings. You don't want oligarchs. But who's funding it? Well, it turns out it's funded by an oligarch. It's funed by a lady worth $20 billion who is the aist to Walmart who Walmart a company that employs cheap labor and sells a lot of stuff from China that would be affected by tariffs you know it's like that with all of them though it's like it's like that with everything man everything is like it presents as being this moral situation like they're really looking out for you they're really looking out for people there's they're never really looking out for people there's always some primary profit motive that's causing any organized thing. All this it's never for the human race. It's ne unless the people are all on mushrooms. It's never for the human race. And until mushrooms get legalized, that's probably never going to happen. And that's the real battle. The real battle is what gets legal first, AI or mushrooms, you know? Yeah. It's both of us will lead towards God. Both of them will lead towards God, but one with a completely different outcome. I've it's going to take me like four or five times listening to it to be able to talk about it, but the I've went back and listened to the to the maps maps of meaning on Audible and it's one of Jordan's earlier works, you know, and he's talking about society and how it's structured and basically talks about like the motivations and the origins of why people always resort to evil, you know, like in this I mean we talk so much about the Holocaust, but not at all about all the other horrible tragedies that happened there at the same time. But even like talking about with Russia, like just think about the Soviet Union and what happened there and how easily people were turned against. It's just we I this little moment in time we're in is just so we should just be so thankful for it. Even though it is mass chaos right now, like the fact that we can the fact that people are allowed to speak freely and do things and have have the influence and power they do is just nuts when you think about you're right. I mean is this the the same crazy people that we're arguing about today have always existed in different forms and with different names and faces but but we are better off today than anybody else in human history and this is a struggle and it is a battle but I think we can come out of this on the other side if we all realize that we're being played against each other and that's where it's important you know when you're paying people to protest you're leaving pallets of bricks around and you're organizing the whole thing and you're shipping people in on buses and you're making sure that all the people show up at a certain amount of time and they're all compensated and you give them water and snacks. Like, we got to realize what's going on here. This is not for you. When you light your city on fire and you burn cop cars, it's never good. It's not good for you. It's not good for the cause. They're not going to change the laws. One thing that I heard I I heard from Trump today that I thought was very promising is that he wants to make an executive order where uh people that are here for a long time that have been like working on farms that are undocumented that they won't be targeted and that they'll be exempt from all this stuff. This is my feeling like if you got here and you're you've integrated into our society, yeah, maybe you shouldn't have snuck in, but you did it and you're not breaking any laws. You're a hardworking person. Those those people need a path to citizenship, man. Because if you don't, then they're just pred they're just prayed upon by people that will take advantage of the fact that they're undocumented and not pay them what they're legally supposed to pay them and not give them benefits if they're legally supposed to have benefits and they can't say anything because they're worried that immigration is going to get called on them. So the these people are in this constant state of anxiety and then they hear about the ICE raids like at Home Depot. Like what the [\\u00a0__\\u00a0] Yeah, there was a there was a big ICE raid um at the at the Facebook data center job. not far from my place where I used to have to go when I was Facebook data center ice raid. Yeah, the Facebook project. It's in um it's not far from me in Virginia. I think it's technically would be in would it be South Boston I think it's technically in ICE didn't bribe or Facebook didn't bribe Ice Facebook. I would have [\\u00a0__\\u00a0] bought ice some new cars. There's a big job that um a big job site that I used to have to go on some that's in um the southern part of Virginia, like not far from North Carolina. And I somebody was sending me pictures there from the other day, but they had a big ice raid and there was dudes like running through the like people were just escaping the job like running away from the job and stuff. It was nuts. But why why like gang members? Yes. Criminals, yes. This why? Why? Like I think as crazy as it sounds, the only way to do this and look like you have a heart is evaluate people on a case- by case basis. Like there's good people.\"\n        ],\n        \"semantic_type\": \"\",\n        \"description\": \"\"\n      }\n    }\n  ]\n}"
            }
          },
          "metadata": {},
          "execution_count": 109
        }
      ]
    },
    {
      "cell_type": "code",
      "source": [
        "# Which keywords appear the most?\n",
        "from collections import Counter\n",
        "\n",
        "found_terms = []\n",
        "\n",
        "for text in df2.loc[df2[\"mentions_migration\"], \"transcript_lower\"].dropna():\n",
        "    for kw in migration_keywords:\n",
        "        if kw in text:\n",
        "            found_terms.append(kw)\n",
        "\n",
        "Counter(found_terms).most_common()\n"
      ],
      "metadata": {
        "id": "sQNFL6YF0YXG",
        "outputId": "c227a80f-a21e-427a-82c5-cb527aaecf60",
        "colab": {
          "base_uri": "https://localhost:8080/"
        }
      },
      "id": "sQNFL6YF0YXG",
      "execution_count": 111,
      "outputs": [
        {
          "output_type": "execute_result",
          "data": {
            "text/plain": [
              "[('illegal', 9),\n",
              " ('migration', 8),\n",
              " ('immigration', 8),\n",
              " ('migrant', 7),\n",
              " ('border', 7),\n",
              " ('deport', 6),\n",
              " ('immigrant', 5),\n",
              " ('asylum', 4),\n",
              " ('citizenship', 2),\n",
              " ('visa', 1),\n",
              " ('undocumented', 1),\n",
              " ('refugee', 1)]"
            ]
          },
          "metadata": {},
          "execution_count": 111
        }
      ]
    },
    {
      "cell_type": "code",
      "source": [],
      "metadata": {
        "id": "IUzUfVeA0aUF"
      },
      "id": "IUzUfVeA0aUF",
      "execution_count": null,
      "outputs": []
    }
  ],
  "metadata": {
    "kernelspec": {
      "display_name": "gesis_iml",
      "language": "python",
      "name": "python3"
    },
    "language_info": {
      "codemirror_mode": {
        "name": "ipython",
        "version": 3
      },
      "file_extension": ".py",
      "mimetype": "text/x-python",
      "name": "python",
      "nbconvert_exporter": "python",
      "pygments_lexer": "ipython3",
      "version": "3.10.14"
    },
    "colab": {
      "provenance": []
    }
  },
  "nbformat": 4,
  "nbformat_minor": 5
}