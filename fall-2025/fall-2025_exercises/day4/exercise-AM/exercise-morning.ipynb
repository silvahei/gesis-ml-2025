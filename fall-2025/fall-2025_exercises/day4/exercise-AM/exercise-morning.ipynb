{
  "cells": [
    {
      "cell_type": "markdown",
      "metadata": {
        "id": "qVmpaC3nEinr"
      },
      "source": [
        "# Exercise SML -- Morning day 4\n",
        "\n",
        "### Option 1: practice with the ImDB data\n",
        "\n",
        "* Reproduce examples from the book for SML on the IMDB data (11.2, 11.3, 11.4) (check [codefrombook.py](codefrombook.py) if you do not want to type the code)\n",
        "* Play around with different options! Can you tweak the models and make them even better? Take a look back at the slides of day1-afternoon and day2-morning where we compared different vectorizers as well!\n",
        "\n",
        "### Option 2: practice with the data from [Vermeer](/fall-2025/fall-2025_exercises/day4/exercises/data-vermeer/)\n",
        "\n",
        "* Work with the file `train.csv` and `test.csv` in the folder [`data-vermeer`](/fall-2025/fall-2025_exercises/day4/exercises/data-vermeer/) and train a classifier using this data.\n",
        "\n",
        "### BONUS: Try it with your own data!"
      ]
    },
    {
      "cell_type": "markdown",
      "metadata": {
        "id": "T0Xp4G-hEins"
      },
      "source": [
        "### Classifying news categories with data-vermeer"
      ]
    },
    {
      "cell_type": "code",
      "execution_count": 1,
      "metadata": {
        "colab": {
          "base_uri": "https://localhost:8080/"
        },
        "id": "sqmbR_MtEins",
        "outputId": "63d270dd-e41b-40a6-c69a-ece742fae3ef"
      },
      "outputs": [
        {
          "output_type": "execute_result",
          "data": {
            "text/plain": [
              "131072"
            ]
          },
          "metadata": {},
          "execution_count": 1
        }
      ],
      "source": [
        "import sys\n",
        "import csv\n",
        "\n",
        "from sklearn.svm import SVC\n",
        "from sklearn.feature_extraction.text import CountVectorizer, TfidfVectorizer\n",
        "from sklearn.naive_bayes import MultinomialNB\n",
        "from sklearn.svm import LinearSVC\n",
        "from sklearn.linear_model import LogisticRegression\n",
        "from sklearn.ensemble import RandomForestClassifier\n",
        "from sklearn.naive_bayes import MultinomialNB\n",
        "from sklearn import metrics\n",
        "\n",
        "csv.field_size_limit(2**31-1)"
      ]
    },
    {
      "cell_type": "code",
      "source": [
        "\n",
        "\n",
        "# clone the repo into Colab's working directory\n",
        "!git clone https://github.com/annekroon/gesis-machine-learning.git\n",
        "\n",
        "# move into the correct exercises folder\n",
        "%cd gesis-machine-learning/fall-2025/fall-2025_exercises/day4/\n"
      ],
      "metadata": {
        "colab": {
          "base_uri": "https://localhost:8080/"
        },
        "id": "rkg93uGeHSSy",
        "outputId": "6614af70-4c95-4a67-fb0e-475d2a65cdfa"
      },
      "execution_count": 4,
      "outputs": [
        {
          "output_type": "stream",
          "name": "stdout",
          "text": [
            "Cloning into 'gesis-machine-learning'...\n",
            "remote: Enumerating objects: 1774, done.\u001b[K\n",
            "remote: Counting objects: 100% (41/41), done.\u001b[K\n",
            "remote: Compressing objects: 100% (26/26), done.\u001b[K\n",
            "remote: Total 1774 (delta 18), reused 15 (delta 15), pack-reused 1733 (from 2)\u001b[K\n",
            "Receiving objects: 100% (1774/1774), 249.36 MiB | 21.31 MiB/s, done.\n",
            "Resolving deltas: 100% (928/928), done.\n",
            "Updating files: 100% (660/660), done.\n",
            "/content/gesis-machine-learning/fall-2025/fall-2025_exercises/day4\n"
          ]
        }
      ]
    },
    {
      "cell_type": "code",
      "execution_count": 9,
      "metadata": {
        "id": "4zU3VDjBEint"
      },
      "outputs": [],
      "source": [
        "def get_data(t='test'):\n",
        "    text= []\n",
        "    label= []\n",
        "\n",
        "    with open(f'data-vermeer/{t}.csv') as fi:\n",
        "        next(fi) # skips header row\n",
        "        reader = csv.reader(fi, delimiter=',')\n",
        "\n",
        "        for row in reader:\n",
        "            text.append(row[0])\n",
        "            label.append(row[1])\n",
        "\n",
        "    return text, label"
      ]
    },
    {
      "cell_type": "code",
      "execution_count": 10,
      "metadata": {
        "id": "d6MeTJYAEinu"
      },
      "outputs": [],
      "source": [
        "# load data with existing train/test split\n",
        "X_test, y_test = get_data('test')\n",
        "X_train, y_train = get_data('train')"
      ]
    },
    {
      "cell_type": "code",
      "execution_count": 11,
      "metadata": {
        "colab": {
          "base_uri": "https://localhost:8080/"
        },
        "id": "WPdBddxnEinu",
        "outputId": "4e109a9c-2e77-427e-d310-0e2565038894"
      },
      "outputs": [
        {
          "output_type": "stream",
          "name": "stdout",
          "text": [
            "698 698\n",
            "2788 2788\n"
          ]
        }
      ],
      "source": [
        "print(len(X_test), len(y_test))\n",
        "print(len(X_train), len(y_train))"
      ]
    },
    {
      "cell_type": "markdown",
      "metadata": {
        "id": "XrCO4DDuEinu"
      },
      "source": [
        "- Which configuration achieves the best performance? Based on which metrics?\n",
        "- Can you add to this configuration? (e.g., n_grams, custom tokenizer, ...?)"
      ]
    },
    {
      "cell_type": "code",
      "execution_count": 12,
      "metadata": {
        "colab": {
          "base_uri": "https://localhost:8080/"
        },
        "id": "9ka7HKWIEinu",
        "outputId": "315cdf3d-e80e-4cd9-fec0-8c25943217fd"
      },
      "outputs": [
        {
          "output_type": "stream",
          "name": "stdout",
          "text": [
            "NB with Count\n",
            "               precision    recall  f1-score   support\n",
            "\n",
            "     business       0.48      0.76      0.59       101\n",
            "entertainment       0.95      0.73      0.83       400\n",
            "        other       0.52      0.58      0.55        73\n",
            "     politics       0.71      0.85      0.78       124\n",
            "\n",
            "     accuracy                           0.74       698\n",
            "    macro avg       0.66      0.73      0.68       698\n",
            " weighted avg       0.79      0.74      0.75       698\n",
            "\n",
            "\n",
            "\n",
            "NB with TfIdf\n",
            "               precision    recall  f1-score   support\n",
            "\n",
            "     business       0.80      0.16      0.26       101\n",
            "entertainment       0.67      0.99      0.80       400\n",
            "        other       1.00      0.11      0.20        73\n",
            "     politics       0.90      0.53      0.67       124\n",
            "\n",
            "     accuracy                           0.70       698\n",
            "    macro avg       0.84      0.45      0.48       698\n",
            " weighted avg       0.76      0.70      0.64       698\n",
            "\n",
            "\n",
            "\n",
            "LogReg with Count\n",
            "               precision    recall  f1-score   support\n",
            "\n",
            "     business       0.63      0.56      0.59       101\n",
            "entertainment       0.83      0.94      0.88       400\n",
            "        other       0.74      0.51      0.60        73\n",
            "     politics       0.90      0.77      0.83       124\n",
            "\n",
            "     accuracy                           0.81       698\n",
            "    macro avg       0.77      0.69      0.73       698\n",
            " weighted avg       0.80      0.81      0.80       698\n",
            "\n",
            "\n",
            "\n",
            "LogReg with TfIdf\n",
            "               precision    recall  f1-score   support\n",
            "\n",
            "     business       0.80      0.47      0.59       101\n",
            "entertainment       0.75      0.98      0.85       400\n",
            "        other       0.89      0.34      0.50        73\n",
            "     politics       0.90      0.65      0.75       124\n",
            "\n",
            "     accuracy                           0.78       698\n",
            "    macro avg       0.84      0.61      0.67       698\n",
            " weighted avg       0.80      0.78      0.76       698\n",
            "\n",
            "\n",
            "\n",
            "SVM with Count - rbf kernel\n",
            "               precision    recall  f1-score   support\n",
            "\n",
            "     business       0.72      0.29      0.41       101\n",
            "entertainment       0.68      0.99      0.81       400\n",
            "        other       1.00      0.12      0.22        73\n",
            "     politics       0.93      0.52      0.66       124\n",
            "\n",
            "     accuracy                           0.71       698\n",
            "    macro avg       0.83      0.48      0.53       698\n",
            " weighted avg       0.77      0.71      0.66       698\n",
            "\n",
            "\n",
            "\n",
            "SVM with Count - linear kernel\n",
            "               precision    recall  f1-score   support\n",
            "\n",
            "     business       0.52      0.54      0.53       101\n",
            "entertainment       0.82      0.89      0.86       400\n",
            "        other       0.60      0.49      0.54        73\n",
            "     politics       0.90      0.73      0.80       124\n",
            "\n",
            "     accuracy                           0.77       698\n",
            "    macro avg       0.71      0.66      0.68       698\n",
            " weighted avg       0.77      0.77      0.77       698\n",
            "\n",
            "\n",
            "\n",
            "SVM with Tfidf - rbf kernel\n",
            "               precision    recall  f1-score   support\n",
            "\n",
            "     business       0.79      0.51      0.62       101\n",
            "entertainment       0.76      0.97      0.85       400\n",
            "        other       0.85      0.38      0.53        73\n",
            "     politics       0.90      0.65      0.76       124\n",
            "\n",
            "     accuracy                           0.79       698\n",
            "    macro avg       0.82      0.63      0.69       698\n",
            " weighted avg       0.80      0.79      0.77       698\n",
            "\n",
            "\n",
            "\n",
            "SVM with Tfidf - linear kernel\n",
            "               precision    recall  f1-score   support\n",
            "\n",
            "     business       0.65      0.58      0.61       101\n",
            "entertainment       0.82      0.94      0.87       400\n",
            "        other       0.74      0.47      0.57        73\n",
            "     politics       0.91      0.74      0.82       124\n",
            "\n",
            "     accuracy                           0.80       698\n",
            "    macro avg       0.78      0.68      0.72       698\n",
            " weighted avg       0.80      0.80      0.80       698\n",
            "\n",
            "\n",
            "\n"
          ]
        }
      ],
      "source": [
        "configurations = [('NB with Count', CountVectorizer(min_df=5, max_df=.5), MultinomialNB()),\n",
        "                 ('NB with TfIdf', TfidfVectorizer(min_df=5, max_df=.5), MultinomialNB()),\n",
        "                 ('LogReg with Count', CountVectorizer(min_df=5, max_df=.5), LogisticRegression(solver='liblinear')),\n",
        "                 ('LogReg with TfIdf', TfidfVectorizer(min_df=5, max_df=.5), LogisticRegression(solver='liblinear')),\n",
        "                 ('SVM with Count - rbf kernel', CountVectorizer(min_df=5, max_df=.5), SVC(kernel='rbf')),\n",
        "                 ('SVM with Count - linear kernel', CountVectorizer(min_df=5, max_df=.5), SVC(kernel='linear')),\n",
        "                 ('SVM with Tfidf - rbf kernel', TfidfVectorizer(min_df=5, max_df=.5), SVC(kernel='rbf')),\n",
        "                 ('SVM with Tfidf - linear kernel', TfidfVectorizer(min_df=5, max_df=.5), SVC(kernel='linear')),\n",
        "\n",
        "                 ]\n",
        "\n",
        "for description, vectorizer, classifier in configurations:\n",
        "    print(description)\n",
        "    X_tr = vectorizer.fit_transform(X_train)\n",
        "    X_te = vectorizer.transform(X_test)\n",
        "    classifier.fit(X_tr, y_train)\n",
        "    y_pred = classifier.predict(X_te)\n",
        "    print(metrics.classification_report(y_test, y_pred) )\n",
        "    print('\\n')"
      ]
    },
    {
      "cell_type": "code",
      "source": [
        "# try with bigrams\n",
        "configurations = [\n",
        "    ('LogReg with Count bigrams',\n",
        "     CountVectorizer(min_df=5, max_df=0.5, ngram_range=(1,2)),\n",
        "     LogisticRegression(solver='liblinear')),\n",
        "\n",
        "    ('SVM with Count bigrams - linear kernel',\n",
        "     CountVectorizer(min_df=5, max_df=0.5, ngram_range=(1,2)),\n",
        "     SVC(kernel='linear'))\n",
        "]\n",
        "\n",
        "# Reload the data to ensure X_train and X_test contain the original text\n",
        "X_test, y_test = get_data('test')\n",
        "X_train, y_train = get_data('train')\n",
        "\n",
        "\n",
        "for description, vectorizer, classifier in configurations:\n",
        "    print(description)\n",
        "    X_tr = vectorizer.fit_transform(X_train)\n",
        "    X_te = vectorizer.transform(X_test)\n",
        "    classifier.fit(X_tr, y_train)\n",
        "    y_pred = classifier.predict(X_te)\n",
        "    print(metrics.classification_report(y_test, y_pred))\n",
        "    print('\\n')"
      ],
      "metadata": {
        "colab": {
          "base_uri": "https://localhost:8080/"
        },
        "id": "YeIF6eUDNCkm",
        "outputId": "158e8785-0cbd-478e-890a-58a0a2da9bfa"
      },
      "execution_count": 19,
      "outputs": [
        {
          "output_type": "stream",
          "name": "stdout",
          "text": [
            "LogReg with Count bigrams\n",
            "               precision    recall  f1-score   support\n",
            "\n",
            "     business       0.62      0.56      0.59       101\n",
            "entertainment       0.82      0.94      0.87       400\n",
            "        other       0.73      0.48      0.58        73\n",
            "     politics       0.90      0.71      0.79       124\n",
            "\n",
            "     accuracy                           0.80       698\n",
            "    macro avg       0.77      0.67      0.71       698\n",
            " weighted avg       0.79      0.80      0.79       698\n",
            "\n",
            "\n",
            "\n",
            "SVM with Count bigrams - linear kernel\n",
            "               precision    recall  f1-score   support\n",
            "\n",
            "     business       0.56      0.56      0.56       101\n",
            "entertainment       0.81      0.91      0.86       400\n",
            "        other       0.67      0.51      0.58        73\n",
            "     politics       0.89      0.69      0.78       124\n",
            "\n",
            "     accuracy                           0.78       698\n",
            "    macro avg       0.73      0.67      0.69       698\n",
            " weighted avg       0.78      0.78      0.77       698\n",
            "\n",
            "\n",
            "\n"
          ]
        }
      ]
    },
    {
      "cell_type": "code",
      "execution_count": null,
      "metadata": {
        "id": "DcwtvWidEinu"
      },
      "outputs": [],
      "source": []
    }
  ],
  "metadata": {
    "kernelspec": {
      "display_name": "gesis_iml",
      "language": "python",
      "name": "python3"
    },
    "language_info": {
      "codemirror_mode": {
        "name": "ipython",
        "version": 3
      },
      "file_extension": ".py",
      "mimetype": "text/x-python",
      "name": "python",
      "nbconvert_exporter": "python",
      "pygments_lexer": "ipython3",
      "version": "3.10.18"
    },
    "colab": {
      "provenance": []
    }
  },
  "nbformat": 4,
  "nbformat_minor": 0
}